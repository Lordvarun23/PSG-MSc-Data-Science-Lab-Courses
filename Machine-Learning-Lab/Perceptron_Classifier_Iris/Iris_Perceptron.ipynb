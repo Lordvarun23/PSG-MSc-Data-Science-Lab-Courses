{
  "cells": [
    {
      "cell_type": "markdown",
      "metadata": {
        "id": "eVgRi8w_N2rK"
      },
      "source": [
        "# **Perceptron :**\n"
      ]
    },
    {
      "cell_type": "code",
      "source": [
        "from google.colab import drive\n",
        "drive.mount('/content/drive')"
      ],
      "metadata": {
        "id": "HenL8KYrXoyv"
      },
      "execution_count": null,
      "outputs": []
    },
    {
      "cell_type": "code",
      "execution_count": null,
      "metadata": {
        "id": "vrE5vX5fN1Ds"
      },
      "outputs": [],
      "source": [
        "import pandas as pd\n",
        "import numpy as np\n",
        "\n",
        "df = pd.read_csv(\"/content/drive/MyDrive/ml datasets/IRIS/Iris.csv\")"
      ]
    },
    {
      "cell_type": "code",
      "source": [
        "df.head()"
      ],
      "metadata": {
        "colab": {
          "base_uri": "https://localhost:8080/",
          "height": 206
        },
        "id": "CnhjDKPOGFBN",
        "outputId": "7ae5c17e-ac68-4bbc-dcad-c3fc5628d2d6"
      },
      "execution_count": null,
      "outputs": [
        {
          "output_type": "execute_result",
          "data": {
            "text/plain": [
              "   Id  SepalLengthCm  SepalWidthCm  PetalLengthCm  PetalWidthCm      Species\n",
              "0   1            5.1           3.5            1.4           0.2  Iris-setosa\n",
              "1   2            4.9           3.0            1.4           0.2  Iris-setosa\n",
              "2   3            4.7           3.2            1.3           0.2  Iris-setosa\n",
              "3   4            4.6           3.1            1.5           0.2  Iris-setosa\n",
              "4   5            5.0           3.6            1.4           0.2  Iris-setosa"
            ],
            "text/html": [
              "\n",
              "  <div id=\"df-9f7936be-8bcc-46a8-a775-be904b820df8\">\n",
              "    <div class=\"colab-df-container\">\n",
              "      <div>\n",
              "<style scoped>\n",
              "    .dataframe tbody tr th:only-of-type {\n",
              "        vertical-align: middle;\n",
              "    }\n",
              "\n",
              "    .dataframe tbody tr th {\n",
              "        vertical-align: top;\n",
              "    }\n",
              "\n",
              "    .dataframe thead th {\n",
              "        text-align: right;\n",
              "    }\n",
              "</style>\n",
              "<table border=\"1\" class=\"dataframe\">\n",
              "  <thead>\n",
              "    <tr style=\"text-align: right;\">\n",
              "      <th></th>\n",
              "      <th>Id</th>\n",
              "      <th>SepalLengthCm</th>\n",
              "      <th>SepalWidthCm</th>\n",
              "      <th>PetalLengthCm</th>\n",
              "      <th>PetalWidthCm</th>\n",
              "      <th>Species</th>\n",
              "    </tr>\n",
              "  </thead>\n",
              "  <tbody>\n",
              "    <tr>\n",
              "      <th>0</th>\n",
              "      <td>1</td>\n",
              "      <td>5.1</td>\n",
              "      <td>3.5</td>\n",
              "      <td>1.4</td>\n",
              "      <td>0.2</td>\n",
              "      <td>Iris-setosa</td>\n",
              "    </tr>\n",
              "    <tr>\n",
              "      <th>1</th>\n",
              "      <td>2</td>\n",
              "      <td>4.9</td>\n",
              "      <td>3.0</td>\n",
              "      <td>1.4</td>\n",
              "      <td>0.2</td>\n",
              "      <td>Iris-setosa</td>\n",
              "    </tr>\n",
              "    <tr>\n",
              "      <th>2</th>\n",
              "      <td>3</td>\n",
              "      <td>4.7</td>\n",
              "      <td>3.2</td>\n",
              "      <td>1.3</td>\n",
              "      <td>0.2</td>\n",
              "      <td>Iris-setosa</td>\n",
              "    </tr>\n",
              "    <tr>\n",
              "      <th>3</th>\n",
              "      <td>4</td>\n",
              "      <td>4.6</td>\n",
              "      <td>3.1</td>\n",
              "      <td>1.5</td>\n",
              "      <td>0.2</td>\n",
              "      <td>Iris-setosa</td>\n",
              "    </tr>\n",
              "    <tr>\n",
              "      <th>4</th>\n",
              "      <td>5</td>\n",
              "      <td>5.0</td>\n",
              "      <td>3.6</td>\n",
              "      <td>1.4</td>\n",
              "      <td>0.2</td>\n",
              "      <td>Iris-setosa</td>\n",
              "    </tr>\n",
              "  </tbody>\n",
              "</table>\n",
              "</div>\n",
              "      <button class=\"colab-df-convert\" onclick=\"convertToInteractive('df-9f7936be-8bcc-46a8-a775-be904b820df8')\"\n",
              "              title=\"Convert this dataframe to an interactive table.\"\n",
              "              style=\"display:none;\">\n",
              "        \n",
              "  <svg xmlns=\"http://www.w3.org/2000/svg\" height=\"24px\"viewBox=\"0 0 24 24\"\n",
              "       width=\"24px\">\n",
              "    <path d=\"M0 0h24v24H0V0z\" fill=\"none\"/>\n",
              "    <path d=\"M18.56 5.44l.94 2.06.94-2.06 2.06-.94-2.06-.94-.94-2.06-.94 2.06-2.06.94zm-11 1L8.5 8.5l.94-2.06 2.06-.94-2.06-.94L8.5 2.5l-.94 2.06-2.06.94zm10 10l.94 2.06.94-2.06 2.06-.94-2.06-.94-.94-2.06-.94 2.06-2.06.94z\"/><path d=\"M17.41 7.96l-1.37-1.37c-.4-.4-.92-.59-1.43-.59-.52 0-1.04.2-1.43.59L10.3 9.45l-7.72 7.72c-.78.78-.78 2.05 0 2.83L4 21.41c.39.39.9.59 1.41.59.51 0 1.02-.2 1.41-.59l7.78-7.78 2.81-2.81c.8-.78.8-2.07 0-2.86zM5.41 20L4 18.59l7.72-7.72 1.47 1.35L5.41 20z\"/>\n",
              "  </svg>\n",
              "      </button>\n",
              "      \n",
              "  <style>\n",
              "    .colab-df-container {\n",
              "      display:flex;\n",
              "      flex-wrap:wrap;\n",
              "      gap: 12px;\n",
              "    }\n",
              "\n",
              "    .colab-df-convert {\n",
              "      background-color: #E8F0FE;\n",
              "      border: none;\n",
              "      border-radius: 50%;\n",
              "      cursor: pointer;\n",
              "      display: none;\n",
              "      fill: #1967D2;\n",
              "      height: 32px;\n",
              "      padding: 0 0 0 0;\n",
              "      width: 32px;\n",
              "    }\n",
              "\n",
              "    .colab-df-convert:hover {\n",
              "      background-color: #E2EBFA;\n",
              "      box-shadow: 0px 1px 2px rgba(60, 64, 67, 0.3), 0px 1px 3px 1px rgba(60, 64, 67, 0.15);\n",
              "      fill: #174EA6;\n",
              "    }\n",
              "\n",
              "    [theme=dark] .colab-df-convert {\n",
              "      background-color: #3B4455;\n",
              "      fill: #D2E3FC;\n",
              "    }\n",
              "\n",
              "    [theme=dark] .colab-df-convert:hover {\n",
              "      background-color: #434B5C;\n",
              "      box-shadow: 0px 1px 3px 1px rgba(0, 0, 0, 0.15);\n",
              "      filter: drop-shadow(0px 1px 2px rgba(0, 0, 0, 0.3));\n",
              "      fill: #FFFFFF;\n",
              "    }\n",
              "  </style>\n",
              "\n",
              "      <script>\n",
              "        const buttonEl =\n",
              "          document.querySelector('#df-9f7936be-8bcc-46a8-a775-be904b820df8 button.colab-df-convert');\n",
              "        buttonEl.style.display =\n",
              "          google.colab.kernel.accessAllowed ? 'block' : 'none';\n",
              "\n",
              "        async function convertToInteractive(key) {\n",
              "          const element = document.querySelector('#df-9f7936be-8bcc-46a8-a775-be904b820df8');\n",
              "          const dataTable =\n",
              "            await google.colab.kernel.invokeFunction('convertToInteractive',\n",
              "                                                     [key], {});\n",
              "          if (!dataTable) return;\n",
              "\n",
              "          const docLinkHtml = 'Like what you see? Visit the ' +\n",
              "            '<a target=\"_blank\" href=https://colab.research.google.com/notebooks/data_table.ipynb>data table notebook</a>'\n",
              "            + ' to learn more about interactive tables.';\n",
              "          element.innerHTML = '';\n",
              "          dataTable['output_type'] = 'display_data';\n",
              "          await google.colab.output.renderOutput(dataTable, element);\n",
              "          const docLink = document.createElement('div');\n",
              "          docLink.innerHTML = docLinkHtml;\n",
              "          element.appendChild(docLink);\n",
              "        }\n",
              "      </script>\n",
              "    </div>\n",
              "  </div>\n",
              "  "
            ]
          },
          "metadata": {},
          "execution_count": 4
        }
      ]
    },
    {
      "cell_type": "code",
      "source": [
        "df = df[:100]"
      ],
      "metadata": {
        "id": "HqMEPxK1G9-B"
      },
      "execution_count": null,
      "outputs": []
    },
    {
      "cell_type": "code",
      "source": [
        "df[\"Species\"] = df[\"Species\"].apply(lambda x: 1 if x==\"Iris-setosa\" else 0)"
      ],
      "metadata": {
        "id": "-eAELQM8HHMN"
      },
      "execution_count": null,
      "outputs": []
    },
    {
      "cell_type": "code",
      "source": [
        "df.columns"
      ],
      "metadata": {
        "colab": {
          "base_uri": "https://localhost:8080/"
        },
        "id": "83-f9vkzGQoM",
        "outputId": "d09009aa-05ee-4442-e6de-4df8137a8c41"
      },
      "execution_count": null,
      "outputs": [
        {
          "output_type": "execute_result",
          "data": {
            "text/plain": [
              "Index(['Id', 'SepalLengthCm', 'SepalWidthCm', 'PetalLengthCm', 'PetalWidthCm',\n",
              "       'Species'],\n",
              "      dtype='object')"
            ]
          },
          "metadata": {},
          "execution_count": 7
        }
      ]
    },
    {
      "cell_type": "code",
      "source": [
        "df"
      ],
      "metadata": {
        "id": "tMUKzf8IYGRP"
      },
      "execution_count": null,
      "outputs": []
    },
    {
      "cell_type": "code",
      "source": [
        "x = [[1]*100]\n",
        "for i in ['SepalLengthCm', 'SepalWidthCm', 'PetalLengthCm', 'PetalWidthCm']:\n",
        "  temp = []\n",
        "  for j in df[i]:\n",
        "    temp.append(j)\n",
        "  x.append(temp)\n",
        "x= np.array(x)\n",
        "x = x.T\n",
        "t = []\n",
        "for i in x:\n",
        "  t.append(list(i))\n",
        "x = t\n",
        "print(x)"
      ],
      "metadata": {
        "colab": {
          "base_uri": "https://localhost:8080/"
        },
        "id": "pf5R10-XGLqo",
        "outputId": "ef12ba24-c65f-4ad8-ef53-3a4725d4aa83"
      },
      "execution_count": null,
      "outputs": [
        {
          "output_type": "stream",
          "name": "stdout",
          "text": [
            "[[1.0, 5.1, 3.5, 1.4, 0.2], [1.0, 4.9, 3.0, 1.4, 0.2], [1.0, 4.7, 3.2, 1.3, 0.2], [1.0, 4.6, 3.1, 1.5, 0.2], [1.0, 5.0, 3.6, 1.4, 0.2], [1.0, 5.4, 3.9, 1.7, 0.4], [1.0, 4.6, 3.4, 1.4, 0.3], [1.0, 5.0, 3.4, 1.5, 0.2], [1.0, 4.4, 2.9, 1.4, 0.2], [1.0, 4.9, 3.1, 1.5, 0.1], [1.0, 5.4, 3.7, 1.5, 0.2], [1.0, 4.8, 3.4, 1.6, 0.2], [1.0, 4.8, 3.0, 1.4, 0.1], [1.0, 4.3, 3.0, 1.1, 0.1], [1.0, 5.8, 4.0, 1.2, 0.2], [1.0, 5.7, 4.4, 1.5, 0.4], [1.0, 5.4, 3.9, 1.3, 0.4], [1.0, 5.1, 3.5, 1.4, 0.3], [1.0, 5.7, 3.8, 1.7, 0.3], [1.0, 5.1, 3.8, 1.5, 0.3], [1.0, 5.4, 3.4, 1.7, 0.2], [1.0, 5.1, 3.7, 1.5, 0.4], [1.0, 4.6, 3.6, 1.0, 0.2], [1.0, 5.1, 3.3, 1.7, 0.5], [1.0, 4.8, 3.4, 1.9, 0.2], [1.0, 5.0, 3.0, 1.6, 0.2], [1.0, 5.0, 3.4, 1.6, 0.4], [1.0, 5.2, 3.5, 1.5, 0.2], [1.0, 5.2, 3.4, 1.4, 0.2], [1.0, 4.7, 3.2, 1.6, 0.2], [1.0, 4.8, 3.1, 1.6, 0.2], [1.0, 5.4, 3.4, 1.5, 0.4], [1.0, 5.2, 4.1, 1.5, 0.1], [1.0, 5.5, 4.2, 1.4, 0.2], [1.0, 4.9, 3.1, 1.5, 0.1], [1.0, 5.0, 3.2, 1.2, 0.2], [1.0, 5.5, 3.5, 1.3, 0.2], [1.0, 4.9, 3.1, 1.5, 0.1], [1.0, 4.4, 3.0, 1.3, 0.2], [1.0, 5.1, 3.4, 1.5, 0.2], [1.0, 5.0, 3.5, 1.3, 0.3], [1.0, 4.5, 2.3, 1.3, 0.3], [1.0, 4.4, 3.2, 1.3, 0.2], [1.0, 5.0, 3.5, 1.6, 0.6], [1.0, 5.1, 3.8, 1.9, 0.4], [1.0, 4.8, 3.0, 1.4, 0.3], [1.0, 5.1, 3.8, 1.6, 0.2], [1.0, 4.6, 3.2, 1.4, 0.2], [1.0, 5.3, 3.7, 1.5, 0.2], [1.0, 5.0, 3.3, 1.4, 0.2], [1.0, 7.0, 3.2, 4.7, 1.4], [1.0, 6.4, 3.2, 4.5, 1.5], [1.0, 6.9, 3.1, 4.9, 1.5], [1.0, 5.5, 2.3, 4.0, 1.3], [1.0, 6.5, 2.8, 4.6, 1.5], [1.0, 5.7, 2.8, 4.5, 1.3], [1.0, 6.3, 3.3, 4.7, 1.6], [1.0, 4.9, 2.4, 3.3, 1.0], [1.0, 6.6, 2.9, 4.6, 1.3], [1.0, 5.2, 2.7, 3.9, 1.4], [1.0, 5.0, 2.0, 3.5, 1.0], [1.0, 5.9, 3.0, 4.2, 1.5], [1.0, 6.0, 2.2, 4.0, 1.0], [1.0, 6.1, 2.9, 4.7, 1.4], [1.0, 5.6, 2.9, 3.6, 1.3], [1.0, 6.7, 3.1, 4.4, 1.4], [1.0, 5.6, 3.0, 4.5, 1.5], [1.0, 5.8, 2.7, 4.1, 1.0], [1.0, 6.2, 2.2, 4.5, 1.5], [1.0, 5.6, 2.5, 3.9, 1.1], [1.0, 5.9, 3.2, 4.8, 1.8], [1.0, 6.1, 2.8, 4.0, 1.3], [1.0, 6.3, 2.5, 4.9, 1.5], [1.0, 6.1, 2.8, 4.7, 1.2], [1.0, 6.4, 2.9, 4.3, 1.3], [1.0, 6.6, 3.0, 4.4, 1.4], [1.0, 6.8, 2.8, 4.8, 1.4], [1.0, 6.7, 3.0, 5.0, 1.7], [1.0, 6.0, 2.9, 4.5, 1.5], [1.0, 5.7, 2.6, 3.5, 1.0], [1.0, 5.5, 2.4, 3.8, 1.1], [1.0, 5.5, 2.4, 3.7, 1.0], [1.0, 5.8, 2.7, 3.9, 1.2], [1.0, 6.0, 2.7, 5.1, 1.6], [1.0, 5.4, 3.0, 4.5, 1.5], [1.0, 6.0, 3.4, 4.5, 1.6], [1.0, 6.7, 3.1, 4.7, 1.5], [1.0, 6.3, 2.3, 4.4, 1.3], [1.0, 5.6, 3.0, 4.1, 1.3], [1.0, 5.5, 2.5, 4.0, 1.3], [1.0, 5.5, 2.6, 4.4, 1.2], [1.0, 6.1, 3.0, 4.6, 1.4], [1.0, 5.8, 2.6, 4.0, 1.2], [1.0, 5.0, 2.3, 3.3, 1.0], [1.0, 5.6, 2.7, 4.2, 1.3], [1.0, 5.7, 3.0, 4.2, 1.2], [1.0, 5.7, 2.9, 4.2, 1.3], [1.0, 6.2, 2.9, 4.3, 1.3], [1.0, 5.1, 2.5, 3.0, 1.1], [1.0, 5.7, 2.8, 4.1, 1.3]]\n"
          ]
        }
      ]
    },
    {
      "cell_type": "code",
      "source": [
        "d = len(x[0])\n",
        "n = len(x)\n",
        "w = [0.1,0.2, 0.3, -0.1,0.05]"
      ],
      "metadata": {
        "id": "lKWVUCiGG5E2"
      },
      "execution_count": null,
      "outputs": []
    },
    {
      "cell_type": "code",
      "source": [
        "y = []\n",
        "y = list(df[\"Species\"])\n"
      ],
      "metadata": {
        "id": "JrsuEpL6Hl5O"
      },
      "execution_count": null,
      "outputs": []
    },
    {
      "cell_type": "code",
      "execution_count": null,
      "metadata": {
        "colab": {
          "base_uri": "https://localhost:8080/"
        },
        "id": "UW6rO4o5Os5b",
        "outputId": "30f1c112-9454-49b9-d27e-13c0b0b42dda"
      },
      "outputs": [
        {
          "output_type": "execute_result",
          "data": {
            "text/plain": [
              "[0.1, 0.2, 0.3, -0.1, 0.05]"
            ]
          },
          "metadata": {},
          "execution_count": 12
        }
      ],
      "source": [
        "z = []\n",
        "for i in w:\n",
        "    z.append(i)\n",
        "z"
      ]
    },
    {
      "cell_type": "code",
      "execution_count": null,
      "metadata": {
        "colab": {
          "base_uri": "https://localhost:8080/"
        },
        "id": "iRaQN1FGRZEu",
        "outputId": "d85d5772-b79f-4b73-f811-5646080b7847"
      },
      "outputs": [
        {
          "output_type": "execute_result",
          "data": {
            "text/plain": [
              "[1.1,\n",
              " 1.2999999999999998,\n",
              " 3.8999999999999995,\n",
              " -5.300000000000001,\n",
              " -2.1499999999999995]"
            ]
          },
          "metadata": {},
          "execution_count": 13
        }
      ],
      "source": [
        "l=1\n",
        "while True:\n",
        "    l += 1\n",
        "    yHat = []\n",
        "    wTx = []\n",
        "    for i in range(n):\n",
        "        k = 0\n",
        "        for j in range(d):\n",
        "            k += x[i][j] * w[j]\n",
        "        if k >= 0:\n",
        "            yHat.append(1)\n",
        "        else:\n",
        "            yHat.append(0)\n",
        "        if y[i] == 0 and yHat[i] == 1:\n",
        "            for j in range(d):\n",
        "                w[j] = w[j] - x[i][j]\n",
        "        elif y[i] == 1 and yHat[i] == 0:\n",
        "            for j in range(d):\n",
        "                w[j] = w[j] + x[i][j]\n",
        "        wTx.append(k)\n",
        "    if z == w:\n",
        "        break\n",
        "    z = []\n",
        "    for i in w:\n",
        "        z.append(i)\n",
        "w"
      ]
    },
    {
      "cell_type": "code",
      "execution_count": null,
      "metadata": {
        "colab": {
          "base_uri": "https://localhost:8080/"
        },
        "id": "79dNwDgFSLef",
        "outputId": "f7046832-b62c-4688-b050-de641bd9b1f2"
      },
      "outputs": [
        {
          "output_type": "stream",
          "name": "stdout",
          "text": [
            "num of epochs :  5\n",
            "yHat =>  1.1 + 1.2999999999999998x1 + 3.8999999999999995x2 + -5.300000000000001x3 + -2.1499999999999995x4 +  = 0\n"
          ]
        }
      ],
      "source": [
        "print(\"num of epochs : \", l)\n",
        "\n",
        "print(\"yHat => \", w[0], end = \" + \")\n",
        "for j in range(1, d):\n",
        "    print(f'{w[j]}x{j}', end = \"\")\n",
        "    if j != d:\n",
        "        print(end = \" + \")\n",
        "print(\" = 0\")"
      ]
    },
    {
      "cell_type": "code",
      "source": [
        "def predict(x,w):\n",
        "  t = 0 \n",
        "  for i in range(len(x)):\n",
        "    t+=x[i]*w[i]\n",
        "  if t>0:\n",
        "    return 1\n",
        "  else: \n",
        "    return 0"
      ],
      "metadata": {
        "id": "r16D7U7bDSIV"
      },
      "execution_count": null,
      "outputs": []
    },
    {
      "cell_type": "code",
      "source": [
        "pred = []\n",
        "for i in x:\n",
        "  pred.append(predict(i,w))\n",
        "\n"
      ],
      "metadata": {
        "id": "Cm8LvJ9tJyFH"
      },
      "execution_count": null,
      "outputs": []
    },
    {
      "cell_type": "code",
      "source": [
        "correct = 0\n",
        "for i in range(len(y)):\n",
        "  if y[i]==pred[i]:\n",
        "    correct+=1\n",
        "  else:\n",
        "    continue"
      ],
      "metadata": {
        "id": "eeVh-E2fKGUx"
      },
      "execution_count": null,
      "outputs": []
    },
    {
      "cell_type": "code",
      "source": [
        "accuracy = correct/len(y)"
      ],
      "metadata": {
        "id": "mNjjlVU4KBnH"
      },
      "execution_count": null,
      "outputs": []
    },
    {
      "cell_type": "code",
      "source": [
        "print(\"Accuracy od our model is: \",accuracy*100)"
      ],
      "metadata": {
        "colab": {
          "base_uri": "https://localhost:8080/"
        },
        "id": "WqZ0GmCWKJRJ",
        "outputId": "21b2f53a-19b3-4157-e2e1-e92d3e884077"
      },
      "execution_count": null,
      "outputs": [
        {
          "output_type": "stream",
          "name": "stdout",
          "text": [
            "Accuracy od our model is:  100.0\n"
          ]
        }
      ]
    }
  ],
  "metadata": {
    "colab": {
      "collapsed_sections": [],
      "provenance": []
    },
    "kernelspec": {
      "display_name": "Python 3",
      "name": "python3"
    },
    "language_info": {
      "name": "python"
    }
  },
  "nbformat": 4,
  "nbformat_minor": 0
}