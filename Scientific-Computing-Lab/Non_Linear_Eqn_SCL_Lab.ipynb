{
  "nbformat": 4,
  "nbformat_minor": 0,
  "metadata": {
    "colab": {
      "provenance": []
    },
    "kernelspec": {
      "name": "python3",
      "display_name": "Python 3"
    },
    "language_info": {
      "name": "python"
    }
  },
  "cells": [
    {
      "cell_type": "code",
      "execution_count": null,
      "metadata": {
        "id": "b3wHhaW_VYKe"
      },
      "outputs": [],
      "source": [
        "import math as m\n",
        "def  func(x):\n",
        "  return 3*x + m.cos(x) -x"
      ]
    },
    {
      "cell_type": "markdown",
      "source": [
        "**Biection Method** <br>\n",
        "method of tabulation to calculate [a,b]"
      ],
      "metadata": {
        "id": "9Ww7lHZQV-FB"
      }
    },
    {
      "cell_type": "code",
      "source": [
        "def bisection(x,a,b):\n",
        "  while(abs(func(x))>0.0001):\n",
        "    if(func(x)<0):\n",
        "      a = (a+b)/2\n",
        "      print(a)\n",
        "    else:\n",
        "      b = (a+b)/2\n",
        "      print(b)\n",
        "    x = (a+b)/2\n",
        "    print(x)\n",
        "  return round(x,2)"
      ],
      "metadata": {
        "id": "vA1cxB0oVsY0"
      },
      "execution_count": null,
      "outputs": []
    },
    {
      "cell_type": "code",
      "source": [
        "a = 3\n",
        "b = 4\n",
        "x = (a+b)/2\n",
        "bisection(x,a,b)"
      ],
      "metadata": {
        "colab": {
          "base_uri": "https://localhost:8080/"
        },
        "id": "eCvexg1fYvjB",
        "outputId": "5cce0a55-56f6-4b32-d957-463d331639e1"
      },
      "execution_count": null,
      "outputs": [
        {
          "output_type": "stream",
          "name": "stdout",
          "text": [
            "3.5\n",
            "3.75\n",
            "3.75\n",
            "3.875\n",
            "3.875\n",
            "3.8125\n",
            "3.8125\n",
            "3.78125\n",
            "3.78125\n",
            "3.796875\n",
            "3.796875\n",
            "3.7890625\n"
          ]
        },
        {
          "output_type": "execute_result",
          "data": {
            "text/plain": [
              "3.79"
            ]
          },
          "metadata": {},
          "execution_count": 92
        }
      ]
    },
    {
      "cell_type": "code",
      "source": [
        "#e-x = sin(x)\n",
        "def fun(x):\n",
        "  return m.exp(-x)-m.sin(x)"
      ],
      "metadata": {
        "id": "CDNbXp_aZ8T0"
      },
      "execution_count": null,
      "outputs": []
    },
    {
      "cell_type": "code",
      "source": [
        "a2 = 0.5\n",
        "b2 = 0.6\n",
        "x2 = (a2+b2)/2\n",
        "x2"
      ],
      "metadata": {
        "colab": {
          "base_uri": "https://localhost:8080/"
        },
        "id": "FGiE7sqVaU1z",
        "outputId": "df259b80-f3a7-41f6-d2e3-a39fd169a0be"
      },
      "execution_count": null,
      "outputs": [
        {
          "output_type": "execute_result",
          "data": {
            "text/plain": [
              "0.55"
            ]
          },
          "metadata": {},
          "execution_count": 95
        }
      ]
    },
    {
      "cell_type": "code",
      "source": [
        "def bisection2(x,a,b):\n",
        "  while(abs(fun(x))>0.0005):\n",
        "    if(fun(x)<0):\n",
        "      a = (a+b)/2\n",
        "    else:\n",
        "      b = (a+b)/2\n",
        "    x = (a+b)/2\n",
        "  return round(x,2)"
      ],
      "metadata": {
        "id": "ZFusJ-V5aZQa"
      },
      "execution_count": null,
      "outputs": []
    },
    {
      "cell_type": "markdown",
      "source": [
        "**Regula Falsi Method**"
      ],
      "metadata": {
        "id": "4PU82sh5dwN8"
      }
    },
    {
      "cell_type": "code",
      "source": [
        "def line(a,fa,b,fb):\n",
        "  return (((-fa)*(b-a))/(fb-fa))+a\n"
      ],
      "metadata": {
        "id": "ic5fU3ZqdvUG"
      },
      "execution_count": null,
      "outputs": []
    },
    {
      "cell_type": "code",
      "source": [
        "def falsi(a,b):\n",
        "  x = line(a,func(a),b,func(b))\n",
        "  while(abs(func(x))>0.005):\n",
        "    if(func(x)<0):\n",
        "      a = x\n",
        "    else:\n",
        "      b = x\n",
        "    x = line(a,func(a),b,func(b))\n",
        "  return x\n",
        "          "
      ],
      "metadata": {
        "id": "gmoMJeLPcMoR"
      },
      "execution_count": null,
      "outputs": []
    },
    {
      "cell_type": "code",
      "source": [
        "falsi(0,1)"
      ],
      "metadata": {
        "colab": {
          "base_uri": "https://localhost:8080/"
        },
        "id": "zt8tNqAredWT",
        "outputId": "d1e79541-1c54-43ce-cc57-bbccbe8cd9fd"
      },
      "execution_count": null,
      "outputs": [
        {
          "output_type": "execute_result",
          "data": {
            "text/plain": [
              "0.6059585718749196"
            ]
          },
          "metadata": {},
          "execution_count": 123
        }
      ]
    },
    {
      "cell_type": "code",
      "source": [
        "def func1()"
      ],
      "metadata": {
        "id": "39fMnVUPGCK_"
      },
      "execution_count": null,
      "outputs": []
    }
  ]
}