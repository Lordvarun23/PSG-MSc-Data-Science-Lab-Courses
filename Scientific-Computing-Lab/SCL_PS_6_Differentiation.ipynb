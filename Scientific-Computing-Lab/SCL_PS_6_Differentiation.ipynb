{
  "nbformat": 4,
  "nbformat_minor": 0,
  "metadata": {
    "colab": {
      "provenance": [],
      "collapsed_sections": []
    },
    "kernelspec": {
      "name": "python3",
      "display_name": "Python 3"
    },
    "language_info": {
      "name": "python"
    }
  },
  "cells": [
    {
      "cell_type": "markdown",
      "source": [
        "<h2> Question 1 </h2>Write a python program to calculate the following<br>\n",
        "a.<br>\n",
        "x 0.96 0.98 1.00 1.02 1.04<br>\n",
        "f(x) 0.7825 0.7739 0.7651 0.7563 0.7473 <br>\n",
        "second derivative at 0.96 and 1.04\n"
      ],
      "metadata": {
        "id": "sI2a6vv3gXNQ"
      }
    },
    {
      "cell_type": "code",
      "source": [
        "def delta(y):\n",
        "  delta = []\n",
        "  count = 0\n",
        "  temp = y\n",
        "  while True:\n",
        "    tempd = []\n",
        "    if len(temp):\n",
        "      for i in range(len(temp)-1):\n",
        "        tempd.append(temp[i+1]-temp[i])\n",
        "      delta.append(tempd)\n",
        "      temp = delta[count]\n",
        "      count+=1\n",
        "    else:\n",
        "      break \n",
        "  return delta\n",
        "\n",
        "def find_index(x,key):\n",
        "  if key in x:\n",
        "    if x.index(key) == len(x)-1:\n",
        "      return -1\n",
        "    else:\n",
        "      return x.index(key)\n",
        "  else:\n",
        "    for i in range(len(x)):\n",
        "      if x[i]<key:\n",
        "        continue\n",
        "      else:\n",
        "        return i-1\n",
        "  return -1\n",
        "\n",
        "def forward_dydx(x,y,delta,h,index):\n",
        "  ans = (1/h)*(delta[0][index] + ((2*p-1)/2)*delta[1][index] + ((3*p*p -6*p+2)/6)*delta[2][index]  + ((4*p*p*p -18*p*p+22*p-6)/24)*delta[3][index] )\n",
        "  return ans\n",
        "\n",
        "def forward_d2ydx2(x,y,delta,h,index):\n",
        "  ans = (1/h**2)*(delta[1][index] + (p-1)*delta[2][index]  + ((12*p**2 -36*p+22)/24)*delta[3][index])\n",
        "  return ans\n",
        "#test case-01\n",
        "y = [0.7825, 0.7739, 0.7651, 0.7563, 0.7473]\n",
        "x = [0.96, 0.98, 1.00 ,1.02, 1.04]\n",
        "key = 0.96\n",
        "\n",
        "#testcase-02\n",
        "#x = [1.0, 1.1, 1.2, 1.3, 1.4, 1.5, 1.6]\n",
        "#y = [7.989 ,8.403 ,8.781 ,9.129, 9.451, 9.750, 10.031]\n",
        "#key = 1.05\n",
        "\n",
        "#testcase-03\n",
        "#x = [31 ,32 ,33 ,34]\n",
        "#y = [0.6008 ,0.6249 ,0.6494 ,0.9745]\n",
        "#key = 31.5\n",
        "\n",
        "h = x[1]-x[0]\n",
        "p = (key-x[0])/h\n",
        "delta = delta(y)\n",
        "index = find_index(x,key)\n",
        "print(\"d2y/dx2 at x=0.96 is :\",forward_d2ydx2(x,y,delta,h,index))"
      ],
      "metadata": {
        "colab": {
          "base_uri": "https://localhost:8080/"
        },
        "id": "tbg75Cywr6Gd",
        "outputId": "bfd0bb35-e0ef-42ad-826f-72e12e8c2241"
      },
      "execution_count": null,
      "outputs": [
        {
          "output_type": "stream",
          "name": "stdout",
          "text": [
            "d2y/dx2 at x=0.96 is : -1.9166666666672614\n"
          ]
        }
      ]
    },
    {
      "cell_type": "markdown",
      "source": [
        "<h2>Question 2: </h2><h3>Write a python program to evaluate the following integral using Trape-zoidal rule, simpson’s 1/3 and 3/8 rule.\n"
      ],
      "metadata": {
        "id": "OYsThQbkdLNG"
      }
    },
    {
      "cell_type": "code",
      "execution_count": null,
      "metadata": {
        "id": "l4lZ7IYFU-qm"
      },
      "outputs": [],
      "source": [
        "import math\n",
        "import numpy as np\n",
        "\n",
        "#trapezoidal rule\n",
        "def trapezoidal(y,h):\n",
        "  return (h/2)*(y[0]+y[-1]+2*(sum(y[1:len(y)-1])))\n",
        "\n",
        "#simpsons 1/3 rule\n",
        "def simpsons13(y,h):\n",
        "  return (h/3)*(y[0]+y[-1]+4*sum(y[1:len(y)-1:2])+2*sum(y[2:len(y)-1:2]))\n",
        "\n",
        "#simpsons 3/8 rule\n",
        "def simpsons38(y,h):\n",
        "  return (3*h/8)*(y[0]+y[-1]+3*sum(y[1:len(y)-1:3])+2*sum(y[3:len(y)-2:3])+3*sum(y[2:len(y)-2:3]))\n",
        "  \n",
        "def xypoints(a,b,n,type):\n",
        "  x = [a]\n",
        "  h = (b-a)/n\n",
        "  for i in range(n):\n",
        "    x.append(x[i]+h)\n",
        "  y = []\n",
        "  if type=='a':\n",
        "    for i in x:\n",
        "      y.append(afx(i))\n",
        "    return y\n",
        "  elif type=='b':\n",
        "    for i in x:\n",
        "      y.append(bfx(i))\n",
        "    return y\n",
        "  else:\n",
        "    for i in x:\n",
        "      y.append(cfx(i))\n",
        "    return y\n",
        "def afx(x):\n",
        "  return math.log(x)\n",
        "def bfx(x):\n",
        "  return math.exp(-x**2)\n",
        "def cfx(x):\n",
        "  return (x**2)/(1+x**3)\n",
        "\n",
        "aa = float(input(\"enter value of aa:\"))\n",
        "ab = float(input(\"enter value of ab:\"))\n",
        "an = int(input(\"enter value of an:\"))\n",
        "\n",
        "#a\n",
        "print(\"The value of integration of fx by trapezoidal= \",trapezoidal(xypoints(aa,ab,an,'a'),(ab-aa)/an))\n",
        "print(\"The value of integration of fx by simpson1/3 = \",simpsons13(xypoints(aa,ab,an,'a'),(ab-aa)/an))\n",
        "print(\"The value of integration of fx by simpson3/8 = \",simpsons38(xypoints(aa,ab,an,'a'),(ab-aa)/an))\n",
        "print()\n",
        "\n",
        "#b \n",
        "ba = float(input(\"enter value of ba:\"))\n",
        "bb = float(input(\"enter value of bb:\"))\n",
        "bn = int(input(\"enter value of bn:\"))\n",
        "print(\"The value of integration of fx by trapezoidal = \",trapezoidal(xypoints(ba,bb,bn,'b'),(bb-ba)/bn))\n",
        "print(\"The value of integration of fx by simpsons13 = \",simpsons13(xypoints(ba,bb,bn,'b'),(bb-ba)/bn))\n",
        "print(\"The value of integration of fx by simpsons38 = \",simpsons38(xypoints(ba,bb,bn,'b'),(bb-ba)/bn))\n",
        "print()\n",
        "\n",
        "#c\n",
        "ca = float(input(\"enter value of ca:\"))\n",
        "cb = float(input(\"enter value of cb:\"))\n",
        "cn = int(input(\"enter value of cn:\"))\n",
        "print(\"The value of integration of fx by trapezoidal = \",trapezoidal(xypoints(ca,cb,cn,'c'),(cb-ca)/cn))\n",
        "print(\"The value of integration of fx by simpsons1/3 = \",simpsons13(xypoints(ca,cb,cn,'c'),(cb-ca)/cn))\n",
        "print(\"The value of integration of fx by simpsons3/8 = \",simpsons38(xypoints(ca,cb,cn,'c'),(cb-ca)/cn))"
      ]
    },
    {
      "cell_type": "markdown",
      "source": [
        "<h2> Question 3: </h2>When a train is moving at 30 metres per second stream is shut off and brakes are applied. The speed of the train (V ) in metres per second after t seconds is given by<br>\n",
        "t 0 5 10 15 20 25 30 35 40<br>\n",
        "V 30 24 19.5 16 13.6 11.7 10.0 8.5 7.0<br>\n",
        "Using Simpson’s rule and Trapezoidal rule determine the distance moved\n",
        "by the train in 40 secs."
      ],
      "metadata": {
        "id": "HpDNrFHSaW_t"
      }
    },
    {
      "cell_type": "code",
      "source": [
        "def vt(t,v):\n",
        "  res = []\n",
        "  for i in range(0,len(t)-1):\n",
        "    res.append((t[i+1]-t[i])*v[i])\n",
        "  return res\n",
        "t = list(range(0,41,5))\n",
        "v = [30,24,19.5,16,13.6,11.7,10,8.5,7]\n",
        "print(\"The distance convered by the train in 40 sec (by simpsons13) = \",simpsons13(vt(t,v),5))\n",
        "print(\"The distance convered by the train in 40 sec (by simpsons38) = \",simpsons38(vt(t,v),5))\n",
        "print(\"The distance convered by the train in 40 sec (by trapezoidal) = \",trapezoidal(vt(t,v),5))"
      ],
      "metadata": {
        "colab": {
          "base_uri": "https://localhost:8080/"
        },
        "id": "1_K1uLtbdDsy",
        "outputId": "822baa2a-7cd7-4260-af82-a84a5ef91f58"
      },
      "execution_count": null,
      "outputs": [
        {
          "output_type": "stream",
          "name": "stdout",
          "text": [
            "The distance convered by the train in 40 sec (by simpsons13) =  2762.5\n",
            "The distance convered by the train in 40 sec (by simpsons38) =  2595.9375\n",
            "The distance convered by the train in 40 sec (by trapezoidal) =  2851.25\n"
          ]
        }
      ]
    }
  ]
}