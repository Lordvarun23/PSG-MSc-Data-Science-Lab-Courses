{
  "nbformat": 4,
  "nbformat_minor": 0,
  "metadata": {
    "colab": {
      "provenance": [],
      "collapsed_sections": []
    },
    "kernelspec": {
      "name": "python3",
      "display_name": "Python 3"
    },
    "language_info": {
      "name": "python"
    }
  },
  "cells": [
    {
      "cell_type": "markdown",
      "source": [
        "## Linear Discriminant Analysis (LDA) :\n"
      ],
      "metadata": {
        "id": "tQqGkSd-sV7H"
      }
    },
    {
      "cell_type": "markdown",
      "source": [
        "### Linear Discrimnant Analysis (LDA) as a Classifier:\n",
        "\n",
        "  <ul>\n",
        "  <li> It is a discriminative Technique which can be used as both Classifier and Dimensionality Reduction Technique. </li>\n",
        "  <li> It is also used in Natural Language Processing especially for Topic Modelling. </li>\n",
        "  <li> <b> Assumptions: </b> \n",
        "    <ul type=\"square\">\n",
        "    <li> All independent features must be continuous. </li>\n",
        "    <li> Also, The independent fetaures must follow Multivariate Guassian Distribution.</li>\n",
        "    <li> All Class Covariance Matrix are Equal.<br>\n",
        "        Σ<sub>1</sub> = Σ<sub>2</sub> = ...... = Σ<sub>k</sub> [k classes in dependent feature].\n",
        "       </li>\n",
        "  </li></ul>\n",
        "  <li> <b> Given: </b> D = { x<sub>i</sub> , y<sub>i</sub>} <sub>i=1</sub><sup>n</sup> \n",
        "  <li> <b> Objective: </b> f: R<sup>d</sup> → {C<sub>i</sub>,...,C<sub>k</sub>}\n",
        "  </ul>\n",
        "<h3> Steps : </h3>\n",
        "<ol>\n",
        "<li> Find Class Mean and Covariance Matrix. </li>\n",
        "<li> Calculate Linear score function for each class. </li>\n",
        "<br> \n",
        "\n",
        "![Screenshot 2022-09-25 100938.png](data:image/png;base64,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) <br>\n",
        "<li> Prediciton Rule: Class with highest Linear Score is the y<sup>^</sup> for given X<sub>i</sub></li>\n",
        "</ol>\n"
      ],
      "metadata": {
        "id": "7UsWDrUwc7d2"
      }
    },
    {
      "cell_type": "code",
      "source": [
        "class LDA:\n",
        "  def __init__(self,df,label):\n",
        "    '''\n",
        "    Constructor Function\n",
        "    args:\n",
        "    df: Dataframe of dataset\n",
        "    label: dependent variable column name\n",
        "    '''\n",
        "    self.df = df\n",
        "    self.y_label = label\n",
        "  \n",
        "  def calc_class_prob(self):\n",
        "    '''\n",
        "    Function to Calculate Class Probabilities for the given data\n",
        "    args:\n",
        "      None\n",
        "    return: dictionary contain class probabilities.\n",
        "    '''\n",
        "    classes_prob = dict(df[self.y_label].value_counts())\n",
        "    total = sum(list(classes_prob.values()))\n",
        "    for i in classes_prob:\n",
        "      classes_prob[i]/=total\n",
        "    \n",
        "    return classes_prob\n",
        "  \n",
        "  def calc_class_mean(self):\n",
        "    '''\n",
        "    Function to Calculate the class mean\n",
        "    args:\n",
        "      None\n",
        "    return: dictionary containing class means\n",
        "    '''\n",
        "    cols = list(set(self.df.columns)-{self.y_label})\n",
        "    classes = list(dict(df[self.y_label].value_counts()).keys())\n",
        "    class_mean = {}\n",
        "    for i in cols:\n",
        "      for j in classes:\n",
        "        temp = df[df[self.y_label]==j][i]\n",
        "        class_mean[i+\"_\"+j] = round(sum(temp)/len(temp),3)\n",
        "\n",
        "    return class_mean\n",
        "\n",
        "  def calc_class_covariance_matirx(self):\n",
        "    '''\n",
        "    Function to Calculate the class Covariance Matrix\n",
        "    Assumption: All class covariance matrix is same.\n",
        "    args:\n",
        "      None\n",
        "    return: Matrix containing class Covariance\n",
        "    '''\n",
        "\n",
        "    cols = list(set(self.df.columns)-{self.y_label})\n",
        "    matrix = list(np.array(([0]*(len(cols)**2))).reshape(len(cols),len(cols)))\n",
        "    matrix = [list(i) for i in matrix]\n",
        "    \n",
        "    class_mean = self.calc_class_mean()\n",
        "    kth_class = list(dict(df[self.y_label].value_counts()).keys())[0]\n",
        "    for i in range(len(cols)):\n",
        "      for j in range(len(cols)):\n",
        "\n",
        "        #print(i,j)\n",
        "        #variance calculation\n",
        "        if i==j:\n",
        "          #print(i,j)\n",
        "          #print(matrix)\n",
        "          var = 0\n",
        "          temp = df[df[self.y_label]==kth_class][cols[i]]\n",
        "          for k in temp:\n",
        "            var += (k-class_mean[cols[i]+\"_\"+kth_class])**2\n",
        "          var = var/len(temp)\n",
        "          matrix[i][j] = round(var,3)\n",
        "          #print(matrix)\n",
        "\n",
        "        #Covariance calculation\n",
        "        else:\n",
        "          covar = 0\n",
        "          l1 = list(df[df[self.y_label]==kth_class][cols[i]])\n",
        "          l2 = list(df[df[self.y_label]==kth_class][cols[j]])\n",
        "          for el1 in range(len(l1)):\n",
        "              covar += (l1[el1]-class_mean[cols[i]+\"_\"+kth_class])*(l2[el1]-class_mean[cols[j]+\"_\"+kth_class])\n",
        "          covar  = covar/len(l1)\n",
        "\n",
        "          matrix[i][j] = round(covar,3)\n",
        "    return matrix\n",
        "  def calc_linear_score(self,x):\n",
        "    '''\n",
        "    Function to calculate linear score of each class for given x vector\n",
        "    args:\n",
        "      x: 1 X d dimension vector of independent variable values\n",
        "    return:\n",
        "      dictionary of Linear Score of each class for given vector x\n",
        "    '''\n",
        "    classes = list(dict(df[self.y_label].value_counts()).keys())\n",
        "    linear_score = {}\n",
        "    x = np.array(x)\n",
        "    covar_matrix = np.array(self.calc_class_covariance_matirx())\n",
        "    class_mean = self.calc_class_mean()\n",
        "    class_prob = self.calc_class_prob()\n",
        "    classes_mean = {}\n",
        "    for j in classes:\n",
        "      temp = []\n",
        "      for i in class_mean:\n",
        "        if j in i:\n",
        "          temp.append(class_mean[i])\n",
        "      classes_mean[j] = temp\n",
        "    #print(classes_mean)\n",
        "    inv_covar_matrix = np.linalg. inv(covar_matrix)\n",
        "    for i in classes:\n",
        "      print()\n",
        "      linear_score[i] = (np.matmul(np.matmul(x.reshape(1,len(x)),inv_covar_matrix),np.array(classes_mean[i]).reshape(len(classes_mean[i]),1)) - 0.5*(np.matmul(np.matmul(np.array(classes_mean[i]).reshape(1,len(classes_mean[i])),inv_covar_matrix),np.array(classes_mean[i]))) + np.log(class_prob[i]))[0][0]\n",
        "    \n",
        "    return linear_score\n",
        "  \n",
        "  def Predict(self,X):\n",
        "    '''\n",
        "    Function to predict yhat for given xi\n",
        "    args:\n",
        "      X: n X d dimension matrix of independent variable values\n",
        "    return:\n",
        "      list of Yhat\n",
        "    '''\n",
        "    Yhat = []\n",
        "    X = X.to_numpy()\n",
        "    for i in X:\n",
        "      linear_score = self.calc_linear_score(i)\n",
        "      mx = max(linear_score.values())\n",
        "      for j in linear_score:\n",
        "        if linear_score[j]==mx:\n",
        "          Yhat.append(j)\n",
        "          break\n",
        "        else:\n",
        "          continue\n",
        "    \n",
        "    return Yhat"
      ],
      "metadata": {
        "id": "pzc6_V_np-GG"
      },
      "execution_count": 284,
      "outputs": []
    },
    {
      "cell_type": "code",
      "source": [
        "class ModelPerformanceMetrics:\n",
        "  \n",
        "  def __init__(self,y_test,y_pred):\n",
        "    '''\n",
        "    Constructor Function\n",
        "    args:\n",
        "      y_test: Actual Yi Values\n",
        "      y_pred: Predicted Yi values using Classifier\n",
        "    return None\n",
        "    '''\n",
        "    self.y_test = y_test\n",
        "    self.y_pred = y_pred\n",
        "  \n",
        "  def Accuracy(self):\n",
        "    '''\n",
        "    Function to calculate accuracy of the classifier\n",
        "      Accuracy = correct guess/total guess\n",
        "    Args: None\n",
        "    return: String\n",
        "    '''\n",
        "    correct = 0\n",
        "    for i in range(len(self.y_test)):\n",
        "      if self.y_test[i]==self.y_pred[i]:\n",
        "        correct+=1\n",
        "      else:\n",
        "        continue\n",
        "    \n",
        "    return \"Accuracy of the Model is {:.2f}\".format(correct/len(self.y_test))\n",
        "  \n",
        "\n",
        "  \n"
      ],
      "metadata": {
        "id": "W_0Ex4iSgjN9"
      },
      "execution_count": 322,
      "outputs": []
    },
    {
      "cell_type": "code",
      "execution_count": 286,
      "metadata": {
        "id": "_4INqtXgsO9Z"
      },
      "outputs": [],
      "source": [
        "#Importing Libraries\n",
        "import pandas as pd\n",
        "import numpy as np\n",
        "import math as m"
      ]
    },
    {
      "cell_type": "code",
      "source": [
        "#Reading dataset\n",
        "df = pd.read_csv(\"https://gist.githubusercontent.com/netj/8836201/raw/6f9306ad21398ea43cba4f7d537619d0e07d5ae3/iris.csv\")"
      ],
      "metadata": {
        "id": "ppPUU68ssYJI"
      },
      "execution_count": 287,
      "outputs": []
    },
    {
      "cell_type": "markdown",
      "source": [
        "### EDA"
      ],
      "metadata": {
        "id": "hSsbhJAgbDu5"
      }
    },
    {
      "cell_type": "code",
      "source": [
        "df.head() "
      ],
      "metadata": {
        "colab": {
          "base_uri": "https://localhost:8080/",
          "height": 206
        },
        "id": "1eSqZKsTbBmH",
        "outputId": "6ebe6876-dc3b-4ed0-c978-81b887e0f0c1"
      },
      "execution_count": 288,
      "outputs": [
        {
          "output_type": "execute_result",
          "data": {
            "text/plain": [
              "   sepal.length  sepal.width  petal.length  petal.width variety\n",
              "0           5.1          3.5           1.4          0.2  Setosa\n",
              "1           4.9          3.0           1.4          0.2  Setosa\n",
              "2           4.7          3.2           1.3          0.2  Setosa\n",
              "3           4.6          3.1           1.5          0.2  Setosa\n",
              "4           5.0          3.6           1.4          0.2  Setosa"
            ],
            "text/html": [
              "\n",
              "  <div id=\"df-aaa5adb5-b500-4578-9fd5-9940fc6cc762\">\n",
              "    <div class=\"colab-df-container\">\n",
              "      <div>\n",
              "<style scoped>\n",
              "    .dataframe tbody tr th:only-of-type {\n",
              "        vertical-align: middle;\n",
              "    }\n",
              "\n",
              "    .dataframe tbody tr th {\n",
              "        vertical-align: top;\n",
              "    }\n",
              "\n",
              "    .dataframe thead th {\n",
              "        text-align: right;\n",
              "    }\n",
              "</style>\n",
              "<table border=\"1\" class=\"dataframe\">\n",
              "  <thead>\n",
              "    <tr style=\"text-align: right;\">\n",
              "      <th></th>\n",
              "      <th>sepal.length</th>\n",
              "      <th>sepal.width</th>\n",
              "      <th>petal.length</th>\n",
              "      <th>petal.width</th>\n",
              "      <th>variety</th>\n",
              "    </tr>\n",
              "  </thead>\n",
              "  <tbody>\n",
              "    <tr>\n",
              "      <th>0</th>\n",
              "      <td>5.1</td>\n",
              "      <td>3.5</td>\n",
              "      <td>1.4</td>\n",
              "      <td>0.2</td>\n",
              "      <td>Setosa</td>\n",
              "    </tr>\n",
              "    <tr>\n",
              "      <th>1</th>\n",
              "      <td>4.9</td>\n",
              "      <td>3.0</td>\n",
              "      <td>1.4</td>\n",
              "      <td>0.2</td>\n",
              "      <td>Setosa</td>\n",
              "    </tr>\n",
              "    <tr>\n",
              "      <th>2</th>\n",
              "      <td>4.7</td>\n",
              "      <td>3.2</td>\n",
              "      <td>1.3</td>\n",
              "      <td>0.2</td>\n",
              "      <td>Setosa</td>\n",
              "    </tr>\n",
              "    <tr>\n",
              "      <th>3</th>\n",
              "      <td>4.6</td>\n",
              "      <td>3.1</td>\n",
              "      <td>1.5</td>\n",
              "      <td>0.2</td>\n",
              "      <td>Setosa</td>\n",
              "    </tr>\n",
              "    <tr>\n",
              "      <th>4</th>\n",
              "      <td>5.0</td>\n",
              "      <td>3.6</td>\n",
              "      <td>1.4</td>\n",
              "      <td>0.2</td>\n",
              "      <td>Setosa</td>\n",
              "    </tr>\n",
              "  </tbody>\n",
              "</table>\n",
              "</div>\n",
              "      <button class=\"colab-df-convert\" onclick=\"convertToInteractive('df-aaa5adb5-b500-4578-9fd5-9940fc6cc762')\"\n",
              "              title=\"Convert this dataframe to an interactive table.\"\n",
              "              style=\"display:none;\">\n",
              "        \n",
              "  <svg xmlns=\"http://www.w3.org/2000/svg\" height=\"24px\"viewBox=\"0 0 24 24\"\n",
              "       width=\"24px\">\n",
              "    <path d=\"M0 0h24v24H0V0z\" fill=\"none\"/>\n",
              "    <path d=\"M18.56 5.44l.94 2.06.94-2.06 2.06-.94-2.06-.94-.94-2.06-.94 2.06-2.06.94zm-11 1L8.5 8.5l.94-2.06 2.06-.94-2.06-.94L8.5 2.5l-.94 2.06-2.06.94zm10 10l.94 2.06.94-2.06 2.06-.94-2.06-.94-.94-2.06-.94 2.06-2.06.94z\"/><path d=\"M17.41 7.96l-1.37-1.37c-.4-.4-.92-.59-1.43-.59-.52 0-1.04.2-1.43.59L10.3 9.45l-7.72 7.72c-.78.78-.78 2.05 0 2.83L4 21.41c.39.39.9.59 1.41.59.51 0 1.02-.2 1.41-.59l7.78-7.78 2.81-2.81c.8-.78.8-2.07 0-2.86zM5.41 20L4 18.59l7.72-7.72 1.47 1.35L5.41 20z\"/>\n",
              "  </svg>\n",
              "      </button>\n",
              "      \n",
              "  <style>\n",
              "    .colab-df-container {\n",
              "      display:flex;\n",
              "      flex-wrap:wrap;\n",
              "      gap: 12px;\n",
              "    }\n",
              "\n",
              "    .colab-df-convert {\n",
              "      background-color: #E8F0FE;\n",
              "      border: none;\n",
              "      border-radius: 50%;\n",
              "      cursor: pointer;\n",
              "      display: none;\n",
              "      fill: #1967D2;\n",
              "      height: 32px;\n",
              "      padding: 0 0 0 0;\n",
              "      width: 32px;\n",
              "    }\n",
              "\n",
              "    .colab-df-convert:hover {\n",
              "      background-color: #E2EBFA;\n",
              "      box-shadow: 0px 1px 2px rgba(60, 64, 67, 0.3), 0px 1px 3px 1px rgba(60, 64, 67, 0.15);\n",
              "      fill: #174EA6;\n",
              "    }\n",
              "\n",
              "    [theme=dark] .colab-df-convert {\n",
              "      background-color: #3B4455;\n",
              "      fill: #D2E3FC;\n",
              "    }\n",
              "\n",
              "    [theme=dark] .colab-df-convert:hover {\n",
              "      background-color: #434B5C;\n",
              "      box-shadow: 0px 1px 3px 1px rgba(0, 0, 0, 0.15);\n",
              "      filter: drop-shadow(0px 1px 2px rgba(0, 0, 0, 0.3));\n",
              "      fill: #FFFFFF;\n",
              "    }\n",
              "  </style>\n",
              "\n",
              "      <script>\n",
              "        const buttonEl =\n",
              "          document.querySelector('#df-aaa5adb5-b500-4578-9fd5-9940fc6cc762 button.colab-df-convert');\n",
              "        buttonEl.style.display =\n",
              "          google.colab.kernel.accessAllowed ? 'block' : 'none';\n",
              "\n",
              "        async function convertToInteractive(key) {\n",
              "          const element = document.querySelector('#df-aaa5adb5-b500-4578-9fd5-9940fc6cc762');\n",
              "          const dataTable =\n",
              "            await google.colab.kernel.invokeFunction('convertToInteractive',\n",
              "                                                     [key], {});\n",
              "          if (!dataTable) return;\n",
              "\n",
              "          const docLinkHtml = 'Like what you see? Visit the ' +\n",
              "            '<a target=\"_blank\" href=https://colab.research.google.com/notebooks/data_table.ipynb>data table notebook</a>'\n",
              "            + ' to learn more about interactive tables.';\n",
              "          element.innerHTML = '';\n",
              "          dataTable['output_type'] = 'display_data';\n",
              "          await google.colab.output.renderOutput(dataTable, element);\n",
              "          const docLink = document.createElement('div');\n",
              "          docLink.innerHTML = docLinkHtml;\n",
              "          element.appendChild(docLink);\n",
              "        }\n",
              "      </script>\n",
              "    </div>\n",
              "  </div>\n",
              "  "
            ]
          },
          "metadata": {},
          "execution_count": 288
        }
      ]
    },
    {
      "cell_type": "code",
      "source": [
        "# Exploring unique values in variety along with counts\n",
        "df[\"variety\"].value_counts()"
      ],
      "metadata": {
        "colab": {
          "base_uri": "https://localhost:8080/"
        },
        "id": "zECkVuP3b4ir",
        "outputId": "0ffc6c76-dc00-4dfb-f2bf-f272fc9616f4"
      },
      "execution_count": 289,
      "outputs": [
        {
          "output_type": "execute_result",
          "data": {
            "text/plain": [
              "Setosa        50\n",
              "Versicolor    50\n",
              "Virginica     50\n",
              "Name: variety, dtype: int64"
            ]
          },
          "metadata": {},
          "execution_count": 289
        }
      ]
    },
    {
      "cell_type": "markdown",
      "source": [
        "Inference: Balanced Dataset"
      ],
      "metadata": {
        "id": "70OtL9d8b-oY"
      }
    },
    {
      "cell_type": "markdown",
      "source": [
        "### Independent Features:\n",
        "Sepal.length <br>\n",
        "sepal.width <br>\n",
        "petal.length <br>\n",
        "petal.width <br>\n",
        "\n",
        "### Dependent Features:\n",
        "Variety:\n",
        "<ul type=\"square\">\n",
        "<li>Setosa</li>\n",
        "<li> Virginica </li>\n",
        "<li>Versicolor </li>"
      ],
      "metadata": {
        "id": "IyVFH5W9bKhy"
      }
    },
    {
      "cell_type": "code",
      "source": [
        "df.info()"
      ],
      "metadata": {
        "colab": {
          "base_uri": "https://localhost:8080/"
        },
        "id": "pR6I9vXKbIup",
        "outputId": "58e5eedd-f57f-4dc2-b977-eec5c9d75c2f"
      },
      "execution_count": 290,
      "outputs": [
        {
          "output_type": "stream",
          "name": "stdout",
          "text": [
            "<class 'pandas.core.frame.DataFrame'>\n",
            "RangeIndex: 150 entries, 0 to 149\n",
            "Data columns (total 5 columns):\n",
            " #   Column        Non-Null Count  Dtype  \n",
            "---  ------        --------------  -----  \n",
            " 0   sepal.length  150 non-null    float64\n",
            " 1   sepal.width   150 non-null    float64\n",
            " 2   petal.length  150 non-null    float64\n",
            " 3   petal.width   150 non-null    float64\n",
            " 4   variety       150 non-null    object \n",
            "dtypes: float64(4), object(1)\n",
            "memory usage: 6.0+ KB\n"
          ]
        }
      ]
    },
    {
      "cell_type": "markdown",
      "source": [
        " Inference: No Null Values in any of the columns\n",
        "### Statistical Summary of the dataset "
      ],
      "metadata": {
        "id": "YRV2igJccRMH"
      }
    },
    {
      "cell_type": "code",
      "source": [
        "df.describe()"
      ],
      "metadata": {
        "colab": {
          "base_uri": "https://localhost:8080/",
          "height": 300
        },
        "id": "YS3rl_ticNiK",
        "outputId": "0b0eac8c-6345-4257-a14a-1f7494f88d02"
      },
      "execution_count": 291,
      "outputs": [
        {
          "output_type": "execute_result",
          "data": {
            "text/plain": [
              "       sepal.length  sepal.width  petal.length  petal.width\n",
              "count    150.000000   150.000000    150.000000   150.000000\n",
              "mean       5.843333     3.057333      3.758000     1.199333\n",
              "std        0.828066     0.435866      1.765298     0.762238\n",
              "min        4.300000     2.000000      1.000000     0.100000\n",
              "25%        5.100000     2.800000      1.600000     0.300000\n",
              "50%        5.800000     3.000000      4.350000     1.300000\n",
              "75%        6.400000     3.300000      5.100000     1.800000\n",
              "max        7.900000     4.400000      6.900000     2.500000"
            ],
            "text/html": [
              "\n",
              "  <div id=\"df-1757ce5c-3c84-4b6e-80d1-455775da4a1a\">\n",
              "    <div class=\"colab-df-container\">\n",
              "      <div>\n",
              "<style scoped>\n",
              "    .dataframe tbody tr th:only-of-type {\n",
              "        vertical-align: middle;\n",
              "    }\n",
              "\n",
              "    .dataframe tbody tr th {\n",
              "        vertical-align: top;\n",
              "    }\n",
              "\n",
              "    .dataframe thead th {\n",
              "        text-align: right;\n",
              "    }\n",
              "</style>\n",
              "<table border=\"1\" class=\"dataframe\">\n",
              "  <thead>\n",
              "    <tr style=\"text-align: right;\">\n",
              "      <th></th>\n",
              "      <th>sepal.length</th>\n",
              "      <th>sepal.width</th>\n",
              "      <th>petal.length</th>\n",
              "      <th>petal.width</th>\n",
              "    </tr>\n",
              "  </thead>\n",
              "  <tbody>\n",
              "    <tr>\n",
              "      <th>count</th>\n",
              "      <td>150.000000</td>\n",
              "      <td>150.000000</td>\n",
              "      <td>150.000000</td>\n",
              "      <td>150.000000</td>\n",
              "    </tr>\n",
              "    <tr>\n",
              "      <th>mean</th>\n",
              "      <td>5.843333</td>\n",
              "      <td>3.057333</td>\n",
              "      <td>3.758000</td>\n",
              "      <td>1.199333</td>\n",
              "    </tr>\n",
              "    <tr>\n",
              "      <th>std</th>\n",
              "      <td>0.828066</td>\n",
              "      <td>0.435866</td>\n",
              "      <td>1.765298</td>\n",
              "      <td>0.762238</td>\n",
              "    </tr>\n",
              "    <tr>\n",
              "      <th>min</th>\n",
              "      <td>4.300000</td>\n",
              "      <td>2.000000</td>\n",
              "      <td>1.000000</td>\n",
              "      <td>0.100000</td>\n",
              "    </tr>\n",
              "    <tr>\n",
              "      <th>25%</th>\n",
              "      <td>5.100000</td>\n",
              "      <td>2.800000</td>\n",
              "      <td>1.600000</td>\n",
              "      <td>0.300000</td>\n",
              "    </tr>\n",
              "    <tr>\n",
              "      <th>50%</th>\n",
              "      <td>5.800000</td>\n",
              "      <td>3.000000</td>\n",
              "      <td>4.350000</td>\n",
              "      <td>1.300000</td>\n",
              "    </tr>\n",
              "    <tr>\n",
              "      <th>75%</th>\n",
              "      <td>6.400000</td>\n",
              "      <td>3.300000</td>\n",
              "      <td>5.100000</td>\n",
              "      <td>1.800000</td>\n",
              "    </tr>\n",
              "    <tr>\n",
              "      <th>max</th>\n",
              "      <td>7.900000</td>\n",
              "      <td>4.400000</td>\n",
              "      <td>6.900000</td>\n",
              "      <td>2.500000</td>\n",
              "    </tr>\n",
              "  </tbody>\n",
              "</table>\n",
              "</div>\n",
              "      <button class=\"colab-df-convert\" onclick=\"convertToInteractive('df-1757ce5c-3c84-4b6e-80d1-455775da4a1a')\"\n",
              "              title=\"Convert this dataframe to an interactive table.\"\n",
              "              style=\"display:none;\">\n",
              "        \n",
              "  <svg xmlns=\"http://www.w3.org/2000/svg\" height=\"24px\"viewBox=\"0 0 24 24\"\n",
              "       width=\"24px\">\n",
              "    <path d=\"M0 0h24v24H0V0z\" fill=\"none\"/>\n",
              "    <path d=\"M18.56 5.44l.94 2.06.94-2.06 2.06-.94-2.06-.94-.94-2.06-.94 2.06-2.06.94zm-11 1L8.5 8.5l.94-2.06 2.06-.94-2.06-.94L8.5 2.5l-.94 2.06-2.06.94zm10 10l.94 2.06.94-2.06 2.06-.94-2.06-.94-.94-2.06-.94 2.06-2.06.94z\"/><path d=\"M17.41 7.96l-1.37-1.37c-.4-.4-.92-.59-1.43-.59-.52 0-1.04.2-1.43.59L10.3 9.45l-7.72 7.72c-.78.78-.78 2.05 0 2.83L4 21.41c.39.39.9.59 1.41.59.51 0 1.02-.2 1.41-.59l7.78-7.78 2.81-2.81c.8-.78.8-2.07 0-2.86zM5.41 20L4 18.59l7.72-7.72 1.47 1.35L5.41 20z\"/>\n",
              "  </svg>\n",
              "      </button>\n",
              "      \n",
              "  <style>\n",
              "    .colab-df-container {\n",
              "      display:flex;\n",
              "      flex-wrap:wrap;\n",
              "      gap: 12px;\n",
              "    }\n",
              "\n",
              "    .colab-df-convert {\n",
              "      background-color: #E8F0FE;\n",
              "      border: none;\n",
              "      border-radius: 50%;\n",
              "      cursor: pointer;\n",
              "      display: none;\n",
              "      fill: #1967D2;\n",
              "      height: 32px;\n",
              "      padding: 0 0 0 0;\n",
              "      width: 32px;\n",
              "    }\n",
              "\n",
              "    .colab-df-convert:hover {\n",
              "      background-color: #E2EBFA;\n",
              "      box-shadow: 0px 1px 2px rgba(60, 64, 67, 0.3), 0px 1px 3px 1px rgba(60, 64, 67, 0.15);\n",
              "      fill: #174EA6;\n",
              "    }\n",
              "\n",
              "    [theme=dark] .colab-df-convert {\n",
              "      background-color: #3B4455;\n",
              "      fill: #D2E3FC;\n",
              "    }\n",
              "\n",
              "    [theme=dark] .colab-df-convert:hover {\n",
              "      background-color: #434B5C;\n",
              "      box-shadow: 0px 1px 3px 1px rgba(0, 0, 0, 0.15);\n",
              "      filter: drop-shadow(0px 1px 2px rgba(0, 0, 0, 0.3));\n",
              "      fill: #FFFFFF;\n",
              "    }\n",
              "  </style>\n",
              "\n",
              "      <script>\n",
              "        const buttonEl =\n",
              "          document.querySelector('#df-1757ce5c-3c84-4b6e-80d1-455775da4a1a button.colab-df-convert');\n",
              "        buttonEl.style.display =\n",
              "          google.colab.kernel.accessAllowed ? 'block' : 'none';\n",
              "\n",
              "        async function convertToInteractive(key) {\n",
              "          const element = document.querySelector('#df-1757ce5c-3c84-4b6e-80d1-455775da4a1a');\n",
              "          const dataTable =\n",
              "            await google.colab.kernel.invokeFunction('convertToInteractive',\n",
              "                                                     [key], {});\n",
              "          if (!dataTable) return;\n",
              "\n",
              "          const docLinkHtml = 'Like what you see? Visit the ' +\n",
              "            '<a target=\"_blank\" href=https://colab.research.google.com/notebooks/data_table.ipynb>data table notebook</a>'\n",
              "            + ' to learn more about interactive tables.';\n",
              "          element.innerHTML = '';\n",
              "          dataTable['output_type'] = 'display_data';\n",
              "          await google.colab.output.renderOutput(dataTable, element);\n",
              "          const docLink = document.createElement('div');\n",
              "          docLink.innerHTML = docLinkHtml;\n",
              "          element.appendChild(docLink);\n",
              "        }\n",
              "      </script>\n",
              "    </div>\n",
              "  </div>\n",
              "  "
            ]
          },
          "metadata": {},
          "execution_count": 291
        }
      ]
    },
    {
      "cell_type": "code",
      "source": [
        "df.head()"
      ],
      "metadata": {
        "colab": {
          "base_uri": "https://localhost:8080/",
          "height": 206
        },
        "id": "KPYBNW7ppjSe",
        "outputId": "064198d7-4ee7-450f-bea7-e23e623c90f4"
      },
      "execution_count": 292,
      "outputs": [
        {
          "output_type": "execute_result",
          "data": {
            "text/plain": [
              "   sepal.length  sepal.width  petal.length  petal.width variety\n",
              "0           5.1          3.5           1.4          0.2  Setosa\n",
              "1           4.9          3.0           1.4          0.2  Setosa\n",
              "2           4.7          3.2           1.3          0.2  Setosa\n",
              "3           4.6          3.1           1.5          0.2  Setosa\n",
              "4           5.0          3.6           1.4          0.2  Setosa"
            ],
            "text/html": [
              "\n",
              "  <div id=\"df-7fdc1722-2d0f-43a2-ac82-0d8c9802abdb\">\n",
              "    <div class=\"colab-df-container\">\n",
              "      <div>\n",
              "<style scoped>\n",
              "    .dataframe tbody tr th:only-of-type {\n",
              "        vertical-align: middle;\n",
              "    }\n",
              "\n",
              "    .dataframe tbody tr th {\n",
              "        vertical-align: top;\n",
              "    }\n",
              "\n",
              "    .dataframe thead th {\n",
              "        text-align: right;\n",
              "    }\n",
              "</style>\n",
              "<table border=\"1\" class=\"dataframe\">\n",
              "  <thead>\n",
              "    <tr style=\"text-align: right;\">\n",
              "      <th></th>\n",
              "      <th>sepal.length</th>\n",
              "      <th>sepal.width</th>\n",
              "      <th>petal.length</th>\n",
              "      <th>petal.width</th>\n",
              "      <th>variety</th>\n",
              "    </tr>\n",
              "  </thead>\n",
              "  <tbody>\n",
              "    <tr>\n",
              "      <th>0</th>\n",
              "      <td>5.1</td>\n",
              "      <td>3.5</td>\n",
              "      <td>1.4</td>\n",
              "      <td>0.2</td>\n",
              "      <td>Setosa</td>\n",
              "    </tr>\n",
              "    <tr>\n",
              "      <th>1</th>\n",
              "      <td>4.9</td>\n",
              "      <td>3.0</td>\n",
              "      <td>1.4</td>\n",
              "      <td>0.2</td>\n",
              "      <td>Setosa</td>\n",
              "    </tr>\n",
              "    <tr>\n",
              "      <th>2</th>\n",
              "      <td>4.7</td>\n",
              "      <td>3.2</td>\n",
              "      <td>1.3</td>\n",
              "      <td>0.2</td>\n",
              "      <td>Setosa</td>\n",
              "    </tr>\n",
              "    <tr>\n",
              "      <th>3</th>\n",
              "      <td>4.6</td>\n",
              "      <td>3.1</td>\n",
              "      <td>1.5</td>\n",
              "      <td>0.2</td>\n",
              "      <td>Setosa</td>\n",
              "    </tr>\n",
              "    <tr>\n",
              "      <th>4</th>\n",
              "      <td>5.0</td>\n",
              "      <td>3.6</td>\n",
              "      <td>1.4</td>\n",
              "      <td>0.2</td>\n",
              "      <td>Setosa</td>\n",
              "    </tr>\n",
              "  </tbody>\n",
              "</table>\n",
              "</div>\n",
              "      <button class=\"colab-df-convert\" onclick=\"convertToInteractive('df-7fdc1722-2d0f-43a2-ac82-0d8c9802abdb')\"\n",
              "              title=\"Convert this dataframe to an interactive table.\"\n",
              "              style=\"display:none;\">\n",
              "        \n",
              "  <svg xmlns=\"http://www.w3.org/2000/svg\" height=\"24px\"viewBox=\"0 0 24 24\"\n",
              "       width=\"24px\">\n",
              "    <path d=\"M0 0h24v24H0V0z\" fill=\"none\"/>\n",
              "    <path d=\"M18.56 5.44l.94 2.06.94-2.06 2.06-.94-2.06-.94-.94-2.06-.94 2.06-2.06.94zm-11 1L8.5 8.5l.94-2.06 2.06-.94-2.06-.94L8.5 2.5l-.94 2.06-2.06.94zm10 10l.94 2.06.94-2.06 2.06-.94-2.06-.94-.94-2.06-.94 2.06-2.06.94z\"/><path d=\"M17.41 7.96l-1.37-1.37c-.4-.4-.92-.59-1.43-.59-.52 0-1.04.2-1.43.59L10.3 9.45l-7.72 7.72c-.78.78-.78 2.05 0 2.83L4 21.41c.39.39.9.59 1.41.59.51 0 1.02-.2 1.41-.59l7.78-7.78 2.81-2.81c.8-.78.8-2.07 0-2.86zM5.41 20L4 18.59l7.72-7.72 1.47 1.35L5.41 20z\"/>\n",
              "  </svg>\n",
              "      </button>\n",
              "      \n",
              "  <style>\n",
              "    .colab-df-container {\n",
              "      display:flex;\n",
              "      flex-wrap:wrap;\n",
              "      gap: 12px;\n",
              "    }\n",
              "\n",
              "    .colab-df-convert {\n",
              "      background-color: #E8F0FE;\n",
              "      border: none;\n",
              "      border-radius: 50%;\n",
              "      cursor: pointer;\n",
              "      display: none;\n",
              "      fill: #1967D2;\n",
              "      height: 32px;\n",
              "      padding: 0 0 0 0;\n",
              "      width: 32px;\n",
              "    }\n",
              "\n",
              "    .colab-df-convert:hover {\n",
              "      background-color: #E2EBFA;\n",
              "      box-shadow: 0px 1px 2px rgba(60, 64, 67, 0.3), 0px 1px 3px 1px rgba(60, 64, 67, 0.15);\n",
              "      fill: #174EA6;\n",
              "    }\n",
              "\n",
              "    [theme=dark] .colab-df-convert {\n",
              "      background-color: #3B4455;\n",
              "      fill: #D2E3FC;\n",
              "    }\n",
              "\n",
              "    [theme=dark] .colab-df-convert:hover {\n",
              "      background-color: #434B5C;\n",
              "      box-shadow: 0px 1px 3px 1px rgba(0, 0, 0, 0.15);\n",
              "      filter: drop-shadow(0px 1px 2px rgba(0, 0, 0, 0.3));\n",
              "      fill: #FFFFFF;\n",
              "    }\n",
              "  </style>\n",
              "\n",
              "      <script>\n",
              "        const buttonEl =\n",
              "          document.querySelector('#df-7fdc1722-2d0f-43a2-ac82-0d8c9802abdb button.colab-df-convert');\n",
              "        buttonEl.style.display =\n",
              "          google.colab.kernel.accessAllowed ? 'block' : 'none';\n",
              "\n",
              "        async function convertToInteractive(key) {\n",
              "          const element = document.querySelector('#df-7fdc1722-2d0f-43a2-ac82-0d8c9802abdb');\n",
              "          const dataTable =\n",
              "            await google.colab.kernel.invokeFunction('convertToInteractive',\n",
              "                                                     [key], {});\n",
              "          if (!dataTable) return;\n",
              "\n",
              "          const docLinkHtml = 'Like what you see? Visit the ' +\n",
              "            '<a target=\"_blank\" href=https://colab.research.google.com/notebooks/data_table.ipynb>data table notebook</a>'\n",
              "            + ' to learn more about interactive tables.';\n",
              "          element.innerHTML = '';\n",
              "          dataTable['output_type'] = 'display_data';\n",
              "          await google.colab.output.renderOutput(dataTable, element);\n",
              "          const docLink = document.createElement('div');\n",
              "          docLink.innerHTML = docLinkHtml;\n",
              "          element.appendChild(docLink);\n",
              "        }\n",
              "      </script>\n",
              "    </div>\n",
              "  </div>\n",
              "  "
            ]
          },
          "metadata": {},
          "execution_count": 292
        }
      ]
    },
    {
      "cell_type": "code",
      "source": [
        "dict(df[\"variety\"].value_counts())"
      ],
      "metadata": {
        "colab": {
          "base_uri": "https://localhost:8080/"
        },
        "id": "hLnLB9AY-tTG",
        "outputId": "d429f68d-8e62-4ff5-99c5-b5b9d7bd6db4"
      },
      "execution_count": 293,
      "outputs": [
        {
          "output_type": "execute_result",
          "data": {
            "text/plain": [
              "{'Setosa': 50, 'Versicolor': 50, 'Virginica': 50}"
            ]
          },
          "metadata": {},
          "execution_count": 293
        }
      ]
    },
    {
      "cell_type": "markdown",
      "source": [
        "## Standardising the Data using Standard Scaler"
      ],
      "metadata": {
        "id": "XFXIeJmmgABd"
      }
    },
    {
      "cell_type": "code",
      "source": [
        "from sklearn.preprocessing import StandardScaler"
      ],
      "metadata": {
        "id": "28rJ3dCMedn-"
      },
      "execution_count": 294,
      "outputs": []
    },
    {
      "cell_type": "code",
      "source": [
        "SS =  StandardScaler()"
      ],
      "metadata": {
        "id": "Q6R19xq6edrd"
      },
      "execution_count": 295,
      "outputs": []
    },
    {
      "cell_type": "code",
      "source": [
        "df_x = df.drop(columns=[\"variety\"])"
      ],
      "metadata": {
        "id": "F_6XVmd7ezuY"
      },
      "execution_count": 296,
      "outputs": []
    },
    {
      "cell_type": "code",
      "source": [
        "df_x = pd.DataFrame(SS.fit_transform(df_x),columns = list(set(df.columns)-{\"variety\"}))"
      ],
      "metadata": {
        "id": "ktArapJeen0w"
      },
      "execution_count": 297,
      "outputs": []
    },
    {
      "cell_type": "code",
      "source": [
        "df_x[\"variety\"] = df[\"variety\"]"
      ],
      "metadata": {
        "id": "wLi6xqSZfFUF"
      },
      "execution_count": 298,
      "outputs": []
    },
    {
      "cell_type": "code",
      "source": [
        "df = df_x"
      ],
      "metadata": {
        "id": "ceqTGdqQfer8"
      },
      "execution_count": 299,
      "outputs": []
    },
    {
      "cell_type": "code",
      "source": [
        "df  = df.sample(frac=1)"
      ],
      "metadata": {
        "id": "Kv1bwFebKuyt"
      },
      "execution_count": 300,
      "outputs": []
    },
    {
      "cell_type": "code",
      "source": [
        "df_train = df[:130]\n",
        "df_test = df[130:151]"
      ],
      "metadata": {
        "id": "iHsdkcf8NAEF"
      },
      "execution_count": 301,
      "outputs": []
    },
    {
      "cell_type": "code",
      "source": [
        "df_train_x = df_train.drop(columns=[\"variety\"])\n",
        "df_train_y = df_train[\"variety\"]"
      ],
      "metadata": {
        "id": "mG37gMKcy7kI"
      },
      "execution_count": 311,
      "outputs": []
    },
    {
      "cell_type": "code",
      "source": [
        "df_test_x = df_test.drop(columns=[\"variety\"])\n",
        "df_test_y = df_test[\"variety\"]"
      ],
      "metadata": {
        "id": "Q8lbnglsWNqz"
      },
      "execution_count": 302,
      "outputs": []
    },
    {
      "cell_type": "markdown",
      "source": [
        "## LDA Model"
      ],
      "metadata": {
        "id": "00c42NXPgE_K"
      }
    },
    {
      "cell_type": "code",
      "source": [
        "Model = LDA(df_train,\"variety\")"
      ],
      "metadata": {
        "id": "YU3dW7s-NTmq"
      },
      "execution_count": 317,
      "outputs": []
    },
    {
      "cell_type": "code",
      "source": [
        "Model.calc_class_mean()"
      ],
      "metadata": {
        "colab": {
          "base_uri": "https://localhost:8080/"
        },
        "id": "XNKbmbXMd5Vv",
        "outputId": "ad88d184-6886-419e-a871-9fbc535c0d43"
      },
      "execution_count": 318,
      "outputs": [
        {
          "output_type": "execute_result",
          "data": {
            "text/plain": [
              "{'petal.length_Versicolor': 0.112,\n",
              " 'petal.length_Virginica': 0.902,\n",
              " 'petal.length_Setosa': -1.015,\n",
              " 'petal.width_Versicolor': -0.661,\n",
              " 'petal.width_Virginica': -0.192,\n",
              " 'petal.width_Setosa': 0.853,\n",
              " 'sepal.length_Versicolor': 0.285,\n",
              " 'sepal.length_Virginica': 1.02,\n",
              " 'sepal.length_Setosa': -1.305,\n",
              " 'sepal.width_Versicolor': 0.167,\n",
              " 'sepal.width_Virginica': 1.088,\n",
              " 'sepal.width_Setosa': -1.255}"
            ]
          },
          "metadata": {},
          "execution_count": 318
        }
      ]
    },
    {
      "cell_type": "code",
      "source": [
        "ypred = Model.Predict(df_test_x)"
      ],
      "metadata": {
        "id": "-VSrtK0-gc_7"
      },
      "execution_count": null,
      "outputs": []
    },
    {
      "cell_type": "code",
      "source": [
        "PC = ModelPerformanceMetrics(list(df_test_y),list(ypred))"
      ],
      "metadata": {
        "id": "O49UcHaaf1o1"
      },
      "execution_count": 323,
      "outputs": []
    },
    {
      "cell_type": "code",
      "source": [
        "PC.Accuracy()"
      ],
      "metadata": {
        "colab": {
          "base_uri": "https://localhost:8080/",
          "height": 36
        },
        "id": "6NLDs9VqkmCA",
        "outputId": "0092d7a1-4c3d-4d77-bd00-83d573a8e634"
      },
      "execution_count": 324,
      "outputs": [
        {
          "output_type": "execute_result",
          "data": {
            "text/plain": [
              "'Accuracy of the Model is 0.95'"
            ],
            "application/vnd.google.colaboratory.intrinsic+json": {
              "type": "string"
            }
          },
          "metadata": {},
          "execution_count": 324
        }
      ]
    },
    {
      "cell_type": "markdown",
      "source": [
        "## Using sklearn for implementing LDA"
      ],
      "metadata": {
        "id": "P1DjRRae0LQO"
      }
    },
    {
      "cell_type": "code",
      "source": [
        "from sklearn.discriminant_analysis import LinearDiscriminantAnalysis"
      ],
      "metadata": {
        "id": "dw4BOhFNyv9l"
      },
      "execution_count": 309,
      "outputs": []
    },
    {
      "cell_type": "code",
      "source": [
        "clf = LinearDiscriminantAnalysis()"
      ],
      "metadata": {
        "id": "iA5d8Pudyzbe"
      },
      "execution_count": 310,
      "outputs": []
    },
    {
      "cell_type": "code",
      "source": [
        "clf.fit(df_train_x,df_train_y)"
      ],
      "metadata": {
        "colab": {
          "base_uri": "https://localhost:8080/"
        },
        "id": "9gHKc2Ily322",
        "outputId": "4992d319-e757-4f46-9314-d0eab64966b1"
      },
      "execution_count": 312,
      "outputs": [
        {
          "output_type": "execute_result",
          "data": {
            "text/plain": [
              "LinearDiscriminantAnalysis()"
            ]
          },
          "metadata": {},
          "execution_count": 312
        }
      ]
    },
    {
      "cell_type": "code",
      "source": [
        "pc1 = ModelPerformanceMetrics(list(df_test_y),list(clf.predict(df_test_x)))"
      ],
      "metadata": {
        "id": "W6ne3gplzJZu"
      },
      "execution_count": 315,
      "outputs": []
    },
    {
      "cell_type": "code",
      "source": [
        "pc1.Accuracy()"
      ],
      "metadata": {
        "colab": {
          "base_uri": "https://localhost:8080/",
          "height": 36
        },
        "id": "kyGFDwWCzP8c",
        "outputId": "467d6532-fe65-4ea8-cc52-1279f4c613e5"
      },
      "execution_count": 316,
      "outputs": [
        {
          "output_type": "execute_result",
          "data": {
            "text/plain": [
              "'Accuracy of the Model is 1.00'"
            ],
            "application/vnd.google.colaboratory.intrinsic+json": {
              "type": "string"
            }
          },
          "metadata": {},
          "execution_count": 316
        }
      ]
    }
  ]
}