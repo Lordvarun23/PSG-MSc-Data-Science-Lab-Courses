{
  "nbformat": 4,
  "nbformat_minor": 0,
  "metadata": {
    "colab": {
      "provenance": [],
      "collapsed_sections": []
    },
    "kernelspec": {
      "name": "python3",
      "display_name": "Python 3"
    },
    "language_info": {
      "name": "python"
    }
  },
  "cells": [
    {
      "cell_type": "markdown",
      "source": [
        "<h4> QS: 1</h4>\n",
        "Write a python program to calculate interpolated value at given point\n",
        "using linear interpolation method. Also, print the corresponding linear\n",
        "polynomial."
      ],
      "metadata": {
        "id": "W8mxG1-EdspU"
      }
    },
    {
      "cell_type": "code",
      "execution_count": null,
      "metadata": {
        "colab": {
          "base_uri": "https://localhost:8080/"
        },
        "id": "mQf31VjrdcrS",
        "outputId": "5e714baa-fcb6-4a2e-92f1-a3bfa6532788"
      },
      "outputs": [
        {
          "output_type": "stream",
          "name": "stdout",
          "text": [
            "The equation or fn is : -5.0 + 3.0 x\n",
            "the fn value at x=0 is: -5.0\n"
          ]
        }
      ],
      "source": [
        "#a\n",
        "def linear_interpolate(p1,p2,fp1,fp2):\n",
        "  return [fp1 -((fp2-fp1)*p1)/(p2-p1), (fp2-fp1)/(p2-p1)]\n",
        "coef_ = linear_interpolate(-1,2,-8,1)\n",
        "print(\"The equation or fn is :\",coef_[0],\"+\", coef_[1],\"x\")\n",
        "print(\"the fn value at x=0 is:\", coef_[0]+coef_[1]*0)"
      ]
    },
    {
      "cell_type": "code",
      "source": [
        "#b\n",
        "coef_ = linear_interpolate(3,7,6,58)\n",
        "print(\"The equation or fn is :\",coef_[0],\"+\", coef_[1],\"x\")\n",
        "print(\"the fn value at x=5 is:\", coef_[0]+coef_[1]*5)"
      ],
      "metadata": {
        "colab": {
          "base_uri": "https://localhost:8080/"
        },
        "id": "9qk-trK9eiSV",
        "outputId": "909e4f7e-041a-4989-f8bb-ff3e078a54c1"
      },
      "execution_count": null,
      "outputs": [
        {
          "output_type": "stream",
          "name": "stdout",
          "text": [
            "The equation or fn is : -33.0 + 13.0 x\n",
            "the fn value at x=5 is: 32.0\n"
          ]
        }
      ]
    },
    {
      "cell_type": "code",
      "source": [
        "#c\n",
        "coef_ = linear_interpolate(5,9,12,15)\n",
        "print(\"The equation or fn is :\",coef_[0],\"+\", coef_[1],\"x\")\n",
        "print(\"the fn value at x=6 is:\", coef_[0]+coef_[1]*6)"
      ],
      "metadata": {
        "colab": {
          "base_uri": "https://localhost:8080/"
        },
        "id": "yliPQJAZfGnK",
        "outputId": "238dca9b-5651-4f85-a167-f54c5ee749e2"
      },
      "execution_count": null,
      "outputs": [
        {
          "output_type": "stream",
          "name": "stdout",
          "text": [
            "The equation or fn is : 8.25 + 0.75 x\n",
            "the fn value at x=6 is: 12.75\n"
          ]
        }
      ]
    },
    {
      "cell_type": "markdown",
      "source": [
        "<h4> QS:2 </h4>\n",
        "Write a python program to calculate interpolated value at given point\n",
        "using quadratic interpolation method. Also, print the corresponding\n",
        "quadratic polynomial."
      ],
      "metadata": {
        "id": "ZExN_DJGfpvu"
      }
    },
    {
      "cell_type": "code",
      "source": [
        "def quad_interpolate(x,fx):\n",
        "  return [fx[0],(fx[1]-fx[0])/(x[1]-x[0]),(((fx[2]-fx[1])/(x[2]-x[1])-(fx[1]-fx[0])/(x[1]-x[0])))/(x[2]-x[0])]\n",
        "def quad_intval(xn,x,qi):\n",
        "  return qi[0]+(qi[1]*(xn-x[0]))+(qi[2]*(xn-x[0])*(xn-x[1]))"
      ],
      "metadata": {
        "id": "fYrfJtORfLsT"
      },
      "execution_count": null,
      "outputs": []
    },
    {
      "cell_type": "code",
      "source": [
        "#a\n",
        "x = eval(input(\"[x0,x1,x2]:\"))\n",
        "fx = eval(input(\"[fx0,fx1,fx2]:\"))\n",
        "xn = float(input(\"the x value:\"))\n",
        "coef_ = quad_interpolate(x,fx)\n",
        "print(\"the equation is: \",coef_[0]-coef_[1]*x[0]+coef_[2]*x[0]*x[1],\"+\",coef_[1]-coef_[2]*x[1]-coef_[2]*x[0],\"x + \",coef_[2],\"x^2\")\n",
        "print(\"the fn value at x=2.75 :\",quad_intval(xn,x,coef_))"
      ],
      "metadata": {
        "colab": {
          "base_uri": "https://localhost:8080/"
        },
        "id": "12cJ4aLxfS_Y",
        "outputId": "30d092fb-c7f3-475c-9d15-44c55a5e4c44"
      },
      "execution_count": null,
      "outputs": [
        {
          "output_type": "stream",
          "name": "stdout",
          "text": [
            "[x0,x1,x2]:[0,2,3]\n",
            "[fx0,fx1,fx2]:[659,705,729]\n",
            "the x value:2.75\n",
            "the equation is:  659.0 + 22.333333333333332 x +  0.3333333333333333 x^2\n",
            "the fn value at x=2.75 : 722.9375\n"
          ]
        }
      ]
    },
    {
      "cell_type": "code",
      "source": [
        "#b\n",
        "x = eval(input(\"[x0,x1,x2]:\"))\n",
        "fx = eval(input(\"[fx0,fx1,fx2]:\"))\n",
        "xn = float(input(\"the x value:\"))\n",
        "coef_ = quad_interpolate(x,fx)\n",
        "print(\"the equation is: \",coef_[0]-coef_[1]*x[0]+coef_[2]*x[0]*x[1],\"+\",coef_[1]-coef_[2]*x[1]-coef_[2]*x[0],\"x + \",coef_[2],\"x^2\")\n",
        "print(\"the fn value at x=2.8 :\",quad_intval(xn,x,coef_))"
      ],
      "metadata": {
        "id": "fcBlcXr4ic-y",
        "colab": {
          "base_uri": "https://localhost:8080/"
        },
        "outputId": "5cc6e20b-d8a1-4310-e912-7d45f3536e5e"
      },
      "execution_count": null,
      "outputs": [
        {
          "output_type": "stream",
          "name": "stdout",
          "text": [
            "[x0,x1,x2]:[0,1,4]\n",
            "[fx0,fx1,fx2]:[4,3,24]\n",
            "the x value:2.8\n",
            "the equation is:  4.0 + -3.0 x +  2.0 x^2\n",
            "the fn value at x=2.8 : 11.279999999999998\n"
          ]
        }
      ]
    },
    {
      "cell_type": "code",
      "source": [
        "#c\n",
        "x = eval(input(\"[x0,x1,x2]:\"))\n",
        "fx = eval(input(\"[fx0,fx1,fx2]:\"))\n",
        "xn = float(input(\"the x value:\"))\n",
        "coef_ = quad_interpolate(x,fx)\n",
        "print(\"the equation is: \",coef_[0]-coef_[1]*x[0]+coef_[2]*x[0]*x[1],\"+\",coef_[1]-coef_[2]*x[1]-coef_[2]*x[0],\"x + \",coef_[2],\"x^2\")\n",
        "print(\"the fn value at x=94.5 :\",quad_intval(xn,x,coef_))"
      ],
      "metadata": {
        "colab": {
          "base_uri": "https://localhost:8080/"
        },
        "id": "GXwrtZXAjdE3",
        "outputId": "1a938c29-0744-4265-ba60-a506caa22330"
      },
      "execution_count": null,
      "outputs": [
        {
          "output_type": "stream",
          "name": "stdout",
          "text": [
            "[x0,x1,x2]:[93,96.2,100]\n",
            "[fx0,fx1,fx2]:[11.38,12.80,14.70]\n",
            "the x value:94.5\n",
            "the equation is:  42.003571428572 + -1.0766071428571544 x +  0.008035714285714344 x^2\n",
            "the fn value at x=94.5 : 12.025133928571428\n"
          ]
        }
      ]
    },
    {
      "cell_type": "markdown",
      "source": [
        "<h4> Qs: 3 </h4>\n",
        "Write a python program to find the equation of the parabola passing\n",
        "through the points (0, 0), (1, 1) and (2, 20)."
      ],
      "metadata": {
        "id": "jg6rIy4xj5Tl"
      }
    },
    {
      "cell_type": "code",
      "source": [
        "#as it is a 3 point dataset. the polynomial interpolationn means the quadratic interpolation\n",
        "x = eval(input(\"[x0,x1,x2]:\"))\n",
        "fx = eval(input(\"[fx0,fx1,fx2]:\"))\n",
        "coef_ = quad_interpolate(x,fx)\n",
        "print(\"the equation is: \",coef_[0]-coef_[1]*x[0]+coef_[2]*x[0]*x[1],\"+\",coef_[1]-coef_[2]*x[1]-coef_[2]*x[0],\"x + \",coef_[2],\"x^2\")"
      ],
      "metadata": {
        "colab": {
          "base_uri": "https://localhost:8080/"
        },
        "id": "uiiwmOwljvxW",
        "outputId": "cae3f4d5-a7ff-4d30-894a-9674717ad9cb"
      },
      "execution_count": null,
      "outputs": [
        {
          "output_type": "stream",
          "name": "stdout",
          "text": [
            "[x0,x1,x2]:[0,1,2]\n",
            "[fx0,fx1,fx2]:[0,1,20]\n",
            "the equation is:  0.0 + -8.0 x +  9.0 x^2\n"
          ]
        }
      ]
    },
    {
      "cell_type": "markdown",
      "source": [
        "<h4> Qs: 4 </h4>\n",
        "Write a python program to calculate interpolated value at given point\n",
        "using newton’s divided difference interpolation method. Also, print the\n",
        "divided difference table and the corresponding polynomial."
      ],
      "metadata": {
        "id": "4GmJxBzCkV8q"
      }
    },
    {
      "cell_type": "code",
      "source": [
        "#a\n",
        "import numpy as np\n",
        "def divided_diff(x, y):\n",
        "    '''\n",
        "    function to calculate the divided\n",
        "    differences table\n",
        "    '''\n",
        "    n = len(y)\n",
        "    coef = np.zeros([n, n])\n",
        "    # the first column is y\n",
        "    coef[:,0] = y\n",
        "    \n",
        "    for j in range(1,n):\n",
        "        for i in range(n-j):\n",
        "            coef[i][j] = \\\n",
        "           (coef[i+1][j-1] - coef[i][j-1]) / (x[i+j]-x[i])\n",
        "            \n",
        "    return coef\n",
        "\n",
        "def newton_poly(coef, x_data, x):\n",
        "    '''\n",
        "    evaluate the newton polynomial \n",
        "    at x\n",
        "    '''\n",
        "    n = len(x_data) - 1 \n",
        "    p = coef[n]\n",
        "    for k in range(1,n+1):\n",
        "        p = coef[n-k] + (x -x_data[n-k])*p\n",
        "    return p\n",
        "\n",
        "x1 = np.array([0, 2, 3])\n",
        "y1 = np.array([659, 705, 729])\n",
        "x2 = np.array([0, 1, 4])\n",
        "y2 = np.array([4, 3, 24])\n",
        "x3 = np.array([93, 96.2, 100])\n",
        "y3 = np.array([11.38, 12.80, 14.70])\n",
        "\n",
        "# get the divided difference coef\n",
        "a_s1 = divided_diff(x1, y1)[0, :]\n",
        "a_s2 = divided_diff(x2, y2)[0, :]\n",
        "a_s3 = divided_diff(x3, y3)[0, :]\n",
        "\n",
        "# evaluate on new data points\n",
        "y_new1 = newton_poly(a_s1, x1, 2.75)\n",
        "y_new2 = newton_poly(a_s2, x2, 2.8)\n",
        "y_new3 = newton_poly(a_s3, x3, 94.5)\n",
        "\n",
        "print(y_new1)\n",
        "print(y_new2)\n",
        "print(y_new3)"
      ],
      "metadata": {
        "id": "3X0Ab3OzkRRR",
        "colab": {
          "base_uri": "https://localhost:8080/"
        },
        "outputId": "ec0deb8e-cc8b-413d-b034-7a6cc6058929"
      },
      "execution_count": null,
      "outputs": [
        {
          "output_type": "stream",
          "name": "stdout",
          "text": [
            "722.9375\n",
            "11.279999999999998\n",
            "12.025133928571428\n"
          ]
        }
      ]
    },
    {
      "cell_type": "markdown",
      "source": [
        "<h4> Qs: 5 </h4>\n",
        "Write a python program to solve the following problem: From the\n",
        "given table of half-yearly premium for policies maturing at different\n",
        "ages, estimate the premium for policies maturing at age 46 and 63."
      ],
      "metadata": {
        "id": "CXXqlauAluHH"
      }
    },
    {
      "cell_type": "code",
      "source": [
        "#x = 46\n",
        "def forward(y,y1,y2,y3,y4,ind,xn):\n",
        "  p = (xn-x[x_ind])/(x[1]-x[0])\n",
        "  return y[ind] + (p*y1) + (p*(p-1)*y2)/2 + (p*(p-1)*(p-2)*y3)/6 + (p*(p-1)*(p-2)*(p-3)*y4)/24\n",
        "  \n",
        "\n",
        "\n",
        "x = [i for i in range(45,66,5)]\n",
        "y = [114.84,96.16,83.32,74.48,68.48]\n",
        "xn = int(input(\"Enter x:\"))\n",
        "for i in range(len(x)):\n",
        "  if x[i]<xn:\n",
        "    x_ind = i\n",
        "  else:\n",
        "    break\n",
        "print(x_ind)\n",
        "y1 = []\n",
        "for i in range(0,len(y)-1):\n",
        "  y1.append(y[i+1]-y[i])\n",
        "y2 = []\n",
        "for i in range(0,len(y1)-1):\n",
        "  y2.append(y1[i+1]-y1[i])\n",
        "y3 = []\n",
        "for i in range(0,len(y2)-1):\n",
        "  y3.append(y2[i+1]-y2[i])\n",
        "y4 = []\n",
        "for i in range(0,len(y3)-1):\n",
        "  y4.append(y3[i+1]-y3[i])\n",
        "\n",
        "y1,y2,y3,y4 = y1[x_ind],y2[x_ind],y3[x_ind],y4[0]\n",
        "\n",
        "forward(y,y1,y2,y3,y4,x_ind,xn)"
      ],
      "metadata": {
        "colab": {
          "base_uri": "https://localhost:8080/"
        },
        "id": "cjnThT4ClxdJ",
        "outputId": "54be8588-7cd8-46c6-d978-239984ed13d7"
      },
      "execution_count": null,
      "outputs": [
        {
          "output_type": "stream",
          "name": "stdout",
          "text": [
            "Enter x:46\n",
            "0\n"
          ]
        },
        {
          "output_type": "execute_result",
          "data": {
            "text/plain": [
              "110.525632"
            ]
          },
          "metadata": {},
          "execution_count": 49
        }
      ]
    },
    {
      "cell_type": "code",
      "source": [
        "#x=63\n",
        "def forward(y,y1,y2,y3,y4,ind,xn):\n",
        "  p = (xn-x[x_ind])/(x[1]-x[0])\n",
        "  return y[ind] + (p*y1) + (p*(p-1)*y2)/2 + (p*(p-1)*(p-2)*y3)/6 + (p*(p-1)*(p-2)*(p-3)*y4)/24\n",
        "  \n",
        "\n",
        "\n",
        "x = [i for i in range(45,66,5)]\n",
        "y = [114.84,96.16,83.32,74.48,68.48]\n",
        "xn = int(input(\"Enter x:\"))\n",
        "for i in range(len(x)):\n",
        "  if x[i]<xn:\n",
        "    x_ind = i\n",
        "  else:\n",
        "    break\n",
        "print(x_ind)\n",
        "y1 = []\n",
        "for i in range(0,len(y)-1):\n",
        "  y1.append(y[i+1]-y[i])\n",
        "y2 = []\n",
        "for i in range(0,len(y1)-1):\n",
        "  y2.append(y1[i+1]-y1[i])\n",
        "y3 = []\n",
        "for i in range(0,len(y2)-1):\n",
        "  y3.append(y2[i+1]-y2[i])\n",
        "y4 = []\n",
        "for i in range(0,len(y3)-1):\n",
        "  y4.append(y3[i+1]-y3[i])\n",
        "\n",
        "y1,y2,y3,y4 = y1[x_ind],y2[0],y3[0],y4[0]\n",
        "\n",
        "forward(y,y1,y2,y3,y4,x_ind,xn)"
      ],
      "metadata": {
        "colab": {
          "base_uri": "https://localhost:8080/"
        },
        "id": "vZeOsVtKl3jk",
        "outputId": "5c38a16f-bb86-4d21-dbac-4db04b02c7b1"
      },
      "execution_count": null,
      "outputs": [
        {
          "output_type": "stream",
          "name": "stdout",
          "text": [
            "Enter x:63\n",
            "3\n"
          ]
        },
        {
          "output_type": "execute_result",
          "data": {
            "text/plain": [
              "70.05331200000002"
            ]
          },
          "metadata": {},
          "execution_count": 52
        }
      ]
    },
    {
      "cell_type": "code",
      "source": [],
      "metadata": {
        "id": "iix3VTOFuwCT"
      },
      "execution_count": null,
      "outputs": []
    }
  ]
}