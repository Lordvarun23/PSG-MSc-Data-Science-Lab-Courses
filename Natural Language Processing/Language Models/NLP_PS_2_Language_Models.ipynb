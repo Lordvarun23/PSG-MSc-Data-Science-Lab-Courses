{
  "nbformat": 4,
  "nbformat_minor": 0,
  "metadata": {
    "colab": {
      "provenance": []
    },
    "kernelspec": {
      "name": "python3",
      "display_name": "Python 3"
    },
    "language_info": {
      "name": "python"
    }
  },
  "cells": [
    {
      "cell_type": "markdown",
      "source": [
        "# Language Models\n",
        "1. a probabilistic approach to model the corpus.\n",
        "2. Can be used for variety of tasks such as next word prediction, ASR etc\n",
        "3. N gram analysis"
      ],
      "metadata": {
        "id": "46OrxHIgbIl4"
      }
    },
    {
      "cell_type": "code",
      "source": [
        "import pandas as pd\n",
        "import numpy as np\n",
        "import matplotlib.pyplot as plt\n",
        "import re\n",
        "import warnings\n",
        "warnings.filterwarnings(\"ignore\")"
      ],
      "metadata": {
        "id": "TUxIC9q_bvf_"
      },
      "execution_count": null,
      "outputs": []
    },
    {
      "cell_type": "code",
      "execution_count": null,
      "metadata": {
        "id": "WXElswesbATc"
      },
      "outputs": [],
      "source": [
        "class LanguageModels:\n",
        "  def __init__(self,corpus):\n",
        "    '''\n",
        "    Constructor function to initialise the class members\n",
        "    @params\n",
        "    :corpus list of sentences\n",
        "    @return\n",
        "    :None\n",
        "    '''\n",
        "    self.corpus = corpus\n",
        "    self.ngrams = None\n",
        "    self.ngrams_size = None\n",
        "    self.vocab = None\n",
        "    self.unseen_smooth_prob = None\n",
        "\n",
        "  def V(self):\n",
        "    '''\n",
        "    Function to return the size of vocabulary\n",
        "    @params\n",
        "    :None\n",
        "    @return\n",
        "    :int\n",
        "    '''\n",
        "    return len(self.vocab)\n",
        "\n",
        "  def preprocess(self):\n",
        "    return None\n",
        "\n",
        "  def build_ngrams(self,N=1):\n",
        "    '''\n",
        "    Function to build n grams of the texts\n",
        "    @params\n",
        "    :N ngram value by default 1\n",
        "    @return\n",
        "    :probabilistic model\n",
        "    '''\n",
        "\n",
        "    ngrams = {}\n",
        "    for sentence in self.corpus:\n",
        "      tokens = sentence.split() #splitting the sentence into tokens [words]\n",
        "\n",
        "      #Adding delimeters to the sentence\n",
        "      for delimters in range(N-1):\n",
        "        tokens.insert(0,'<S>')\n",
        "      if N!=1:\n",
        "        tokens.append('</S>')\n",
        "      for iter in range(0,len(tokens)):\n",
        "        gram = tuple(tokens[iter:iter+N])\n",
        "        for lowergrams in range(len(gram)):\n",
        "\n",
        "          lowergram = gram[:lowergrams+1]\n",
        "\n",
        "          if lowergram in ngrams:\n",
        "            ngrams[lowergram] += 1\n",
        "          else:\n",
        "            ngrams[lowergram] = 1\n",
        "\n",
        "    self.ngrams = ngrams\n",
        "\n",
        "    size = {}\n",
        "    for i in ngrams:\n",
        "      for n in range(1,N+1):\n",
        "        if len(i)==n:\n",
        "          if n in size:\n",
        "            size[n] +=1\n",
        "          else:\n",
        "            size[n] = 1\n",
        "    self.ngrams_size = size\n",
        "\n",
        "    vocab = []\n",
        "    for i in ngrams:\n",
        "      if len(i) == 1:\n",
        "        vocab.append(i)\n",
        "\n",
        "    self.vocab = vocab\n",
        "\n",
        "  def perplexity(self,sentence,smoothing=False,display=False,N=1):\n",
        "    sentence_prob,n = self.smooth_sentence_probability(sentence,display,N)\n",
        "\n",
        "    if sentence_prob==0:\n",
        "      if display:\n",
        "        print(\"For the given sentence, the perplexity for\",N,\"gram =\",\"inf\")\n",
        "      return 10^10\n",
        "\n",
        "    #normalised probability is geometric mean of joint probability\n",
        "    normalised_prob = (sentence_prob)**(1/n)\n",
        "    #perplexity is inverse of normalised probability\n",
        "    perplexity = round(1/normalised_prob,3)\n",
        "    if display:\n",
        "      print(\"For the given sentence, the perplexity for\",N,\"gram =\",perplexity)\n",
        "\n",
        "    return perplexity\n",
        "\n",
        "  def sentence_probability(self, sentence,smoothing=False, N=1):\n",
        "    '''\n",
        "    Function to calculate probability of the sentence based on n gram analysis\n",
        "    @params\n",
        "    :sentence the sentence to which we need to calculate probability\n",
        "    :smoothing to handle unseen words by default False\n",
        "    :N ngram value by default 1\n",
        "    @return\n",
        "    :probability value [0-1]\n",
        "    '''\n",
        "\n",
        "    tokens = sentence.split()\n",
        "    for delimters in range(N-1):\n",
        "        tokens.insert(0,'<S>')\n",
        "    if N!=1:\n",
        "      tokens.append('</S>')\n",
        "\n",
        "\n",
        "\n",
        "    prob_sentence = 1\n",
        "    n_tokens = 0\n",
        "    D = 0.75\n",
        "\n",
        "    for iter in range(0,len(tokens)):\n",
        "      ngrams_list = self.ngrams\n",
        "      gram = tuple(tokens[iter:iter+N])\n",
        "      if len(gram)>=N:\n",
        "        lower_gram = tuple(gram[:len(gram)-1])\n",
        "        if gram in ngrams_list and len(lower_gram)==0:\n",
        "          c = 0\n",
        "          for i in self.ngrams:\n",
        "            if len(i)==1:\n",
        "              c+=self.ngrams[i]\n",
        "\n",
        "          prob_gram  = ngrams_list[gram]/c\n",
        "          n_tokens += 1\n",
        "        elif gram in ngrams_list and lower_gram in ngrams_list:\n",
        "          prob_gram  = (ngrams_list[gram])/ngrams_list[lower_gram]\n",
        "          n_tokens += 1\n",
        "        else: #need to handle for unseen words using smoothing but for now 0\n",
        "          #smooth for gram\n",
        "          prob_gram = 0\n",
        "\n",
        "        print(gram,lower_gram,prob_gram)\n",
        "        prob_sentence = prob_sentence * prob_gram\n",
        "\n",
        "    print(\"\\nGiven sentence:\",sentence)\n",
        "    print(\"The probability of the given sentence is:\",prob_sentence)\n",
        "\n",
        "    return prob_sentence,n_tokens\n",
        "\n",
        "  def get_backoff(self, lower_gram,D=0.75):\n",
        "    #get all unique words\n",
        "    lower_gram = list(lower_gram)\n",
        "    words = []\n",
        "    ngram = self.ngrams\n",
        "    for i in ngram:\n",
        "      if len(i)==1:\n",
        "        words.append(i[0])\n",
        "    words = list(set(words))\n",
        "\n",
        "    counts = 0\n",
        "    total_counts = 0\n",
        "    for gram in ngram:\n",
        "      if len(gram)==len(lower_gram)+1:\n",
        "        for word in words:\n",
        "          if gram==tuple(lower_gram+[word]):\n",
        "            counts += 1\n",
        "            total_counts += ngram[gram]\n",
        "    if total_counts!=0:\n",
        "      backoff_weight = (D*counts)/total_counts\n",
        "    else:\n",
        "      return 0\n",
        "\n",
        "    return backoff_weight\n",
        "\n",
        "\n",
        "  def next_word_prediction(self,sentence,N=1):\n",
        "    '''\n",
        "    Function to predict next word of sentence based on ngrams\n",
        "    @params\n",
        "    :sentence the sentence to which we need to predict next word\n",
        "    :N ngram value by default 1\n",
        "    @return\n",
        "    :str next word\n",
        "    '''\n",
        "\n",
        "    tokens = sentence.split()\n",
        "    #for delimters in range(N-1):\n",
        "    #    tokens.insert(0,'<S>')\n",
        "    if N==1:\n",
        "      max_vocab = 0\n",
        "      next_word = None\n",
        "      for i in self.vocab:\n",
        "        count = self.ngrams[i]\n",
        "        if count>max_vocab:\n",
        "          max_vocab = count\n",
        "          next_word = i\n",
        "    else:\n",
        "      last_n_tokens = tokens[-(N-1):]\n",
        "      max_vocab = 0\n",
        "      next_word = None\n",
        "      for i in self.vocab:\n",
        "        gram = tuple(list(last_n_tokens)+[i[0]])\n",
        "        if gram not in self.ngrams:\n",
        "          count = 0\n",
        "        else:\n",
        "          count = self.ngrams[gram]\n",
        "        #print(gram,count)\n",
        "        if count>max_vocab:\n",
        "          max_vocab = count\n",
        "          next_word = i\n",
        "\n",
        "\n",
        "    print(\"\\nGiven sentence:\",sentence)\n",
        "    print(\"The next word could be:\",next_word[0])\n",
        "    return next_word[0]\n",
        "\n",
        "  def smooth_sentence_probability(self, sentence, display=False,N=1):\n",
        "\n",
        "    tokens = sentence.split()\n",
        "    for delimters in range(N-1):\n",
        "        tokens.insert(0,'<S>')\n",
        "    if N!=1:\n",
        "      tokens.append('</S>')\n",
        "\n",
        "    prob_sentence = 1\n",
        "    D = 0.25\n",
        "    n_tokens = 0\n",
        "    for iter in range(0,len(tokens)):\n",
        "      ngrams_list = self.ngrams\n",
        "      gram = tuple(tokens[iter:iter+N])\n",
        "\n",
        "      #unigram case handling\n",
        "      if len(gram)>=N:\n",
        "        lower_gram = tuple(gram[:len(gram)-1])\n",
        "        if gram in ngrams_list and len(lower_gram)==0:\n",
        "          c = 0\n",
        "          for i in self.ngrams:\n",
        "            if len(i)==1:\n",
        "              c+=self.ngrams[i]\n",
        "\n",
        "          prob_gram  = ngrams_list[gram]/c\n",
        "          n_tokens += 1\n",
        "        elif gram in ngrams_list and lower_gram in ngrams_list:\n",
        "          prob_gram  = (ngrams_list[gram]-D)/ngrams_list[lower_gram]\n",
        "          n_tokens += 1\n",
        "        #need to handle for unseen words using smoothing but for now 0\n",
        "        else:\n",
        "          lower_gram_backoff = lower_gram\n",
        "          gram_backoff = gram[1:]\n",
        "          k=0\n",
        "          while gram_backoff not in ngrams_list:\n",
        "            if len(lower_gram_backoff)==0:\n",
        "              k=1\n",
        "              break\n",
        "            lower_gram_backoff = lower_gram_backoff[1:]\n",
        "            gram_backoff = gram[1:]\n",
        "          if k:\n",
        "            c = 0\n",
        "            for i in self.ngrams:\n",
        "              if len(i)==1:\n",
        "                c+=self.ngrams[i]\n",
        "\n",
        "            prob_gram = (ngrams_list[('</S>',)]-D)/c\n",
        "          elif lower_gram_backoff not in ngrams_list or gram_backoff not in ngrams_list:\n",
        "            return 0,0\n",
        "          else:\n",
        "            backoff_weight = self.get_backoff(lower_gram_backoff)\n",
        "            prob_gram = backoff_weight* ((ngrams_list[gram_backoff]-D)/ngrams_list[lower_gram_backoff])\n",
        "            n_tokens += 1\n",
        "        if display:\n",
        "          print(gram,lower_gram,prob_gram)\n",
        "        prob_sentence = prob_sentence * prob_gram\n",
        "    if display:\n",
        "      print(\"\\nGiven sentence:\",sentence)\n",
        "      print(\"The probability of the given sentence is:\",prob_sentence)\n",
        "\n",
        "    return prob_sentence,n_tokens\n"
      ]
    },
    {
      "cell_type": "markdown",
      "source": [
        "## Prepraring corpus"
      ],
      "metadata": {
        "id": "b_vngylQ91j0"
      }
    },
    {
      "cell_type": "code",
      "source": [
        "df = pd.read_csv(\"/content/mammoreport - mammoreport.csv\")\n",
        "df.head()"
      ],
      "metadata": {
        "id": "64RZlQWzbkAz",
        "colab": {
          "base_uri": "https://localhost:8080/",
          "height": 206
        },
        "outputId": "dc8e39ba-929a-4728-c3d0-3be60f475505"
      },
      "execution_count": null,
      "outputs": [
        {
          "output_type": "execute_result",
          "data": {
            "text/plain": [
              "                                            Features  Birads\n",
              "0  Soft tissue mass lesion (23 x 20 mm) with spic...       4\n",
              "1  Parenchyma is predominantly FATTY.No distinctl...       1\n",
              "2  Parenchyma is predominantly GLANDULAR. No dist...       1\n",
              "3  Parenchyma is predominantly GLANDULAR. No dist...       2\n",
              "4  Parenchyma is GLANDULAR and FATTY. Small subce...       2"
            ],
            "text/html": [
              "\n",
              "  <div id=\"df-ed4debf9-8b15-41a4-9458-ec16004bd69c\" class=\"colab-df-container\">\n",
              "    <div>\n",
              "<style scoped>\n",
              "    .dataframe tbody tr th:only-of-type {\n",
              "        vertical-align: middle;\n",
              "    }\n",
              "\n",
              "    .dataframe tbody tr th {\n",
              "        vertical-align: top;\n",
              "    }\n",
              "\n",
              "    .dataframe thead th {\n",
              "        text-align: right;\n",
              "    }\n",
              "</style>\n",
              "<table border=\"1\" class=\"dataframe\">\n",
              "  <thead>\n",
              "    <tr style=\"text-align: right;\">\n",
              "      <th></th>\n",
              "      <th>Features</th>\n",
              "      <th>Birads</th>\n",
              "    </tr>\n",
              "  </thead>\n",
              "  <tbody>\n",
              "    <tr>\n",
              "      <th>0</th>\n",
              "      <td>Soft tissue mass lesion (23 x 20 mm) with spic...</td>\n",
              "      <td>4</td>\n",
              "    </tr>\n",
              "    <tr>\n",
              "      <th>1</th>\n",
              "      <td>Parenchyma is predominantly FATTY.No distinctl...</td>\n",
              "      <td>1</td>\n",
              "    </tr>\n",
              "    <tr>\n",
              "      <th>2</th>\n",
              "      <td>Parenchyma is predominantly GLANDULAR. No dist...</td>\n",
              "      <td>1</td>\n",
              "    </tr>\n",
              "    <tr>\n",
              "      <th>3</th>\n",
              "      <td>Parenchyma is predominantly GLANDULAR. No dist...</td>\n",
              "      <td>2</td>\n",
              "    </tr>\n",
              "    <tr>\n",
              "      <th>4</th>\n",
              "      <td>Parenchyma is GLANDULAR and FATTY. Small subce...</td>\n",
              "      <td>2</td>\n",
              "    </tr>\n",
              "  </tbody>\n",
              "</table>\n",
              "</div>\n",
              "    <div class=\"colab-df-buttons\">\n",
              "\n",
              "  <div class=\"colab-df-container\">\n",
              "    <button class=\"colab-df-convert\" onclick=\"convertToInteractive('df-ed4debf9-8b15-41a4-9458-ec16004bd69c')\"\n",
              "            title=\"Convert this dataframe to an interactive table.\"\n",
              "            style=\"display:none;\">\n",
              "\n",
              "  <svg xmlns=\"http://www.w3.org/2000/svg\" height=\"24px\" viewBox=\"0 -960 960 960\">\n",
              "    <path d=\"M120-120v-720h720v720H120Zm60-500h600v-160H180v160Zm220 220h160v-160H400v160Zm0 220h160v-160H400v160ZM180-400h160v-160H180v160Zm440 0h160v-160H620v160ZM180-180h160v-160H180v160Zm440 0h160v-160H620v160Z\"/>\n",
              "  </svg>\n",
              "    </button>\n",
              "\n",
              "  <style>\n",
              "    .colab-df-container {\n",
              "      display:flex;\n",
              "      gap: 12px;\n",
              "    }\n",
              "\n",
              "    .colab-df-convert {\n",
              "      background-color: #E8F0FE;\n",
              "      border: none;\n",
              "      border-radius: 50%;\n",
              "      cursor: pointer;\n",
              "      display: none;\n",
              "      fill: #1967D2;\n",
              "      height: 32px;\n",
              "      padding: 0 0 0 0;\n",
              "      width: 32px;\n",
              "    }\n",
              "\n",
              "    .colab-df-convert:hover {\n",
              "      background-color: #E2EBFA;\n",
              "      box-shadow: 0px 1px 2px rgba(60, 64, 67, 0.3), 0px 1px 3px 1px rgba(60, 64, 67, 0.15);\n",
              "      fill: #174EA6;\n",
              "    }\n",
              "\n",
              "    .colab-df-buttons div {\n",
              "      margin-bottom: 4px;\n",
              "    }\n",
              "\n",
              "    [theme=dark] .colab-df-convert {\n",
              "      background-color: #3B4455;\n",
              "      fill: #D2E3FC;\n",
              "    }\n",
              "\n",
              "    [theme=dark] .colab-df-convert:hover {\n",
              "      background-color: #434B5C;\n",
              "      box-shadow: 0px 1px 3px 1px rgba(0, 0, 0, 0.15);\n",
              "      filter: drop-shadow(0px 1px 2px rgba(0, 0, 0, 0.3));\n",
              "      fill: #FFFFFF;\n",
              "    }\n",
              "  </style>\n",
              "\n",
              "    <script>\n",
              "      const buttonEl =\n",
              "        document.querySelector('#df-ed4debf9-8b15-41a4-9458-ec16004bd69c button.colab-df-convert');\n",
              "      buttonEl.style.display =\n",
              "        google.colab.kernel.accessAllowed ? 'block' : 'none';\n",
              "\n",
              "      async function convertToInteractive(key) {\n",
              "        const element = document.querySelector('#df-ed4debf9-8b15-41a4-9458-ec16004bd69c');\n",
              "        const dataTable =\n",
              "          await google.colab.kernel.invokeFunction('convertToInteractive',\n",
              "                                                    [key], {});\n",
              "        if (!dataTable) return;\n",
              "\n",
              "        const docLinkHtml = 'Like what you see? Visit the ' +\n",
              "          '<a target=\"_blank\" href=https://colab.research.google.com/notebooks/data_table.ipynb>data table notebook</a>'\n",
              "          + ' to learn more about interactive tables.';\n",
              "        element.innerHTML = '';\n",
              "        dataTable['output_type'] = 'display_data';\n",
              "        await google.colab.output.renderOutput(dataTable, element);\n",
              "        const docLink = document.createElement('div');\n",
              "        docLink.innerHTML = docLinkHtml;\n",
              "        element.appendChild(docLink);\n",
              "      }\n",
              "    </script>\n",
              "  </div>\n",
              "\n",
              "\n",
              "<div id=\"df-40d77218-bb26-4b43-a96e-943ddbb82cc6\">\n",
              "  <button class=\"colab-df-quickchart\" onclick=\"quickchart('df-40d77218-bb26-4b43-a96e-943ddbb82cc6')\"\n",
              "            title=\"Suggest charts\"\n",
              "            style=\"display:none;\">\n",
              "\n",
              "<svg xmlns=\"http://www.w3.org/2000/svg\" height=\"24px\"viewBox=\"0 0 24 24\"\n",
              "     width=\"24px\">\n",
              "    <g>\n",
              "        <path d=\"M19 3H5c-1.1 0-2 .9-2 2v14c0 1.1.9 2 2 2h14c1.1 0 2-.9 2-2V5c0-1.1-.9-2-2-2zM9 17H7v-7h2v7zm4 0h-2V7h2v10zm4 0h-2v-4h2v4z\"/>\n",
              "    </g>\n",
              "</svg>\n",
              "  </button>\n",
              "\n",
              "<style>\n",
              "  .colab-df-quickchart {\n",
              "      --bg-color: #E8F0FE;\n",
              "      --fill-color: #1967D2;\n",
              "      --hover-bg-color: #E2EBFA;\n",
              "      --hover-fill-color: #174EA6;\n",
              "      --disabled-fill-color: #AAA;\n",
              "      --disabled-bg-color: #DDD;\n",
              "  }\n",
              "\n",
              "  [theme=dark] .colab-df-quickchart {\n",
              "      --bg-color: #3B4455;\n",
              "      --fill-color: #D2E3FC;\n",
              "      --hover-bg-color: #434B5C;\n",
              "      --hover-fill-color: #FFFFFF;\n",
              "      --disabled-bg-color: #3B4455;\n",
              "      --disabled-fill-color: #666;\n",
              "  }\n",
              "\n",
              "  .colab-df-quickchart {\n",
              "    background-color: var(--bg-color);\n",
              "    border: none;\n",
              "    border-radius: 50%;\n",
              "    cursor: pointer;\n",
              "    display: none;\n",
              "    fill: var(--fill-color);\n",
              "    height: 32px;\n",
              "    padding: 0;\n",
              "    width: 32px;\n",
              "  }\n",
              "\n",
              "  .colab-df-quickchart:hover {\n",
              "    background-color: var(--hover-bg-color);\n",
              "    box-shadow: 0 1px 2px rgba(60, 64, 67, 0.3), 0 1px 3px 1px rgba(60, 64, 67, 0.15);\n",
              "    fill: var(--button-hover-fill-color);\n",
              "  }\n",
              "\n",
              "  .colab-df-quickchart-complete:disabled,\n",
              "  .colab-df-quickchart-complete:disabled:hover {\n",
              "    background-color: var(--disabled-bg-color);\n",
              "    fill: var(--disabled-fill-color);\n",
              "    box-shadow: none;\n",
              "  }\n",
              "\n",
              "  .colab-df-spinner {\n",
              "    border: 2px solid var(--fill-color);\n",
              "    border-color: transparent;\n",
              "    border-bottom-color: var(--fill-color);\n",
              "    animation:\n",
              "      spin 1s steps(1) infinite;\n",
              "  }\n",
              "\n",
              "  @keyframes spin {\n",
              "    0% {\n",
              "      border-color: transparent;\n",
              "      border-bottom-color: var(--fill-color);\n",
              "      border-left-color: var(--fill-color);\n",
              "    }\n",
              "    20% {\n",
              "      border-color: transparent;\n",
              "      border-left-color: var(--fill-color);\n",
              "      border-top-color: var(--fill-color);\n",
              "    }\n",
              "    30% {\n",
              "      border-color: transparent;\n",
              "      border-left-color: var(--fill-color);\n",
              "      border-top-color: var(--fill-color);\n",
              "      border-right-color: var(--fill-color);\n",
              "    }\n",
              "    40% {\n",
              "      border-color: transparent;\n",
              "      border-right-color: var(--fill-color);\n",
              "      border-top-color: var(--fill-color);\n",
              "    }\n",
              "    60% {\n",
              "      border-color: transparent;\n",
              "      border-right-color: var(--fill-color);\n",
              "    }\n",
              "    80% {\n",
              "      border-color: transparent;\n",
              "      border-right-color: var(--fill-color);\n",
              "      border-bottom-color: var(--fill-color);\n",
              "    }\n",
              "    90% {\n",
              "      border-color: transparent;\n",
              "      border-bottom-color: var(--fill-color);\n",
              "    }\n",
              "  }\n",
              "</style>\n",
              "\n",
              "  <script>\n",
              "    async function quickchart(key) {\n",
              "      const quickchartButtonEl =\n",
              "        document.querySelector('#' + key + ' button');\n",
              "      quickchartButtonEl.disabled = true;  // To prevent multiple clicks.\n",
              "      quickchartButtonEl.classList.add('colab-df-spinner');\n",
              "      try {\n",
              "        const charts = await google.colab.kernel.invokeFunction(\n",
              "            'suggestCharts', [key], {});\n",
              "      } catch (error) {\n",
              "        console.error('Error during call to suggestCharts:', error);\n",
              "      }\n",
              "      quickchartButtonEl.classList.remove('colab-df-spinner');\n",
              "      quickchartButtonEl.classList.add('colab-df-quickchart-complete');\n",
              "    }\n",
              "    (() => {\n",
              "      let quickchartButtonEl =\n",
              "        document.querySelector('#df-40d77218-bb26-4b43-a96e-943ddbb82cc6 button');\n",
              "      quickchartButtonEl.style.display =\n",
              "        google.colab.kernel.accessAllowed ? 'block' : 'none';\n",
              "    })();\n",
              "  </script>\n",
              "</div>\n",
              "    </div>\n",
              "  </div>\n"
            ]
          },
          "metadata": {},
          "execution_count": 3
        }
      ]
    },
    {
      "cell_type": "code",
      "source": [
        "df.info()"
      ],
      "metadata": {
        "colab": {
          "base_uri": "https://localhost:8080/"
        },
        "id": "RtDyPoIm95rb",
        "outputId": "6bd98715-414d-4ebf-f2ba-2453fa176e9a"
      },
      "execution_count": null,
      "outputs": [
        {
          "output_type": "stream",
          "name": "stdout",
          "text": [
            "<class 'pandas.core.frame.DataFrame'>\n",
            "RangeIndex: 107 entries, 0 to 106\n",
            "Data columns (total 2 columns):\n",
            " #   Column    Non-Null Count  Dtype \n",
            "---  ------    --------------  ----- \n",
            " 0   Features  107 non-null    object\n",
            " 1   Birads    107 non-null    int64 \n",
            "dtypes: int64(1), object(1)\n",
            "memory usage: 1.8+ KB\n"
          ]
        }
      ]
    },
    {
      "cell_type": "code",
      "source": [
        "df['Birads'].value_counts()"
      ],
      "metadata": {
        "colab": {
          "base_uri": "https://localhost:8080/"
        },
        "id": "WejVIC3wdmB6",
        "outputId": "7a3b4067-47de-4334-ddc6-deac7118f9c0"
      },
      "execution_count": null,
      "outputs": [
        {
          "output_type": "execute_result",
          "data": {
            "text/plain": [
              "2    37\n",
              "1    34\n",
              "4    12\n",
              "3    12\n",
              "5     7\n",
              "0     3\n",
              "6     2\n",
              "Name: Birads, dtype: int64"
            ]
          },
          "metadata": {},
          "execution_count": 5
        }
      ]
    },
    {
      "cell_type": "code",
      "source": [
        "corpus = []\n",
        "for record in df['Features'].values[3:]:\n",
        "  temp = record.split(\".\")\n",
        "  sentences = []\n",
        "  for sentence in temp:\n",
        "    # Define a regular expression pattern to match punctuation\n",
        "    punctuation_pattern = re.compile(r'[^\\w\\s]')\n",
        "\n",
        "    # Use the sub() method to replace punctuation with a null space\n",
        "    result = punctuation_pattern.sub('', sentence)\n",
        "\n",
        "    if result and result[0]==' ':\n",
        "      result = result[1:]\n",
        "\n",
        "    if len(result)>2:\n",
        "      corpus.append(result)"
      ],
      "metadata": {
        "id": "-ULdhJVd-DIX"
      },
      "execution_count": null,
      "outputs": []
    },
    {
      "cell_type": "code",
      "source": [
        "print(corpus[:5])"
      ],
      "metadata": {
        "colab": {
          "base_uri": "https://localhost:8080/"
        },
        "id": "fcyLAoYRAK7d",
        "outputId": "9f56c5ee-e725-421a-f40d-c27c22e97fab"
      },
      "execution_count": null,
      "outputs": [
        {
          "output_type": "stream",
          "name": "stdout",
          "text": [
            "['Parenchyma is predominantly GLANDULAR', 'No distinctly identifiable radio opaque mass', 'No parenchymal calcification', 'Vascular pattern appears normal', 'Pectoralis and retromammary space appear normal']\n"
          ]
        }
      ]
    },
    {
      "cell_type": "markdown",
      "source": [
        "## Sentence Probability Leave one out cross validation"
      ],
      "metadata": {
        "id": "RTEHqSP_r98G"
      }
    },
    {
      "cell_type": "code",
      "source": [
        "# Example run\n",
        "print(\"Sentence Probability\")\n",
        "print(\"BiGram\")\n",
        "lm = LanguageModels(corpus)\n",
        "lm.build_ngrams(N=2)\n",
        "lm.perplexity(\"Parenchyma is predominantly\",display=True,N=2)\n",
        "print(\"-\"*80)\n",
        "print(\"TriGram\")\n",
        "lm = LanguageModels(corpus)\n",
        "lm.build_ngrams(N=3)\n",
        "lm.perplexity(\"Parenchyma is predominantly\",display=True,N=3)\n",
        "print(\"-\"*80)\n",
        "print(\"4 Gram\")\n",
        "lm = LanguageModels(corpus)\n",
        "lm.build_ngrams(N=4)\n",
        "lm.perplexity(\"Parenchyma is predominantly\",display=True,N=4)\n",
        "print(\"-\"*80)"
      ],
      "metadata": {
        "id": "gmf9IVubn1_5",
        "colab": {
          "base_uri": "https://localhost:8080/"
        },
        "outputId": "7c144c6f-0d89-4197-e952-0784594265c8"
      },
      "execution_count": null,
      "outputs": [
        {
          "output_type": "stream",
          "name": "stdout",
          "text": [
            "Sentence Probability\n",
            "BiGram\n",
            "('<S>', 'Parenchyma') ('<S>',) 0.0711344922232388\n",
            "('Parenchyma', 'is') ('Parenchyma',) 0.9040697674418605\n",
            "('is', 'predominantly') ('is',) 0.859375\n",
            "('predominantly', '</S>') ('predominantly',) 1.0328449905482042\n",
            "\n",
            "Given sentence: Parenchyma is predominantly\n",
            "The probability of the given sentence is: 0.05708211355513701\n",
            "For the given sentence, the perplexity for 2 gram = 2.046\n",
            "--------------------------------------------------------------------------------\n",
            "TriGram\n",
            "('<S>', '<S>', 'Parenchyma') ('<S>', '<S>') 0.0711344922232388\n",
            "('<S>', 'Parenchyma', 'is') ('<S>', 'Parenchyma') 0.9967948717948718\n",
            "('Parenchyma', 'is', 'predominantly') ('Parenchyma', 'is') 0.8685897435897436\n",
            "('is', 'predominantly', '</S>') ('is', 'predominantly') 0.10467956700833413\n",
            "\n",
            "Given sentence: Parenchyma is predominantly\n",
            "The probability of the given sentence is: 0.006447073852816596\n",
            "For the given sentence, the perplexity for 3 gram = 5.373\n",
            "--------------------------------------------------------------------------------\n",
            "4 Gram\n",
            "('<S>', '<S>', '<S>', 'Parenchyma') ('<S>', '<S>', '<S>') 0.0711344922232388\n",
            "('<S>', '<S>', 'Parenchyma', 'is') ('<S>', '<S>', 'Parenchyma') 0.9967948717948718\n",
            "('<S>', 'Parenchyma', 'is', 'predominantly') ('<S>', 'Parenchyma', 'is') 0.8685897435897436\n",
            "('Parenchyma', 'is', 'predominantly', '</S>') ('Parenchyma', 'is', 'predominantly') 0.09475806451612903\n",
            "\n",
            "Given sentence: Parenchyma is predominantly\n",
            "The probability of the given sentence is: 0.005836021847862682\n",
            "For the given sentence, the perplexity for 4 gram = 5.554\n",
            "--------------------------------------------------------------------------------\n"
          ]
        }
      ]
    },
    {
      "cell_type": "code",
      "source": [
        "bigram_preplexity = []\n",
        "trigram_perplexity = []\n",
        "quadgram_perplixity = []\n",
        "\n",
        "for iter in range(len(corpus)):\n",
        "\n",
        "  train = corpus[:iter] + corpus[iter+1:]\n",
        "  test = corpus[iter]\n",
        "\n",
        "  lm = LanguageModels(train)\n",
        "  lm.build_ngrams(N=2)\n",
        "  bigram_preplexity.append(lm.perplexity(test,N=2))\n",
        "\n",
        "  lm = LanguageModels(corpus)\n",
        "  lm.build_ngrams(N=3)\n",
        "  trigram_perplexity.append(lm.perplexity(test,N=3))\n",
        "\n",
        "  lm = LanguageModels(corpus)\n",
        "  lm.build_ngrams(N=4)\n",
        "  quadgram_perplixity.append(lm.perplexity(test,N=4))\n"
      ],
      "metadata": {
        "id": "9omz32AwF0P3"
      },
      "execution_count": null,
      "outputs": []
    },
    {
      "cell_type": "code",
      "source": [
        "print(\"Average Perplexity over the sentences for bi gram:\",sum(bigram_preplexity)/len(bigram_preplexity))\n",
        "print(\"Average Perplexity over the sentences for tri gram:\",sum(trigram_perplexity)/len(trigram_perplexity))\n",
        "print(\"Average Perplexity over the sentences for quad gram:\",sum(quadgram_perplixity)/len(quadgram_perplixity))"
      ],
      "metadata": {
        "colab": {
          "base_uri": "https://localhost:8080/"
        },
        "id": "XimqhU_sLKvu",
        "outputId": "a65d829e-d9d3-485b-f12f-55ba91883b89"
      },
      "execution_count": null,
      "outputs": [
        {
          "output_type": "stream",
          "name": "stdout",
          "text": [
            "Average Perplexity over the sentences for bi gram: 3.292308325709077\n",
            "Average Perplexity over the sentences for tri gram: 2.557284537968889\n",
            "Average Perplexity over the sentences for quad gram: 2.3617557182067737\n"
          ]
        }
      ]
    },
    {
      "cell_type": "markdown",
      "source": [
        "## Inference:\n",
        "  <b> Lower the perplexity better is the model, Quadgram seems to be a better choice compared to bigrams and trigrams.</b>"
      ],
      "metadata": {
        "id": "K3vz6ks9LsgR"
      }
    },
    {
      "cell_type": "markdown",
      "source": [
        "## Next word Prediction"
      ],
      "metadata": {
        "id": "301bKxHyr6ws"
      }
    },
    {
      "cell_type": "code",
      "source": [
        "lm.next_word_prediction(\"Parenchyma is\",N=3)"
      ],
      "metadata": {
        "colab": {
          "base_uri": "https://localhost:8080/",
          "height": 87
        },
        "id": "2iBHqj2WhjNs",
        "outputId": "b25491a1-8840-4828-8c04-683b49e64900"
      },
      "execution_count": null,
      "outputs": [
        {
          "output_type": "stream",
          "name": "stdout",
          "text": [
            "\n",
            "Given sentence: Parenchyma is\n",
            "The next word could be: predominantly\n"
          ]
        },
        {
          "output_type": "execute_result",
          "data": {
            "text/plain": [
              "'predominantly'"
            ],
            "application/vnd.google.colaboratory.intrinsic+json": {
              "type": "string"
            }
          },
          "metadata": {},
          "execution_count": 11
        }
      ]
    },
    {
      "cell_type": "markdown",
      "source": [
        "## Text Generation"
      ],
      "metadata": {
        "id": "OK2vfqBLn5Nc"
      }
    },
    {
      "cell_type": "code",
      "source": [
        "n_words = int(input(\"No of words to be generated:\"))\n",
        "start_word = input(\"Starting word:\")\n",
        "\n",
        "final = start_word\n",
        "\n",
        "for i in range(n_words):\n",
        "  t  = lm.next_word_prediction(final,N=3)\n",
        "\n",
        "  if t=='</S>':\n",
        "    break\n",
        "  else:\n",
        "    final+=\" \"+t\n",
        "print(\"----------------------------Final Generated Text-------------------------------\")\n",
        "print(final)"
      ],
      "metadata": {
        "colab": {
          "base_uri": "https://localhost:8080/"
        },
        "id": "k_7oS3ymn7_1",
        "outputId": "75a3e60a-a16a-4333-e428-33740ba92d52"
      },
      "execution_count": null,
      "outputs": [
        {
          "output_type": "stream",
          "name": "stdout",
          "text": [
            "No of words to be generated:5\n",
            "Starting word:Pectoralis\n",
            "\n",
            "Given sentence: Pectoralis\n",
            "The next word could be: and\n",
            "\n",
            "Given sentence: Pectoralis and\n",
            "The next word could be: retromammary\n",
            "\n",
            "Given sentence: Pectoralis and retromammary\n",
            "The next word could be: space\n",
            "\n",
            "Given sentence: Pectoralis and retromammary space\n",
            "The next word could be: appear\n",
            "\n",
            "Given sentence: Pectoralis and retromammary space appear\n",
            "The next word could be: normal\n",
            "----------------------------Final Generated Text-------------------------------\n",
            "Pectoralis and retromammary space appear normal\n"
          ]
        }
      ]
    },
    {
      "cell_type": "markdown",
      "source": [
        "## Text Classification using Language Models\n",
        "\n",
        "### Approach:\n",
        "  1. Divide the datasets based on class labels\n",
        "  2. Construct a language model for each class label\n",
        "  3. Now given a test text find the join probabilities on each of the language model.\n",
        "  4. Whichever class language model has highest probability that test text belongs to that class."
      ],
      "metadata": {
        "id": "iU0mUFkbb7t8"
      }
    },
    {
      "cell_type": "code",
      "source": [
        "#Train Test Split\n",
        "train_df = df.sample(frac=1)\n",
        "test_df = df.iloc[list(set(df.index)-set(train_df.index))]"
      ],
      "metadata": {
        "id": "v4xtLycAe-Xi"
      },
      "execution_count": null,
      "outputs": []
    },
    {
      "cell_type": "code",
      "source": [
        "print(len(df))\n",
        "print(len(train_df))\n",
        "print(len(test_df))"
      ],
      "metadata": {
        "colab": {
          "base_uri": "https://localhost:8080/"
        },
        "id": "cEJhZTBCikIL",
        "outputId": "7b8c7f3b-2fff-49ab-f3d3-75a880f0be9c"
      },
      "execution_count": null,
      "outputs": [
        {
          "output_type": "stream",
          "name": "stdout",
          "text": [
            "107\n",
            "107\n",
            "0\n"
          ]
        }
      ]
    },
    {
      "cell_type": "code",
      "source": [
        "#Corpus generation\n",
        "\n",
        "train_corpus_class_wise = {}\n",
        "test_corpus_class_wise = {}\n",
        "labels = train_corpus_class_wise.keys()\n",
        "\n",
        "for label in df[\"Birads\"].value_counts().index:\n",
        "  train_corpus_class_wise[label] = []\n",
        "  test_corpus_class_wise[label] = []\n",
        "\n",
        "for label in labels:\n",
        "  for record in train_df[train_df['Birads']==label]['Features'].values:\n",
        "    temp = record.split(\".\")\n",
        "    sentences = []\n",
        "    for sentence in temp[:len(temp)-1]:\n",
        "      # Define a regular expression pattern to match punctuation\n",
        "      punctuation_pattern = re.compile(r'[^\\w\\s]')\n",
        "\n",
        "      # Use the sub() method to replace punctuation with a null space\n",
        "      result = punctuation_pattern.sub('', sentence)\n",
        "\n",
        "      if result and result[0]==' ':\n",
        "        result = result[1:]\n",
        "\n",
        "      if len(result)>2:\n",
        "        train_corpus_class_wise[label].append(result)\n",
        "\n",
        "for label in labels:\n",
        "  for record in train_df[train_df['Birads']==label]['Features'].values:\n",
        "    temp = record.split(\".\")\n",
        "    sentences = []\n",
        "    for sentence in temp[len(temp)-1:]:\n",
        "      # Define a regular expression pattern to match punctuation\n",
        "      punctuation_pattern = re.compile(r'[^\\w\\s]')\n",
        "\n",
        "      # Use the sub() method to replace punctuation with a null space\n",
        "      result = punctuation_pattern.sub('', sentence)\n",
        "\n",
        "      if result and result[0]==' ':\n",
        "        result = result[1:]\n",
        "\n",
        "      if len(result)>2:\n",
        "        test_corpus_class_wise[label].append(result)\n",
        "\n",
        "print(train_corpus_class_wise)\n",
        "print(test_corpus_class_wise)"
      ],
      "metadata": {
        "colab": {
          "base_uri": "https://localhost:8080/"
        },
        "id": "CfrFjIJYb_Bp",
        "outputId": "51c87e6a-35cb-48eb-ba7b-77c60682fe9c"
      },
      "execution_count": null,
      "outputs": [
        {
          "output_type": "stream",
          "name": "stdout",
          "text": [
            "{2: ['Parenchyma is predominantly GLANDULAR', 'A small well defined radiopaque shadow seen in the superior and outer quadrant of the right breast', 'No spiculated margins  parenchymal calcifications', 'Vascular pattern appears normal', 'Pectoralis and retromammary space appear normal', 'Nippleareolar outline skin  subcutaneous fat plane are normal', 'No skin thickening or irregularity', 'No enlargement of axillary lymphnodes seen', 'A small well defined radiopaque shadow seen in the superior and outer quadrant of the right breast', 'No spiculated margins  parenchymal calcifications', 'No axillary lymphadenopathy on either side', 'Parenchyma is predominantly dense glandular', 'No distinctly identifiable radio opaque mass', 'No parenchymal calcification', 'Vascular pattern appears normal', 'Pectoralis and retromammary space appear normal', 'Nippleareolar outline skin  subcutaneous fat plane are normal', 'No skin thickening or irregularity', 'No enlargement of axillary lymphnodes seen', 'Dense glandular parenchyma on both sides', 'Two well defined complex cystic lesions noted in the 3O  9 O clock positions', 'Multiple internal septations noted within', 'Fluid components appears echogenic', 'No obvious surrounding architectural distortion', 'Lesion in the 3o clock position measures 35 x 18mm', 'Lesion in the 9o clock position measures 12 x 10mm', 'Most likely GALACTOCELE BIRADS  II', 'No axillary lymphadenopathy on either side', 'Parenchyma is predominantly glandular', 'Fibroadenoma  20 x 18mm seen at 2o clock position', 'No parenchymal calcification', 'Vascular pattern appears normal', 'Pectoralis and retromammary space appear normal', 'Nippleareolar outline skin  subcutaneous fat plane are normal', 'No skin thickening or irregularity', 'No enlargement of axillary lymphnodes seen', ' FIBROADENOMA  20 x 18mm seen at 2o clock position BIRADS  II', 'No axillary lymphadenopathy', 'Parenchyma is predominantly FATTY', 'A tiny nodule 8 x 7mm seen within the nipple   LIPOMA BIRADS II  USG Correlation done', 'No distinctly identifiable radio opaque mass', 'No parenchymal calcification', 'Vascular pattern appears normal', 'Pectoralis and retromammary space appear normal', 'Skin  subcutaneous fat plane are normal', 'No skin thickening or irregularity', 'Bilateral non specific axillary lymphadenopathy', 'A tiny nodule 8 x 7mm seen within the nipple   LIPOMA BIRADS II  USG Correlation done', 'Otherwise normal appearing both breasts', 'No Radioopaque mass', 'Bilateral non specific axillary lymphadenopathy', 'Bilateral dense breast parenchyma', 'No distinctly identifiable radio opaque mass', 'No parenchymal calcification', 'Multiple tiny cystic lesions seen distributed in all the quadrants of both breasts', 'Vascular pattern appears normal', 'Pectoralis and retromammary space appear normal', 'Nippleareolar outline skin  subcutaneous fat plane are normal', 'No skin thickening or irregularity', 'No enlargement of axillary lymphnodes seen', 'BILATERAL FIBROCYSTIC DISEASE BIRADS  II', 'No solid mass  ductal dilatation', 'No axillary lymphadenopathy on either side', 'Multiple fibroadenomas seen in all the quadrants largest one in the lower outer quadrant measures 40 x 35mm', 'BIRADS II', 'Non specific right axillary lymphadenopathy', 'Bilateral dense breast parenchyma', 'No distinctly identifiable radio opaque mass', 'No parenchymal calcification', 'Multiple tiny cystic lesions seen distributed in all the quadrants of both breasts', 'Vascular pattern appears normal', 'Pectoralis and retromammary space appear normal', 'Nippleareolar outline skin  subcutaneous fat plane are normal', 'No skin thickening or irregularity', 'No enlargement of axillary lymphnodes seen', 'BILATERAL FIBROCYSTIC DISEASE BIRADS  II', 'No solid mass  ductal dilatation', 'No axillary lymphadenopathy on either side', 'Parenchyma is predominantly FATTY', 'Tiny cyst 5 x 5mm seen at 2O clock position of left breast', 'No distinctly identifiable radio opaque mass', 'No parenchymal calcification', 'Vascular pattern appears normal', 'Pectoralis and retromammary space appear normal', 'Nippleareolar outline skin  subcutaneous fat plane are normal', 'No skin thickening or irregularity', 'No enlargement of axillary lymphnodes seen', 'Parenchyma is predominantly GLANDULAR', 'A well defined solid mass lesion 25 x 15mm seen in the upper outer quadrant of the right breast', 'No spiculated margins', 'No parenchymal calcification', 'Vascular pattern appears normal', 'Pectoralis and retromammary space appear normal', 'Nippleareolar outline skin  subcutaneous fat plane are normal', 'No skin thickening or irregularity', 'SMALL FIBROADENOMA 25 x 15mm in the upper outer quadrant of the right breast BIRADS II', 'Bilateral axillary lymphadenopathy Non specific', 'Parenchyma is GLANDULAR  FATTY', 'No distinctly identifiable radio opaque mass', 'No parenchymal calcification', 'No spiculated margins  parenchymal calcification', 'Vascular pattern appears normal', 'Pectoralis and retromammary space appear normal', 'Nippleareolar outline skin  subcutaneous fat plane are normal', 'No skin thickening or irregularity', 'No axillary lymphnode seen', 'Few cysts of varying sizes scattered in all the quadrants of left breast largest one measures 6 x 3 mm seen at 8o clock position', 'No ductal dilatation', 'No mass lesion', 'No axillary lymphnodes seen', 'Parenchyma is glandular', 'No distinctly identifiable radio opaque mass', 'No parenchymal calcification', 'Vascular pattern appears normal', 'Pectoralis and retromammary space appear normal', 'Nippleareolar outline skin  subcutaneous fat plane are normal', 'No skin thickening or irregularity', 'No enlargement of axillary lymphnodes seen', 'Solid Nodular lesion 19 x 14 mm with lobulated margins seen at 10o clock position of the pLeft Breast', 'No axillary lymphadenopathy', 'SOLID NODULAR LESION 19 x 14 mm with lobulated margins seen at 10o clock position of the Left Breast', 'Features more in favor of FIBROADENOMA BIRADS  II No axillary lymphadenopathy on either side', 'Parenchyma is predominantly FATTY', 'Multiple cystic lesions seen in the upper quadrants of both breasts', 'Suggestive of Bilateral fibrocystic disease', 'Vascular pattern appears normal', 'Pectoralis and retromammary space appear normal', 'Nippleareolar outline skin  subcutaneous fat plane are normal', 'No skin thickening or irregularity', 'A small fibroadenoma 14 x 6mm seen at 3O clock position in the subareolar region', 'A large cyst 33 x 17mm seen at 12O clock position', 'Parenchyma is predominantly FATTY', 'Small few macrocalcifications noted in the right subareolar region', 'No distinctly identifiable radio opaque mass', 'Vascular pattern appears normal', 'Pectoralis and retromammary space appear normal', 'Nippleareolar outline skin  subcutaneous fat plane are normal', 'No skin thickening or irregularity', 'No enlargement of axillary lymph nodes seen', 'Few benign macrocalcifications in the subareolar region', 'Parenchyma is predominantly FATTY', 'No distinctly identifiable radio opaque mass', 'No parenchymal calcification', 'Scan over the palpable nodule 14 x 8 mm at 4o clock position  Shows a small SUBCUTANEOUS LIPOMA', 'Scan over the palpable nodule 14 x 8 mm at 4o clock position  Shows a small SUBCUTANEOUS LIPOMA BIRADS  II ', 'No axillary lymphadenopathy ', 'Vascular pattern appears normal', 'Pectoralis and retromammary space appear normal', 'Nippleareolar outline skin  subcutaneous fat plane are normal', 'No skin thickening or irregularity', 'No enlargement of axillary lymphnodes seen', 'Parenchyma is predominantly FATTY', 'No distinctly identifiable radio opaque mass', 'No parenchymal calcification', 'Vascular pattern appears normal', 'Pectoralis and retromammary space appear normal', 'Nippleareolar outline skin  subcutaneous fat plane are normal', 'No skin thickening or irregularity', 'Nonspecific right axillary lymphnodes', 'Small fibroadenoma measuring about 7x 4 mm seen at 11o clock position', 'Nonspecific right axillary lymphnodes', 'SMALL FIBROADENOMA 7x 4 mm seen at 11o clock position BIRADS  II', 'Nonspecific right axillary lymphadenopathy ', 'Parenchyma is predominantly FATTY', 'No distinctly identifiable radio opaque mass', 'No parenchymal calcification', 'Vascular pattern appears normal', 'Pectoralis and retromammary space appear normal', 'Nippleareolar outline skin  subcutaneous fat plane are normal', 'No skin thickening or irregularity', 'No enlargement of axillary lymphnodes seen', 'Focal duct dilated in the subareolar region seen at 12 0 clock position', 'No axillary lymphadenopathy', 'No intra ductal nodular  mass', 'Dense glandular Parenchyma', 'A well defined oval shaped radio opaque shadow seen in the inferior quadrant of left breast', 'Vascular pattern appears normal', 'Pectoralis and retromammary space appear normal', 'Nippleareolar outline skin  subcutaneous fat plane are normal', 'No skin thickening or irregularity', 'No enlargement of axillary lymphnodes seen', 'Mixed glandular and fatty parenchyma', 'A tiny well defined nodule 5mm seen at 6O clock position', 'Suggestive of FIBROADENOMA BIRADS II', 'Vascular pattern appears normal', 'Pectoralis and retromammary space appear normal', 'Nippleareolar outline skin  subcutaneous fat plane are normal', 'No skin thickening or irregularity', 'No enlargement of axillary lymphnodes seen', 'No axillary lymphadenopathy on either side', 'Parenchyma is predominantly FATTY', 'Focal altered parenchymal echotecture seen at 9o clock position of right breast', 'No distinctly identifiable radio opaque mass', 'No parenchymal calcification', 'Vascular pattern appears normal', 'Pectoralis and retromammary space appear normal', 'Nippleareolar outline skin  subcutaneous fat plane are normal', 'No skin thickening or irregularity', 'Right axillary lymphnodes seen', 'Small simple cyst measuring 5 x 5 mm seen at 2o clock position', 'Focal altered parenchymal echotecture seen at 9o clock position', 'No obvious mass lesion noted', 'Small simple cyst measuring 5 x 5 mm seen at 2o clock position', 'Small nodular calcification seen in the outer quadrant of left breast BENIGN CALCIFICATION', 'Parenchyma is predominantly GLANDULAR', 'No distinctly identifiable radio opaque mass', 'Vascular pattern appears normal', 'oralis and retromammary space appear normal', 'Nippleareolar outline skin  subcutaneous fat plane are normal', 'No skin thickening or irregularity', 'Bilateral axilary lymph nodes seen', 'Parenchyma is predominantly FATTY', 'Small nodular lesions 5 x 5mm seen in the upper outer quadrants of both breasts', 'Otherwise no distinctly identifiable radio opaque mass', 'No parenchymal calcification', 'Vascular pattern appears normal', 'Pectoralis and retromammary space appear normal', 'Nippleareolar outline skin  subcutaneous fat plane are normal', 'No skin thickening or irregularity', 'No enlargement of axillary lymphnodes seen', 'Small nodular lesions 5 x 5mm seen in the upper outer quadrants of both breasts', 'Suggestive of SMALL FIBROADENOMA', 'Otherwise no significant abnormality noted', 'No axillary lymphadenopathy on either side', 'A focal subcutaneous fat inflammation in the upper inner quadrant of left breast BIRADS II', 'Parenchyma is predominantly FATTY', 'No distinctly identifiable radio opaque mass', 'No parenchymal calcification', 'Vascular pattern appears normal', 'Pectoralis and retromammary space appear normal', 'Nippleareolar outline skin  subcutaneous fat plane are normal', 'No skin thickening or irregularity', 'No enlargement of axillary lymphnodes seen', 'Parenchyma is predominantly FATTY', 'Few tiny benign macrocalcifications noted in the right breast CALCIFIED FIBROADENOMA', 'BIRADS II', 'No distinctly identifiable radio opaque mass in both breasts', 'Vascular pattern appears normal', 'Pectoralis and retromammary space appear normal', 'Nippleareolar outline skin  subcutaneous fat plane are normal', 'No skin thickening or irregularity', 'No enlargement of axillary lymphnodes seen', 'Parenchyma is predominantly FATTY', 'Small benigh punctate calcification seen in the inferior quadrant of left breast', 'No distinctly identifiable radio opaque mass', 'Vascular pattern appears normal', 'Pectoralis and retromammary space appear normal', 'Nippleareolar outline skin  subcutaneous fat plane are normal', 'No skin thickening or irregularity', 'No enlargement of axillary lymphnodes seen', 'Small benigh punctate calcification seen in the inferior quadrant BIRADS II', 'Parenchyma is predominantly FATTY', 'Small nodular lesions 5 x 5mm seen in the upper outer quadrants of both breasts', 'Otherwise no distinctly identifiable radio opaque mass', 'No parenchymal calcification', 'Vascular pattern appears normal', 'Pectoralis and retromammary space appear normal', 'Nippleareolar outline skin  subcutaneous fat plane are normal', 'No skin thickening or irregularity', 'No enlargement of axillary lymphnodes seen', 'Small nodular lesions 5 x 5mm seen in the upper outer quadrants of both breasts', 'Suggestive of SMALL FIBROADENOMA', 'Otherwise no significant abnormality noted', 'No axillary lymphadenopathy on either side', 'Parenchyma is predominantly FATTY', 'No distinctly identifiable radio opaque mass', 'Vascular calcifications seen', 'Vascular pattern appears normal', 'Pectoralis and retromammary space appear normal', 'Nippleareolar outline skin  subcutaneous fat plane are normal', 'No skin thickening or irregularity', 'No enlargement of axillary lymphnodes seen', 'Ductal ectasia noted in the both breasts', 'No bilateral axillary lymphadenopathy', 'Parenchyma is GLANDULAR and FATTY', 'Small subcentimeter radio opaque nodular shadows seen scattered in both breasts', 'No parenchymal calcification  spiculated margins', 'Vascular pattern appears normal', 'Pectoralis and retromammary space appear normal', 'Nippleareolar outline skin  subcutaneous fat plane are normal', 'No skin thickening or irregularity', 'Small subcentimeter radio opaque nodular shadows seen scattered in both breasts', 'No parenchymal calcification  spiculated margins', 'Bilateral axillary lymphadenopathy NON SPECIFIC', 'Parenchyma is predominantly GLANDULAR', 'No distinctly identifiable radio opaque mass', 'No parenchymal calcification', 'Vascular pattern appears normal', 'Pectoralis and retromammary space appear normal', 'Nippleareolar outline skin  subcutaneous fat plane are normal', 'No skin thickening or irregularity', 'No enlargement of axillary lymphnodes seen', 'Small fibroadenoma measuring about 10 x 6 mm in the 100 clock position', 'Two small nodular lesions seen in the upper and outer quadrant of right breast each measuring 7mm in size', 'No spiculated margins', 'Benign appearing parenchymal calcifications seen', 'Parenchyma is predominantly FATTY', 'Multiple cystic lesions seen in the upper quadrants of both breasts', 'Suggestive of Bilateral fibrocystic disease', 'Vascular pattern appears normal', 'Pectoralis and retromammary space appear normal', 'Nippleareolar outline skin  subcutaneous fat plane are normal', 'No skin thickening or irregularity', 'Three small fibroadenomas seen at 6 9  12O clock position measuring 10 x 8mm 7 x 7mm and 23 x 13mm respectively', 'Bilateral non specific axillary lymphadenopathy', 'Small cystic lesion 10 x 7 mm seen in the subareolar region', 'Few tiny cysts seen in upper quadrants', 'Parenchyma is predominantly FATTY', 'Vascular pattern appears normal', 'Pectoralis and retromammary space appear normal', 'Nippleareolar outline skin  subcutaneous fat plane are normal', 'No skin thickening or irregularity', 'No enlargement of axillary lymphnodes seen', 'Parenchyma is predominantly FATTY', 'Few tiny benign macrocalcifications noted in the right breast CALCIFIED FIBROADENOMA', 'BIRADS II', 'No distinctly identifiable radio opaque mass in both breasts', 'Vascular pattern appears normal', 'Pectoralis and retromammary space appear normal', 'Nippleareolar outline skin  subcutaneous fat plane are normal', 'No skin thickening or irregularity', 'No enlargement of axillary lymphnodes seen', 'BILATERAL DENSE BREAST PARENCHYMA', 'A well defined rounded radio opaque shadow seen in the lower quadrant of both breasts', 'No spiculated margins  parenchymal calcification', 'Vascular pattern appears normal', 'Pectoralis and retromammary space appear normal', 'Nippleareolar outline skin  subcutaneous fat plane are normal', 'No skin thickening or irregularity', 'No enlargement of axillary lymphnodes seen', 'Two fibroadenomas noted 22 x 15 mm in the 110 clock position and 12 x 8 mm in the 60 clock position', 'Multiple fibroadenomas seen largest one measuring 38 x 20 mm in the 70 clock position', 'No bilateral axillary lymphadenopathy', 'Parenchyma is predominantly FATTY', 'No distinctly identifiable radio opaque mass', 'No parenchymal calcification', 'Vascular pattern appears normal', 'Pectoralis and retromammary space appear normal', 'Nippleareolar outline skin  subcutaneous fat plane are normal', 'No skin thickening or irregularity', 'No enlargement of axillary lymphnodes seen', 'Few tiny cyst measuring about seen at 12 0 clock position', 'Focal duct dilated seen at 11  clock position ', 'No axillary lymphadenopathy', 'Parenchyma is PREDOMINANTLY GLANDULAR', 'A well defined rounded radio opaque shadow with macrocalcifications seen in the superior and inner quadrant', 'No spiculated margins  microcalcifications', 'Vascular pattern appears normal', 'Pectoralis and retromammary space appear normal', 'Nippleareolar outline skin  subcutaneous fat plane are normal', 'No skin thickening or irregularity', 'No enlargement of axillary lymphnodes seen', 'Fibroadenoma measuring about 10 x 8mm seen in the 10O clock position of left breast with macrocalcifications', 'Multiple tiny cysts seen scattered in both breasts', 'No axillary lymphadenopathy', 'Parenchyma is predominantly FATTY', 'Tiny simple cyst 7 x 5 mm seen at 100 clock position', 'No parenchymal calcification', 'Vascular pattern appears normal', 'Pectoralis and retromammary space appear normal', 'Nippleareolar outline skin  subcutaneous fat plane are normal', 'No skin thickening or irregularity', 'No enlargement of axillary lymphnodes seen', 'No ductal dilatation', 'No axillary lymphadenopathy on either side', 'Parenchyma is predominantly FATTY', 'Small benign nodular calcification seen in the inferior quadrant of right breast', 'No distinctly identifiable radio opaque mass', 'Vascular pattern appears normal', 'Pectoralis and retromammary space appear normal', 'Nippleareolar outline skin  subcutaneous fat plane are normal', 'No skin thickening or irregularity', 'No enlargement of axillary lymphnodes seen', 'No obvious masscyst seen in both breasts', 'No axillary lymphadenopathy on either side'], 1: ['Bilateral DENSE GLANDULAR PARENCHYMA', 'No distinctly identifiable radio opaque mass', 'No parenchymal calcification', 'Vascular pattern appears normal', 'Pectoralis and retromammary space appear normal', 'Nippleareolar outline skin  subcutaneous fat plane are normal', 'No skin thickening or irregularity', 'No bilateral axillary lymphnodes seen', 'Normal appearing both breasts', 'No solid  cystic mass', 'No ductal dilatation', 'No axillary lymphadenopathy on either side', 'No distinctly identifiable radio opaque mass on left side', 'No parenchymal calcification', 'Normal', 'No mass  cyst', 'Vascular pattern appears normal', 'Pectoralis and retromammary space appear normal', 'Nippleareolar outline skin  subcutaneous fat plane are normal', 'No skin thickening or irregularity', 'Parenchyma is MIXED FATTY and GLANDULAR', 'Small Fibroadenoma measuring about 15 x 10 mm seen at 20 clock position in the periareolar region', 'No parenchymal calcification', 'Small Fibroadenoma 15 x 10 mm seen at 20 clock position in the periareolar region', 'No ductal dilatation', 'Parenchyma is predominantly Glandular', 'No distinctly identifiable radio opaque mass', 'No parenchymal calcification', 'Vascular pattern appears normal', 'Pectoralis and retromammary space appear normal', 'Nippleareolar outline skin  subcutaneous fat plane are normal', 'No skin thickening or irregularity', 'No enlargement of axillary lymphnodes seen', 'No obvious masscyst seen in both breasts', 'No bilateral axillary lymphadenopathy', 'Parenchyma is predominantly FATTY', 'Focal altered parenchymal echotecture seen at 9o clock position of right breast', 'No distinctly identifiable radio opaque mass', 'No parenchymal calcification', 'Vascular pattern appears normal', 'Pectoralis and retromammary space appear normal', 'Nippleareolar outline skin  subcutaneous fat plane are normal', 'No skin thickening or irregularity', 'Right axillary lymphnodes seen', 'No obvious masscyst seen in left breast', 'No left axillary lymphadenopathy', 'Normal', 'No mass  cyst', 'Right axillary lymphadenopathy ', 'Parenchyma is predominantly FATTY', 'No parenchymal calcification', 'Vascular pattern appears normal', 'Pectoralis and retromammary space appear normal', 'Nippleareolar outline skin  subcutaneous fat plane are normal', 'No skin thickening or irregularity', 'No enlargement of axillary lymphnodes seen', 'No solid  cystic mass', 'No axillary lymphadenopathy on either side', 'Parenchyma is predominantly dense glandular', 'No distinctly identifiable radio opaque mass', 'No parenchymal calcification', 'Vascular pattern appears normal', 'Pectoralis and retromammary space appear normal', 'Nippleareolar outline skin  subcutaneous fat plane are normal', 'No skin thickening or irregularity', 'No enlargement of axillary lymphnodes seen', 'No obvious masscyst seen in right breast', ' No axillary lymphadenopathy on right side', 'Dense glandular parenchyma on both sides', 'Normal appearing right breast', 'No axillary lymphadenopathy on either side', 'Parenchyma is predominantly GLANDULAR', 'A well defined radioopaque shadow with spiculated margins seen in the inner quadrant', 'No parenchymal calcification', 'Vascular pattern appears normal', 'Pectoralis and retromammary space appear normal', 'Nippleareolar outline skin  subcutaneous fat plane are normal', 'No skin thickening or irregularity', 'Bilateral axillary lymph nodes seen', 'Normal', 'No mass  cyst', 'Parenchyma is predominantly GLANDULAR', 'No distinctly identifiable radio opaque mass', 'No parenchymal calcification', 'Vascular pattern appears normal', 'Pectoralis and retromammary space appear normal', 'Nippleareolar outline skin  subcutaneous fat plane are normal', 'No skin thickening or irregularity', 'No enlargement of axillary lymphnodes seen', 'Normal', 'No bilateral axillary lymphadenopathy', 'Normal', 'No ductal dilatation', 'No axillary lymphadenopathy on either side', 'Parenchyma is predominantly FATTY', 'Small few macrocalcifications noted in the right subareolar region', 'No distinctly identifiable radio opaque mass', 'Vascular pattern appears normal', 'Pectoralis and retromammary space appear normal', 'Nippleareolar outline skin  subcutaneous fat plane are normal', 'No skin thickening or irregularity', 'No enlargement of axillary lymph nodes seen', 'Normal', 'No distinctly identifiable radio opaque mass on both sides', 'No axillary lymphadenopathy on either side', 'Parenchyma is predominantly FATTY', 'No distinctly identifiable radio opaque mass', 'No parenchymal calcification', 'Vascular pattern appears normal', 'Pectoralis and retromammary space appear normal', 'Nippleareolar outline skin  subcutaneous fat plane are normal', 'No skin thickening or irregularity', 'Left axillary lymph nodes seen', 'Normal', 'No mass  cyst', 'Non specific left axillary lymphadenopathy', 'Parenchyma is predominantly FATTY and GLANDULAR No distinctly identifiable radio opaque mass', 'Small macro calcifications seen in the subareolar region of right breast', 'Vascular pattern appears normal', 'Pectoralis and retromammary space appear normal', 'Nippleareolar outline skin  subcutaneous fat plane are normal', 'No skin thickening or irregularity', 'Axillary lymphnodes seen', 'Normal', 'No mass  cyst', 'Multiple enlarged axillary lymphnodes seen largest one measuring 30 x 15 mm', 'Normal', 'No ductal dilatation', 'Bilateral axillary lymphadenopathy Left  Right', 'Parenchyma is predominantly FATTY', 'Small benign nodular calcification seen in the inferior quadrant of right breast', 'No distinctly identifiable radio opaque mass', 'Vascular pattern appears normal', 'Pectoralis and retromammary space appear normal', 'Nippleareolar outline skin  subcutaneous fat plane are normal', 'No skin thickening or irregularity', 'No enlargement of axillary lymphnodes seen', 'No obvious masscyst seen in both breasts', 'No axillary lymphadenopathy on either side', 'Bilateral DENSE GLANDULAR PARENCHYMA', 'No distinctly identifiable radio opaque mass', 'No parenchymal calcification', 'Vascular pattern appears normal', 'Pectoralis and retromammary space appear normal', 'Nippleareolar outline skin  subcutaneous fat plane are normal', 'No skin thickening or irregularity', 'No Radioopaque mass', 'Non specific right axillary lymphadenopathy', 'Parenchyma is predominantly FATTY', 'No distinctly identifiable radio opaque mass', 'Vascular pattern appears normal', 'Pectoralis and retromammary space appear normal', 'Nippleareolar outline skin  subcutaneous fat plane are normal', 'No skin thickening or irregularity', 'No enlargement of axillary lymphnodes seen', 'Parenchyma is predominantly DENSE GLANDULAR PARENCHYMA', 'No distinctly identifiable radio opaque mass', 'No parenchymal calcification', 'Vascular pattern appears normal', 'Pectoralis and retromammary space appear normal', 'Nippleareolar outline skin  subcutaneous fat plane are normal', 'No skin thickening or irregularity', 'No enlargement of axillary lymphnodes seen', 'A well defined radioopaque shadow noted in the superior and outer quadrant of left breast with spiculated margins', 'No calcifications', 'Parenchyma is predominantly FATTY', 'Vascular pattern appears normal', 'Pectoralis and retromammary space appear normal', 'Nippleareolar outline skin  subcutaneous fat plane are normal', 'No skin thickening or irregularity', 'No enlargement of axillary lymphnodes seen', 'Parenchyma is predominantly FATTY', 'Small benigh punctate calcification seen in the inferior quadrant of left breast', 'No distinctly identifiable radio opaque mass', 'Vascular pattern appears normal', 'Pectoralis and retromammary space appear normal', 'Nippleareolar outline skin  subcutaneous fat plane are normal', 'No skin thickening or irregularity', 'No enlargement of axillary lymphnodes seen', 'Normal', 'No distinctly identifiable radio opaque mass', 'Parenchyma is predominantly FATTY', 'No distinctly identifiable radio opaque mass', 'Multifocal small benign calcifications seen', 'Vascular pattern appears normal', 'Pectoralis and retromammary space appear normal', 'Nippleareolar outline skin  subcutaneous fat plane are normal', 'No skin thickening or irregularity', 'Left axillary lymphadenopathy', 'Small focal fluid collection volume  1 cc with adjacent inflammatory changes and thickened overlying skin noted in the 110 clock position in the subcutaneous plane', 'Otherwise both breast are normal', 'No mass  cyst', 'No ductal dilatation', 'Parenchyma is predominantly FATTY', 'A well defined radio opaque shadow with lobulated margins seen in the superior and outer quadrant of left breast', 'No parenchymal calcifications', 'Vascular pattern appears normal', 'Pectoralis and retromammary space appear normal', 'Nippleareolar outline skin  subcutaneous fat plane are normal', 'No skin thickening or irregularity', 'No enlargement of axillary lymphnodes seen', 'No obvious masscyst seen in right breast', 'No axillary lymphadenopathy', 'No ductal dilatation', 'No axillary lymphadenopathy on right side', 'Parenchyma is predominantly FATTY', 'Fibroadenoma measuring about 23 x 14 mm seen in upper outer quadrant', 'Another two small fibroadenomas seen at 11  6o clock positions each measuring 10 x 6 mm', 'No spiculated margins  parenchymal calcification', 'Vascular pattern appears normal', 'Pectoralis and retromammary space appear normal', 'Nippleareolar outline skin  subcutaneous fat plane are normal', 'No skin thickening or irregularity', 'No enlargement of axillary lymphnodes seen', 'Fibroadenoma 23 x 14 mm seen in upper outer quadrant', 'Another two small fibroadenomas seen at 11  6o clock position each measuring 10 x 6 mm', 'No spiculated margins  parenchymal calcification', 'Vascular pattern appears normal', 'Pectoralis and retromammary space appear normal', 'Nippleareolar outline skin  subcutaneous fat plane are normal', 'No skin thickening or irregularity', 'No enlargement of axillary lymphnodes seen', 'Normal', 'No mass  cyst', 'DENSE GLANDULAR Parenchyma', 'No distinctly identifiable radio opaque mass', 'No parenchymal calcification', 'Vascular pattern appears normal', 'Pectoralis and retromammary space appear normal', 'Nippleareolar outline skin  subcutaneous fat plane are normal', 'No skin thickening or irregularity', 'No enlargement of axillary lymphnodes seen', 'Post operative changes seen in the inner quadrant of right breast', 'No obvious masscyst seen in right breast', 'No bilateral axillary lymphadenopathy', 'No mass  cyst', 'No axillary lymphadenopathy on either side', 'Parenchyma is predominantly FATTY', 'No distinctly identifiable radio opaque mass', 'No parenchymal calcification', 'Vascular pattern appears normal', 'Pectoralis and retromammary space appear normal', 'Nippleareolar outline skin  subcutaneous fat plane are normal', 'No skin thickening or irregularity', 'No enlargement of axillary lymphnodes seen', 'Parenchyma is GLANDULAR  FATTY', 'No distinctly identifiable radio opaque mass', 'No parenchymal calcification', 'No spiculated margins  parenchymal calcification', 'Vascular pattern appears normal', 'Pectoralis and retromammary space appear normal', 'Nippleareolar outline skin  subcutaneous fat plane are normal', 'No skin thickening or irregularity', 'No axillary lymphnode seen', 'Normal', 'No solid mass  ductal dilatation', 'No parenchymal calcification', 'No Axillary lymphadenopathy', 'Parenchyma is predominantly FATTY', 'No distinctly identifiable radio opaque mass', 'Multifocal small benign calcifications seen', 'Vascular pattern appears normal', 'Pectoralis and retromammary space appear normal', 'Nippleareolar outline skin  subcutaneous fat plane are normal', 'No skin thickening or irregularity', 'Left axillary lymphadenopathy', 'Otherwise both breast are normal', 'No mass  cyst', 'No ductal dilatation', 'Left axillary lymphadenopathy', 'Parenchyma is predominantly GLANDULAR', 'No distinctly identifiable radio opaque mass', 'No parenchymal calcification', 'Vascular pattern appears normal', 'Pectoralis and retromammary space appear normal', 'Nippleareolar outline skin  subcutaneous fat plane are normal', 'No skin thickening or irregularity', 'Normal appearing left breast', 'No radio opaque mass', 'Bilateral axillary lymphadenopathy Non specific', 'Bilateral DENSE GLANDULAR PARENCHYMA', 'No distinctly identifiable radio opaque mass', 'No parenchymal calcification', 'Vascular pattern appears normal', 'Pectoralis and retromammary space appear normal', 'Nippleareolar outline skin  subcutaneous fat plane are normal', 'No skin thickening or irregularity', 'No bilateral axillary lymphnodes seen', 'Normal appearing both breasts', 'No solid  cystic mass', 'No ductal dilatation', 'No axillary lymphadenopathy on either side', 'Parenchyma is predominantly FATTY', 'No distinctly identifiable radio opaque mass', 'No parenchymal calcification', 'Vascular pattern appears normal', 'Pectoralis and retromammary space appear normal', 'Nippleareolar outline skin  subcutaneous fat plane are normal', 'No skin thickening or irregularity', 'Left axillary lymphnodes seen', 'Normal', 'No mass  cyst', 'Bilateral DENSE GLANDULAR PARENCHYMA', 'No distinctly identifiable radio opaque mass', 'No parenchymal calcification', 'Vascular pattern appears normal', 'Pectoralis and retromammary space appear normal', 'Nippleareolar outline skin  subcutaneous fat plane are normal', 'No skin thickening or irregularity', 'No Radioopaque mass', 'Non specific right axillary lymphadenopathy', 'Parenchyma is predominantly FATTY', 'No distinctly identifiable radio opaque mass', 'No parenchymal calcification', 'Vascular pattern appears normal', 'Pectoralis and retromammary space appear normal', 'Nippleareolar outline skin  subcutaneous fat plane are normal', 'No skin thickening or irregularity', 'No enlargement of axillary lymphnodes seen', 'No mass  cyst', 'No axillary lymphadenopathy on either side', 'Parenchyma is predominantly FATTY', 'A well defined radio opaque shadow with lobulated margins seen in the superior quadrant of left breast', 'No parenchymal calcifications', 'Vascular pattern appears normal', 'Pectoralis and retromammary space appear normal', 'Nippleareolar outline skin  subcutaneous fat plane are normal', 'No skin thickening or irregularity', 'No enlargement of axillary lymphnodes seen', 'No obvious masscyst seen in right breast', 'No axillary lymphadenopathy', 'Normal', 'No ductal dilatation', 'No axillary lymphadenopathy on right side', 'Parenchyma is predominantly FATTY', 'A well defined radio opaque shadow seen in the upper quadrant of right braest', 'No parenchymal calcification', 'Vascular pattern appears normal', 'Pectoralis and retromammary space appear normal', 'Nippleareolar outline skin  subcutaneous fat plane are normal', 'No skin thickening or irregularity', 'Multiple right axillary lymphadenopathy', 'Few cysts seen scattered in both breasts largest one measuring 35 x 25 mm in the 90 clock position of right breast', 'Largest cyst in the right breast appears thick walled with internal debris', 'Multiple right axillary lymphadenopathy', 'Normal', 'Multiple right axillary lymphadenopathy', 'Parenchyma is MIXED FATTY and GLANDULAR', 'Vascular pattern appears normal', 'Pectoralis and retromammary space appear normal', 'Nippleareolar outline skin  subcutaneous fat plane are normal', 'No skin thickening or irregularity', 'Right axillary lymphnodes seen NON SPECIFIC', 'No mass  cyst', 'Right axillary lymphnodes seen NON SPECIFIC'], 4: ['Parenchyma is predominantly FATTY', 'Multiple rounded radio opaque shadows seen in both breasts', 'No spiculated margins  parenchymal calcifications', 'Vascular pattern appears normal', 'Pectoralis and retromammary space appear normal', 'Nippleareolar outline skin  subcutaneous fat plane are normal', 'No skin thickening or irregularity', 'No enlargement of axillary lymphnodes seen', 'Multiple cysts seen scattered in both breasts largest one measuring 37 x 20 mm in the 100 clock position of left breast', 'Echogenic debris noted within', 'No solid components  fat components  calcifications', 'No bilateral axillary lymphadenopathy', 'MULTIPLE CYSTS with ECHOGENIC DEBRIS seen in both breasts', 'No ductal dilatation', 'No axillary lymphadenopathy on either side', 'GLANDULAR  FATTY Parenchyma', 'An ill defined radio opaque shadow in the upper quadrant', 'No parenchymal calcification', 'Vascular pattern appears normal', 'Pectoralis and retromammary space appear normal', 'Nippleareolar outline skin  subcutaneous fat plane are normal', 'No skin thickening or irregularity', 'No enlargement of axillary lymphnodes seen', 'An ill defined focal hypoechoic lesion measuring about 30 x 12 mm seen in the superior quadrant', 'Margins appears irregular', 'No adjacent ductal dilaation', 'No calcifications', 'No axillary lymphadenopathy', 'Parenchyma is predominantly FATTY', 'Multiple rounded radio opaque shadows seen in both breasts', 'No spiculated margins  parenchymal calcifications', 'Vascular pattern appears normal', 'Pectoralis and retromammary space appear normal', 'Nippleareolar outline skin  subcutaneous fat plane are normal', 'No skin thickening or irregularity', 'No enlargement of axillary lymphnodes seen', 'Multiple cysts seen scattered in both breasts largest one measuring 37 x 20 mm in the 100 clock position of left breast', 'Echogenic debris noted within', 'No solid components  fat components  calcifications', 'No bilateral axillary lymphadenopathy', 'MULTIPLE CYSTS with ECHOGENIC DEBRIS seen in both breasts', 'No ductal dilatation', 'No axillary lymphadenopathy on either side', 'Parenchyma is MIXED GLANDULAR and FATTY', 'Multiple small cystic lesions of varying sizes seen in the outer quadrant', 'The cyst 15 x 10mm seen in the upper outer quadrant appears complex with internal solid components', 'No parenchymal calcification', 'Vascular pattern appears normal', 'Pectoralis and retromammary space appear normal', 'Nippleareolar outline skin  subcutaneous fat plane are normal', 'No skin thickening or irregularity', 'No enlargement of axillary lymphnodes seen', 'Multiple small cystic lesions of varying sizes seen in the outer quadrant of left breast FIBROCYSTIC DISEASE', 'Soft tissue mass lesion 23 x 20 mm with spiculated margins noted in the subareolar region at 3o clock position with mild nipple retraction', 'Parenchyma is predominantly FATTY', 'A huge solid mass lesion seen involving the entire right breast measuring 13 x 12 cms', 'No calcifications  cystic degeneration', 'A huge solid mass lesion seen involving the entire right breast measuring 13 x 12 cms', 'Parenchyma is predominantly FATTY', 'A well defined radio opaque shadow seen in the upper quadrant of right braest', 'No parenchymal calcification', 'Vascular pattern appears normal', 'Pectoralis and retromammary space appear normal', 'Nippleareolar outline skin  subcutaneous fat plane are normal', 'No skin thickening or irregularity', 'Multiple right axillary lymphadenopathy', 'Few cysts seen scattered in both breasts largest one measuring 35 x 25 mm in the 90 clock position of right breast', 'Largest cyst in the right breast appears thick walled with internal debris', 'Multiple right axillary lymphadenopathy', 'Few cysts seen scattered in both breasts largest one measuring 35 x 25 mm in the 90 clock position of right breast BIRADS  III', 'Largest cyst in the right breast appears thick walled with internal debris BIRADS  III to IV', 'FATTY  GLANDULAR PARENCHYMA No distinctly identifiable radio opaque mass', 'No parenchymal calcification', 'Vascular pattern appears normal', 'Pectoralis and retromammary space appear normal', 'Nippleareolar outline skin  subcutaneous fat plane are normal', 'No skin thickening or irregularity', 'No enlargement of axillary lymphnodes seen', 'Dilated duct seen in the subareolar region with intra ductal soft tissue polypoid lesion measuring about 12 x8 mm', 'No axillary lymphadenopathy', 'Dilated duct seen in the subareolar region with intra ductal soft tissue polypoid lesion measuring about 12 x8 mm  BIRADS  IV', 'No axillary lymphadenopathy on either side', 'Right dense breast parenchyma noted', 'Left mixed fatty parenchyma noted', 'Necrotic mass lesion 42 x 32 mm seen in the upper outer quadrant of right breast', 'No parenchymal calcification', 'Vascular pattern appears normal', 'Pectoralis and retromammary space appear normal', 'Nippleareolar outline skin  subcutaneous fat plane are normal', 'No skin thickening or irregularity', 'Bilateral axillary lymphnodes with fatty hilum', 'Dense glandular Parenchyma', 'A well defined oval shaped radio opaque shadow seen in the inferior quadrant of left breast', 'Vascular pattern appears normal', 'Pectoralis and retromammary space appear normal', 'Nippleareolar outline skin  subcutaneous fat plane are normal', 'No skin thickening or irregularity', 'No enlargement of axillary lymphnodes seen', 'Multiple nodular lesions seen largest one measuring 24 x 13 mm seen in the 6o clock position', 'Another lesion in the subareolar region shows irregular margins', 'Parenchyma is predominantly FATTY and GLANDULAR', 'No distinctly identifiable radio opaque mass', 'Multiple foci of cluster micro calcifications seen in the superior and outer quadrant of right breast', 'Vascular pattern appears normal', 'Pectoralis and retromammary space appear normal', 'Nippleareolar outline skin  subcutaneous fat plane are normal', 'No skin thickening or irregularity', 'Right axillary lymphnodes seen', 'An ill defined hypoechoic lesion with multiple microcalcifications seen in the 100 clock position', 'Subtle ductal dilatation seen', 'Right axillary lymphadenopathy', 'Normal', 'GLANDULAR PARENCHYMA', 'No distinctly identifiable radio opaque mass', 'No parenchymal calcification', 'Vascular pattern appears normal', 'Pectoralis and retromammary space appear normal', 'Nippleareolar outline skin  subcutaneous fat plane are normal', 'No skin thickening or irregularity', 'Left axillary lymphnodes seen Non specific', 'No obvious masscyst seen in left breast', 'No axillary lymphnodes seen Non specific', 'Focal ductal dilatation 6 mmseen in the subareolar region v No solid  cystic mass', 'Right axillary lymphnodes seen Non specific'], 3: ['Parenchyma is MIXED FATTY and GLANDULAR', 'A well defined radioopaque mass lesion 29 x 27mm seen in the upper outer quadrant of left breast', 'No evidence of calcification  spiculated margins', 'A well defined radioopaque mass lesion 29 x 27mm seen in the upper outer quadrant of left breast', 'No evidence of calcification  spiculated margins', 'No axillary lymphadenopathy', 'Bilateral dense glandular breast parenchyma', 'No distinctly identifiable radio opaque mass', 'No parenchymal calcification', 'Vascular pattern appears normal', 'Pectoralis and retromammary space appear normal', 'Nippleareolar outline skin  subcutaneous fat plane are normal', 'No skin thickening or irregularity', 'Enlargement of axillary lymphnodes seen', 'FIBROCYSTIC DISEASE of both breasts', 'Largest lesion in the right breast shows thick wall and internal septations with layering debris', 'No ductal dilatation', 'Bilateral axillary lymphadenopathy', 'Multiple cysts seen scattered in all the quadrants largest one in the 50 clock position measuring 16 x 12 mm', 'Bilateral axillary lymphadenopathy', 'Parenchyma is predominantly FATTY and GLANDULAR No distinctly identifiable radio opaque mass', 'Small macro calcifications seen in the subareolar region of right breast', 'Vascular pattern appears normal', 'Pectoralis and retromammary space appear normal', 'Nippleareolar outline skin  subcutaneous fat plane are normal', 'No skin thickening or irregularity', 'Axillary lymphnodes seen', 'A well defined hypoechoic nodular lesion measuring about 18 x 12 mm seen in the 120 clock position of right breast near the nipple areolar complex with internal specks of calcifications', 'Right axillary lymphadenopathy', 'A well defined hypoechoic nodular lesion 18 x 12 mm seen in the 120 clock position of right breast near the nipple areolar complex with internal specks of calcifications', 'DENSE GLANDULAR Parenchyma', 'No distinctly identifiable radio opaque mass', 'No parenchymal calcification', 'Vascular pattern appears normal', 'Pectoralis and retromammary space appear normal', 'Nippleareolar outline skin  subcutaneous fat plane are normal', 'No skin thickening or irregularity', 'No enlargement of axillary lymphnodes seen', 'Multiple cysts seen scattered in all the quadrants largest cyst appears complex with thick wall and internal debris and measures 20 x 15 mm', 'Features more in favor of FIBROCYSTIC DISEASE of left breast with COMPLEX CYSTIC LESION in the 9o clock position', 'Bilateral dense breast Parenchyma noted', 'No distinctly identifiable radio opaque mass', 'No parenchymal calcification', 'Vascular pattern appears normal', 'Pectoralis and retromammary space appear normal', 'Nippleareolar outline skin  subcutaneous fat plane are normal', 'No skin thickening or irregularity', 'No enlargement of axillary lymphnodes seen', 'Multiple small simple cysts seen in both breasts largest one in the left breast measures 18 x 14 mm and appears complex', 'No bilateral axillary lymphadenopathy', 'FIBROCYSTIC DISEASE of both breasts BIRADS  III   INFECTED CYSTS', 'No axillary lymphadenopathy on either side', 'Parenchyma is predominantly DENSE GLANDULAR', 'No parenchymal calcification', 'Vascular pattern appears normal', 'Pectoralis and retromammary space appear normal', 'Nippleareolar outline skin  subcutaneous fat plane are normal', 'No skin thickening or irregularity', 'No enlargement of axillary lymphnodes seen', 'Parenchyma is predominantly GLANDULAR  FATTY', 'A well defined SOLID MASS LESION 23 x 16mm seen at 6O clock position of left breast', 'No spiculated margin', 'No parenchymal calcification', 'Vascular pattern appears normal', 'Pectoralis and retromammary space appear normal', 'Nippleareolar outline skin  subcutaneous fat plane are normal', 'No skin thickening or irregularity', 'No enlargement of axillary lymphnodes seen', 'GLANDULAR and FATTY Parenchyma', 'Well defined radio opaque shadow seen in the superior quadrant of right breast', 'Vascular pattern appears normal', 'Pectoralis and retromammary space appear normal', 'Nippleareolar outline skin  subcutaneous fat plane are normal', 'No skin thickening or irregularity', 'Bilateral axillary lymphadenopathy Nonspecific', 'Multiple tiny cysts seen scattered in all the quadrants of sizes varying between 4 to 6 mm', 'Parenchyma is predominantly FATTY', 'Two well defined lobulated solid mass lesions seen at 9 and 110 clock positions measuring 20 x 15 mm and 20 x 13 mm respectively', 'Features more in favour of FIBROADENOMA', 'GLANDULAR and FATTY Parenchyma', 'Well defined radio opaque shadow seen in the superior quadrant of right breast', 'Vascular pattern appears normal', 'Pectoralis and retromammary space appear normal', 'Nippleareolar outline skin  subcutaneous fat plane are normal', 'No skin thickening or irregularity', 'Bilateral axillary lymphadenopathy Nonspecific Multiple cysts of varying sizes seen largest one measuring 22 x 18 mm seen at 11o clock position with thickened wall', 'Two small fibroadenomas measuring 6 mm each seen at 8o clock position', 'Parenchyma is predominantly DENSE GLANDULAR', 'Small well defined rounded radio opaque shadow seen in the superior and outer quadrant of right breast', 'No parenchymal calcifications', 'Vascular pattern appears normal', 'Pectoralis and retromammary space appear normal', 'Nippleareolar outline skin  subcutaneous fat plane are normal', 'No skin thickening or irregularity', 'Multiple well defined cysts seen scattered in all the quadrants of both breasts largest one in the right subareolar region measures 15 x 10 mm', 'Some of the cysts shows thick wall and internal debris', 'Small intramammary lymphnode seen in the superior and outer quadrant of right breasts', 'FIBROCYSTIC DISEASE of both breasts BIRADS  III', 'Small intramammary lymphnode seen in the superior and outer quadrant of right breast', 'No ductal dilatation', 'Bilateral dense glandular breast parenchyma', 'No distinctly identifiable radio opaque mass', 'No parenchymal calcification', 'Vascular pattern appears normal', 'Pectoralis and retromammary space appear normal', 'Nippleareolar outline skin  subcutaneous fat plane are normal', 'No skin thickening or irregularity', 'Enlargement of axillary lymphnodes seen', 'FIBROCYSTIC DISEASE of both breasts', 'Largest lesion in the right breast shows thick wall and internal septations with layering debris', 'No ductal dilatation', 'Bilateral axillary lymphadenopathy', 'Multiple cysts seen scattered in all the quadrants largest one in the 100 clock position measuring 2', '0 x 2', '0 x 1', '7 cms volume  4 cc', 'Largest lesion shows thick wall and internal septations with layering debris INFECTED'], 5: ['Parenchyma is predominantly FATTY', 'A well defined radio opaque shadow with lobulated margins seen in the outer quadrant of left breast', 'No parenchymal calcifications', 'Vascular pattern appears normal', 'Pectoralis and retromammary space appear normal', 'Nippleareolar outline skin  subcutaneous fat plane are normal', 'No skin thickening or irregularity', 'No enlargement of axillary lymphnodes seen', 'LEFT BREAST A well defined soft tissue mass lesion measuring about 38 x 29 mm noted in the 40 clock position with lobulated margins', 'Areas of necrosis noted within', 'No evidence of calcification', 'Doppler study increased vascularity', 'No obvious masscyst seen in right breast', 'No axillary lymphadenopathy', 'Parenchyma is predominantly GLANDULAR and FATTY', 'A well defined radio opaque shadow with spiculated margins seen in the superior and outer quadrant of left breast', 'No parenchymal calcifications', 'Vascular pattern appears normal', 'Pectoralis and retromammary space appear normal', 'Nippleareolar outline skin  subcutaneous fat plane are normal', 'No skin thickening or irregularity', 'No enlargement of axillary lymphnodes seen', 'A well defined LARGE SOFT TISSUE NODULAR LESION 24 x 22 mm noted in the 20 clock position near the nipple areolar complex with spiculated margins', 'Multiple cysts seen scattered in the left breast', 'Areas of necrosis noted within', 'No evidence of calcification', 'Doppler study increased vascularity', 'No obvious masscyst seen in right breast', 'No axillary lymphadenopathy', 'Parenchyma is predominantly FATTY', 'A well defined radio opaque shadow with spiculated margins seen in the outer quadrant of left breast', 'No parenchymal calcifications', 'Vascular pattern appears normal', 'Pectoralis and retromammary space appear normal', 'Nippleareolar outline skin  subcutaneous fat plane are normal', 'No skin thickening or irregularity', 'Bilateral axillary lymphnodes seen', 'A well defined soft tissue nocular lesion 19 x 18 mm noted in the 30 clock position with spiculated margins', 'Areas of necrosis noted within', 'No evidence of calcification', 'Doppler study increased vascularity', 'No ductal dilatation', 'Left axillary lymphadenopathy', 'No obvious masscyst seen in right breast', 'Right axillary lymphadenopathy', 'Parenchyma is predominantly FATTY', 'An ill defined and poorly circumscribed soft tissue lesion measuring about 27 x 25 mm seen in the upper and outer quadrant of right breast with spiculated margins', 'Micro calcifications seenwith in the mass', 'Vascular pattern appears normal', 'Pectoralis and retromammary space appear normal', 'Retraction of nippleareolar complex is normal', 'No skin thickening or irregularity', 'SPICULATED MASS LESION 27 x 25 mm in the upper and outer quadrant with microcalficiations', 'Retraction of nipple areolar complex', 'BIRADS V lesion', 'Underlying chest wall and pectoralis muscles normal', 'Right axillary lymphadenopathy METASTATIC', 'Parenchyma is predominantly GLANDULAR', 'A well defined radioopaque shadow with spiculated margins seen in the inner quadrant', 'No parenchymal calcification', 'Vascular pattern appears normal', 'Pectoralis and retromammary space appear normal', 'Nippleareolar outline skin  subcutaneous fat plane are normal', 'No skin thickening or irregularity', 'Bilateral axillary lymph nodes seen', 'Spiculated mass lesion BIRADS V', 'Bilateral axillary lymph nodes seen', 'Parenchyma is predominantly FATTY', 'A well defined radio opaque shadow with lobulated margins seen in the superior quadrant of left breast', 'No parenchymal calcifications', 'Vascular pattern appears normal', 'Pectoralis and retromammary space appear normal', 'Nippleareolar outline skin  subcutaneous fat plane are normal', 'No skin thickening or irregularity', 'No enlargement of axillary lymphnodes seen', 'Post operative changes seen', 'A well defined soft tissue nodular lesion measuring about 10 x 8 mm noted in the 120 clock position with spiculated margins', 'Areas of necrosis noted within', 'No evidence of calcification', 'Doppler study increased vascularity', 'A well defined soft tissue nodular lesion 10 x 8 mm noted in the 120 clock position with spiculated margins', 'Left axillary lymphadenopath', 'Parenchyma is predominantly FATTY', 'A well defined radio opaque shadow with lobulated margins seen in the superior and outer quadrant of left breast', 'No parenchymal calcifications', 'Vascular pattern appears normal', 'Pectoralis and retromammary space appear normal', 'Nippleareolar outline skin  subcutaneous fat plane are normal', 'No skin thickening or irregularity', 'No enlargement of axillary lymphnodes seen', 'A well defined Large SOFT TISSUE MASS LESION noted in the 1 to 20 clock position with spiculated margins', 'Areas of necrosis noted within', 'No evidence of calcification', 'Doppler study increased vascularity', 'Left axillary lymphadenopathy'], 0: ['Multiple small well defined oval shaped radio opaque lesions seen scattered in both breasts with macrocalcifications', 'Parenchyma is FATTY and glandular', 'Vascular pattern appears normal', 'Pectoralis and retromammary space appear normal', 'Nippleareolar outline skin  subcutaneous fat plane are normal', 'No skin thickening or irregularity', 'No enlargement of axillary lymphnodes seen', 'Multiple small well defined oval shaped radio opaque lesions seen scattered in both breasts with macrocalcifications', 'Bilateral breast parenchyma is predominantly FATTY', 'No distinctly identifiable radio opaque mass', 'No parenchymal calcification', 'Vascular pattern appears normal', 'Pectoralis and retromammary space appear normal', 'Nippleareolar outline skin  subcutaneous fat plane are normal', 'No skin thickening or irregularity', 'No enlargement of axillary lymphnodes seen', 'Parenchyma is predominantly GLANDULAR', 'No distinctly identifiable radio opaque mass', 'No parenchymal calcification', 'Vascular pattern appears normal', 'Pectoralis and retromammary space appear normal', 'Nippleareolar outline skin  subcutaneous fat plane are normal', 'No skin thickening or irregularity', 'Right axillary lymph node seen', 'Small axillary lymph node 10 x 8mm seen in the right axillary region with preserved fatty hilum', 'No obvious masscyst seen in both breasts', 'No axillary lymphadenopathy on left side'], 6: ['Large well defined radioopaque shadow seen in the superior and medial quadrant of right breast with spiculated margins', 'No evidence of calcifications', 'Parenchyma is predominantly FATTY', 'Vascular pattern appears normal', 'Pectoralis and retromammary space appear normal', 'Nippleareolar outline skin  subcutaneous fat plane are normal', 'No skin thickening or irregularity', 'No enlargement of axillary lymphnodes seen', 'A well defined radioopaque shadow noted in the superior and outer quadrant of left breast with spiculated margins', 'No calcifications', 'Parenchyma is predominantly FATTY', 'Vascular pattern appears normal', 'Pectoralis and retromammary space appear normal', 'Nippleareolar outline skin  subcutaneous fat plane are normal', 'No skin thickening or irregularity', 'No enlargement of axillary lymphnodes seen', 'Mass Lesion']}\n",
            "{2: ['Simple cysts in the left breast', 'Few small simple cysts largest one measuring 10 x 5 mm in the 12o clock position', 'SMALL FIBROADENOMA in the right breast'], 1: ['Left axillary lymphadenopathy with preserved fatty hilum'], 4: ['The cyst 15 X 10mm seen in the upper outer quadrant appears complex with internal solid component', 'No bilateral axillary lymphadenopathy'], 3: ['Bilateral axillary lymphadenopathy Nonspecific'], 5: [], 0: [' INVOLUTING FIBROADENOMAS'], 6: []}\n"
          ]
        }
      ]
    },
    {
      "cell_type": "code",
      "source": [
        "#Class wise language model generation\n",
        "language_class_wise = {}\n",
        "\n",
        "for label in df[\"Birads\"].value_counts().index:\n",
        "  language_class_wise[label] = LanguageModels(train_corpus_class_wise[label])\n",
        "  language_class_wise[label].build_ngrams(N=3)"
      ],
      "metadata": {
        "id": "RLQmRafheKV8"
      },
      "execution_count": null,
      "outputs": []
    },
    {
      "cell_type": "code",
      "source": [
        "test_data = []\n",
        "y_true = []\n",
        "\n",
        "for label in test_corpus_class_wise:\n",
        "  y_true.extend([label]*len(test_corpus_class_wise[label]))\n",
        "\n",
        "  for rec in test_corpus_class_wise[label]:\n",
        "    test_data.append(rec)\n",
        "print(\"length of y_true\",len(y_true))\n",
        "print(\"length of test data\",len(test_data))"
      ],
      "metadata": {
        "colab": {
          "base_uri": "https://localhost:8080/"
        },
        "id": "vEHtH0rEgs-g",
        "outputId": "70a8f520-4aa6-4fe6-d9aa-aeeafcba61db"
      },
      "execution_count": null,
      "outputs": [
        {
          "output_type": "stream",
          "name": "stdout",
          "text": [
            "length of y_true 8\n",
            "length of test data 8\n"
          ]
        }
      ]
    },
    {
      "cell_type": "code",
      "source": [
        "y_pred = []\n",
        "\n",
        "for i in [test_data[0]]:\n",
        "  temp = {}\n",
        "  for model in language_class_wise:\n",
        "    temp[model]=language_class_wise[model].smooth_sentence_probability(i)[0]\n",
        "    print(\"For class:\",model,\"Probability is:\",temp[model])\n",
        "  y_pred.append(list(dict(sorted(temp.items(), key=lambda item: item[1])).keys())[-1])"
      ],
      "metadata": {
        "colab": {
          "base_uri": "https://localhost:8080/"
        },
        "id": "V-kG6LSGjjBD",
        "outputId": "2e3e91fe-49b8-4871-e70e-0893a15b1628"
      },
      "execution_count": null,
      "outputs": [
        {
          "output_type": "stream",
          "name": "stdout",
          "text": [
            "For class: 2 Probability is: 1.5758782873939244e-13\n",
            "For class: 1 Probability is: 3.4067859981405407e-14\n",
            "For class: 4 Probability is: 5.491241151993133e-12\n",
            "For class: 3 Probability is: 1.1659378400017468e-11\n",
            "For class: 5 Probability is: 2.420542775584304e-12\n",
            "For class: 0 Probability is: 8.849114532292286e-12\n",
            "For class: 6 Probability is: 1.2887371665710715e-10\n"
          ]
        }
      ]
    },
    {
      "cell_type": "code",
      "source": [],
      "metadata": {
        "id": "OlFj3W6NlXtM"
      },
      "execution_count": null,
      "outputs": []
    }
  ]
}