{
  "nbformat": 4,
  "nbformat_minor": 0,
  "metadata": {
    "colab": {
      "provenance": []
    },
    "kernelspec": {
      "name": "python3",
      "display_name": "Python 3"
    },
    "language_info": {
      "name": "python"
    }
  },
  "cells": [
    {
      "cell_type": "markdown",
      "source": [
        "## Spectral Clustering on Iris Dataset"
      ],
      "metadata": {
        "id": "VkdA3Dfpaz5g"
      }
    },
    {
      "cell_type": "code",
      "execution_count": null,
      "metadata": {
        "id": "KCEj7EQ6apqz"
      },
      "outputs": [],
      "source": [
        "#Importing necessary libraries\n",
        "import pandas as pd\n",
        "import numpy as np\n",
        "import matplotlib.pyplot as plt\n",
        "import seaborn as sns"
      ]
    },
    {
      "cell_type": "code",
      "source": [
        "#Loading the dataset\n",
        "df = pd.read_csv(\"https://raw.githubusercontent.com/plotly/datasets/master/iris-data.csv\")"
      ],
      "metadata": {
        "id": "4arKZamIa2gb"
      },
      "execution_count": null,
      "outputs": []
    },
    {
      "cell_type": "code",
      "source": [
        "df.head()"
      ],
      "metadata": {
        "colab": {
          "base_uri": "https://localhost:8080/",
          "height": 206
        },
        "id": "EafLVKy2beFK",
        "outputId": "b4dd5beb-53d7-41c0-86e2-d41a2407ecac"
      },
      "execution_count": null,
      "outputs": [
        {
          "output_type": "execute_result",
          "data": {
            "text/plain": [
              "   sepal length  sepal width  petal length  petal width        class\n",
              "0           5.1          3.5           1.4          0.2  Iris-setosa\n",
              "1           4.9          3.0           1.4          0.2  Iris-setosa\n",
              "2           4.7          3.2           1.3          0.2  Iris-setosa\n",
              "3           4.6          3.1           1.5          0.2  Iris-setosa\n",
              "4           5.0          3.6           1.4          0.2  Iris-setosa"
            ],
            "text/html": [
              "\n",
              "  <div id=\"df-ced650aa-354a-4167-8fd7-3598a8e487d0\">\n",
              "    <div class=\"colab-df-container\">\n",
              "      <div>\n",
              "<style scoped>\n",
              "    .dataframe tbody tr th:only-of-type {\n",
              "        vertical-align: middle;\n",
              "    }\n",
              "\n",
              "    .dataframe tbody tr th {\n",
              "        vertical-align: top;\n",
              "    }\n",
              "\n",
              "    .dataframe thead th {\n",
              "        text-align: right;\n",
              "    }\n",
              "</style>\n",
              "<table border=\"1\" class=\"dataframe\">\n",
              "  <thead>\n",
              "    <tr style=\"text-align: right;\">\n",
              "      <th></th>\n",
              "      <th>sepal length</th>\n",
              "      <th>sepal width</th>\n",
              "      <th>petal length</th>\n",
              "      <th>petal width</th>\n",
              "      <th>class</th>\n",
              "    </tr>\n",
              "  </thead>\n",
              "  <tbody>\n",
              "    <tr>\n",
              "      <th>0</th>\n",
              "      <td>5.1</td>\n",
              "      <td>3.5</td>\n",
              "      <td>1.4</td>\n",
              "      <td>0.2</td>\n",
              "      <td>Iris-setosa</td>\n",
              "    </tr>\n",
              "    <tr>\n",
              "      <th>1</th>\n",
              "      <td>4.9</td>\n",
              "      <td>3.0</td>\n",
              "      <td>1.4</td>\n",
              "      <td>0.2</td>\n",
              "      <td>Iris-setosa</td>\n",
              "    </tr>\n",
              "    <tr>\n",
              "      <th>2</th>\n",
              "      <td>4.7</td>\n",
              "      <td>3.2</td>\n",
              "      <td>1.3</td>\n",
              "      <td>0.2</td>\n",
              "      <td>Iris-setosa</td>\n",
              "    </tr>\n",
              "    <tr>\n",
              "      <th>3</th>\n",
              "      <td>4.6</td>\n",
              "      <td>3.1</td>\n",
              "      <td>1.5</td>\n",
              "      <td>0.2</td>\n",
              "      <td>Iris-setosa</td>\n",
              "    </tr>\n",
              "    <tr>\n",
              "      <th>4</th>\n",
              "      <td>5.0</td>\n",
              "      <td>3.6</td>\n",
              "      <td>1.4</td>\n",
              "      <td>0.2</td>\n",
              "      <td>Iris-setosa</td>\n",
              "    </tr>\n",
              "  </tbody>\n",
              "</table>\n",
              "</div>\n",
              "      <button class=\"colab-df-convert\" onclick=\"convertToInteractive('df-ced650aa-354a-4167-8fd7-3598a8e487d0')\"\n",
              "              title=\"Convert this dataframe to an interactive table.\"\n",
              "              style=\"display:none;\">\n",
              "        \n",
              "  <svg xmlns=\"http://www.w3.org/2000/svg\" height=\"24px\"viewBox=\"0 0 24 24\"\n",
              "       width=\"24px\">\n",
              "    <path d=\"M0 0h24v24H0V0z\" fill=\"none\"/>\n",
              "    <path d=\"M18.56 5.44l.94 2.06.94-2.06 2.06-.94-2.06-.94-.94-2.06-.94 2.06-2.06.94zm-11 1L8.5 8.5l.94-2.06 2.06-.94-2.06-.94L8.5 2.5l-.94 2.06-2.06.94zm10 10l.94 2.06.94-2.06 2.06-.94-2.06-.94-.94-2.06-.94 2.06-2.06.94z\"/><path d=\"M17.41 7.96l-1.37-1.37c-.4-.4-.92-.59-1.43-.59-.52 0-1.04.2-1.43.59L10.3 9.45l-7.72 7.72c-.78.78-.78 2.05 0 2.83L4 21.41c.39.39.9.59 1.41.59.51 0 1.02-.2 1.41-.59l7.78-7.78 2.81-2.81c.8-.78.8-2.07 0-2.86zM5.41 20L4 18.59l7.72-7.72 1.47 1.35L5.41 20z\"/>\n",
              "  </svg>\n",
              "      </button>\n",
              "      \n",
              "  <style>\n",
              "    .colab-df-container {\n",
              "      display:flex;\n",
              "      flex-wrap:wrap;\n",
              "      gap: 12px;\n",
              "    }\n",
              "\n",
              "    .colab-df-convert {\n",
              "      background-color: #E8F0FE;\n",
              "      border: none;\n",
              "      border-radius: 50%;\n",
              "      cursor: pointer;\n",
              "      display: none;\n",
              "      fill: #1967D2;\n",
              "      height: 32px;\n",
              "      padding: 0 0 0 0;\n",
              "      width: 32px;\n",
              "    }\n",
              "\n",
              "    .colab-df-convert:hover {\n",
              "      background-color: #E2EBFA;\n",
              "      box-shadow: 0px 1px 2px rgba(60, 64, 67, 0.3), 0px 1px 3px 1px rgba(60, 64, 67, 0.15);\n",
              "      fill: #174EA6;\n",
              "    }\n",
              "\n",
              "    [theme=dark] .colab-df-convert {\n",
              "      background-color: #3B4455;\n",
              "      fill: #D2E3FC;\n",
              "    }\n",
              "\n",
              "    [theme=dark] .colab-df-convert:hover {\n",
              "      background-color: #434B5C;\n",
              "      box-shadow: 0px 1px 3px 1px rgba(0, 0, 0, 0.15);\n",
              "      filter: drop-shadow(0px 1px 2px rgba(0, 0, 0, 0.3));\n",
              "      fill: #FFFFFF;\n",
              "    }\n",
              "  </style>\n",
              "\n",
              "      <script>\n",
              "        const buttonEl =\n",
              "          document.querySelector('#df-ced650aa-354a-4167-8fd7-3598a8e487d0 button.colab-df-convert');\n",
              "        buttonEl.style.display =\n",
              "          google.colab.kernel.accessAllowed ? 'block' : 'none';\n",
              "\n",
              "        async function convertToInteractive(key) {\n",
              "          const element = document.querySelector('#df-ced650aa-354a-4167-8fd7-3598a8e487d0');\n",
              "          const dataTable =\n",
              "            await google.colab.kernel.invokeFunction('convertToInteractive',\n",
              "                                                     [key], {});\n",
              "          if (!dataTable) return;\n",
              "\n",
              "          const docLinkHtml = 'Like what you see? Visit the ' +\n",
              "            '<a target=\"_blank\" href=https://colab.research.google.com/notebooks/data_table.ipynb>data table notebook</a>'\n",
              "            + ' to learn more about interactive tables.';\n",
              "          element.innerHTML = '';\n",
              "          dataTable['output_type'] = 'display_data';\n",
              "          await google.colab.output.renderOutput(dataTable, element);\n",
              "          const docLink = document.createElement('div');\n",
              "          docLink.innerHTML = docLinkHtml;\n",
              "          element.appendChild(docLink);\n",
              "        }\n",
              "      </script>\n",
              "    </div>\n",
              "  </div>\n",
              "  "
            ]
          },
          "metadata": {},
          "execution_count": 3
        }
      ]
    },
    {
      "cell_type": "markdown",
      "source": [
        "### EDA"
      ],
      "metadata": {
        "id": "2APkgxQgbqTp"
      }
    },
    {
      "cell_type": "code",
      "source": [
        "df.describe()"
      ],
      "metadata": {
        "colab": {
          "base_uri": "https://localhost:8080/",
          "height": 300
        },
        "id": "t7HlpCJ_bmBM",
        "outputId": "bd88f81a-9296-43f4-9bd9-80924afa7e9a"
      },
      "execution_count": null,
      "outputs": [
        {
          "output_type": "execute_result",
          "data": {
            "text/plain": [
              "       sepal length  sepal width  petal length  petal width\n",
              "count    150.000000   150.000000    150.000000   150.000000\n",
              "mean       5.843333     3.054000      3.758667     1.198667\n",
              "std        0.828066     0.433594      1.764420     0.763161\n",
              "min        4.300000     2.000000      1.000000     0.100000\n",
              "25%        5.100000     2.800000      1.600000     0.300000\n",
              "50%        5.800000     3.000000      4.350000     1.300000\n",
              "75%        6.400000     3.300000      5.100000     1.800000\n",
              "max        7.900000     4.400000      6.900000     2.500000"
            ],
            "text/html": [
              "\n",
              "  <div id=\"df-25bd3703-ba59-48ac-9b2b-c20f6ce0ebe6\">\n",
              "    <div class=\"colab-df-container\">\n",
              "      <div>\n",
              "<style scoped>\n",
              "    .dataframe tbody tr th:only-of-type {\n",
              "        vertical-align: middle;\n",
              "    }\n",
              "\n",
              "    .dataframe tbody tr th {\n",
              "        vertical-align: top;\n",
              "    }\n",
              "\n",
              "    .dataframe thead th {\n",
              "        text-align: right;\n",
              "    }\n",
              "</style>\n",
              "<table border=\"1\" class=\"dataframe\">\n",
              "  <thead>\n",
              "    <tr style=\"text-align: right;\">\n",
              "      <th></th>\n",
              "      <th>sepal length</th>\n",
              "      <th>sepal width</th>\n",
              "      <th>petal length</th>\n",
              "      <th>petal width</th>\n",
              "    </tr>\n",
              "  </thead>\n",
              "  <tbody>\n",
              "    <tr>\n",
              "      <th>count</th>\n",
              "      <td>150.000000</td>\n",
              "      <td>150.000000</td>\n",
              "      <td>150.000000</td>\n",
              "      <td>150.000000</td>\n",
              "    </tr>\n",
              "    <tr>\n",
              "      <th>mean</th>\n",
              "      <td>5.843333</td>\n",
              "      <td>3.054000</td>\n",
              "      <td>3.758667</td>\n",
              "      <td>1.198667</td>\n",
              "    </tr>\n",
              "    <tr>\n",
              "      <th>std</th>\n",
              "      <td>0.828066</td>\n",
              "      <td>0.433594</td>\n",
              "      <td>1.764420</td>\n",
              "      <td>0.763161</td>\n",
              "    </tr>\n",
              "    <tr>\n",
              "      <th>min</th>\n",
              "      <td>4.300000</td>\n",
              "      <td>2.000000</td>\n",
              "      <td>1.000000</td>\n",
              "      <td>0.100000</td>\n",
              "    </tr>\n",
              "    <tr>\n",
              "      <th>25%</th>\n",
              "      <td>5.100000</td>\n",
              "      <td>2.800000</td>\n",
              "      <td>1.600000</td>\n",
              "      <td>0.300000</td>\n",
              "    </tr>\n",
              "    <tr>\n",
              "      <th>50%</th>\n",
              "      <td>5.800000</td>\n",
              "      <td>3.000000</td>\n",
              "      <td>4.350000</td>\n",
              "      <td>1.300000</td>\n",
              "    </tr>\n",
              "    <tr>\n",
              "      <th>75%</th>\n",
              "      <td>6.400000</td>\n",
              "      <td>3.300000</td>\n",
              "      <td>5.100000</td>\n",
              "      <td>1.800000</td>\n",
              "    </tr>\n",
              "    <tr>\n",
              "      <th>max</th>\n",
              "      <td>7.900000</td>\n",
              "      <td>4.400000</td>\n",
              "      <td>6.900000</td>\n",
              "      <td>2.500000</td>\n",
              "    </tr>\n",
              "  </tbody>\n",
              "</table>\n",
              "</div>\n",
              "      <button class=\"colab-df-convert\" onclick=\"convertToInteractive('df-25bd3703-ba59-48ac-9b2b-c20f6ce0ebe6')\"\n",
              "              title=\"Convert this dataframe to an interactive table.\"\n",
              "              style=\"display:none;\">\n",
              "        \n",
              "  <svg xmlns=\"http://www.w3.org/2000/svg\" height=\"24px\"viewBox=\"0 0 24 24\"\n",
              "       width=\"24px\">\n",
              "    <path d=\"M0 0h24v24H0V0z\" fill=\"none\"/>\n",
              "    <path d=\"M18.56 5.44l.94 2.06.94-2.06 2.06-.94-2.06-.94-.94-2.06-.94 2.06-2.06.94zm-11 1L8.5 8.5l.94-2.06 2.06-.94-2.06-.94L8.5 2.5l-.94 2.06-2.06.94zm10 10l.94 2.06.94-2.06 2.06-.94-2.06-.94-.94-2.06-.94 2.06-2.06.94z\"/><path d=\"M17.41 7.96l-1.37-1.37c-.4-.4-.92-.59-1.43-.59-.52 0-1.04.2-1.43.59L10.3 9.45l-7.72 7.72c-.78.78-.78 2.05 0 2.83L4 21.41c.39.39.9.59 1.41.59.51 0 1.02-.2 1.41-.59l7.78-7.78 2.81-2.81c.8-.78.8-2.07 0-2.86zM5.41 20L4 18.59l7.72-7.72 1.47 1.35L5.41 20z\"/>\n",
              "  </svg>\n",
              "      </button>\n",
              "      \n",
              "  <style>\n",
              "    .colab-df-container {\n",
              "      display:flex;\n",
              "      flex-wrap:wrap;\n",
              "      gap: 12px;\n",
              "    }\n",
              "\n",
              "    .colab-df-convert {\n",
              "      background-color: #E8F0FE;\n",
              "      border: none;\n",
              "      border-radius: 50%;\n",
              "      cursor: pointer;\n",
              "      display: none;\n",
              "      fill: #1967D2;\n",
              "      height: 32px;\n",
              "      padding: 0 0 0 0;\n",
              "      width: 32px;\n",
              "    }\n",
              "\n",
              "    .colab-df-convert:hover {\n",
              "      background-color: #E2EBFA;\n",
              "      box-shadow: 0px 1px 2px rgba(60, 64, 67, 0.3), 0px 1px 3px 1px rgba(60, 64, 67, 0.15);\n",
              "      fill: #174EA6;\n",
              "    }\n",
              "\n",
              "    [theme=dark] .colab-df-convert {\n",
              "      background-color: #3B4455;\n",
              "      fill: #D2E3FC;\n",
              "    }\n",
              "\n",
              "    [theme=dark] .colab-df-convert:hover {\n",
              "      background-color: #434B5C;\n",
              "      box-shadow: 0px 1px 3px 1px rgba(0, 0, 0, 0.15);\n",
              "      filter: drop-shadow(0px 1px 2px rgba(0, 0, 0, 0.3));\n",
              "      fill: #FFFFFF;\n",
              "    }\n",
              "  </style>\n",
              "\n",
              "      <script>\n",
              "        const buttonEl =\n",
              "          document.querySelector('#df-25bd3703-ba59-48ac-9b2b-c20f6ce0ebe6 button.colab-df-convert');\n",
              "        buttonEl.style.display =\n",
              "          google.colab.kernel.accessAllowed ? 'block' : 'none';\n",
              "\n",
              "        async function convertToInteractive(key) {\n",
              "          const element = document.querySelector('#df-25bd3703-ba59-48ac-9b2b-c20f6ce0ebe6');\n",
              "          const dataTable =\n",
              "            await google.colab.kernel.invokeFunction('convertToInteractive',\n",
              "                                                     [key], {});\n",
              "          if (!dataTable) return;\n",
              "\n",
              "          const docLinkHtml = 'Like what you see? Visit the ' +\n",
              "            '<a target=\"_blank\" href=https://colab.research.google.com/notebooks/data_table.ipynb>data table notebook</a>'\n",
              "            + ' to learn more about interactive tables.';\n",
              "          element.innerHTML = '';\n",
              "          dataTable['output_type'] = 'display_data';\n",
              "          await google.colab.output.renderOutput(dataTable, element);\n",
              "          const docLink = document.createElement('div');\n",
              "          docLink.innerHTML = docLinkHtml;\n",
              "          element.appendChild(docLink);\n",
              "        }\n",
              "      </script>\n",
              "    </div>\n",
              "  </div>\n",
              "  "
            ]
          },
          "metadata": {},
          "execution_count": 4
        }
      ]
    },
    {
      "cell_type": "code",
      "source": [
        "df.info()"
      ],
      "metadata": {
        "colab": {
          "base_uri": "https://localhost:8080/"
        },
        "id": "5NvkV_1Xbyck",
        "outputId": "79526c2f-3efb-49c5-c6fd-db3a1947804e"
      },
      "execution_count": null,
      "outputs": [
        {
          "output_type": "stream",
          "name": "stdout",
          "text": [
            "<class 'pandas.core.frame.DataFrame'>\n",
            "RangeIndex: 150 entries, 0 to 149\n",
            "Data columns (total 5 columns):\n",
            " #   Column        Non-Null Count  Dtype  \n",
            "---  ------        --------------  -----  \n",
            " 0   sepal length  150 non-null    float64\n",
            " 1   sepal width   150 non-null    float64\n",
            " 2   petal length  150 non-null    float64\n",
            " 3   petal width   150 non-null    float64\n",
            " 4   class         150 non-null    object \n",
            "dtypes: float64(4), object(1)\n",
            "memory usage: 6.0+ KB\n"
          ]
        }
      ]
    },
    {
      "cell_type": "markdown",
      "source": [
        "<b> Conclusion: </b> No null values in the dataset<br>\n",
        "<b>Depended Variable </b> Class<br>\n",
        "<b> Independent Variable</b> Sepal Length width petal length width\n",
        "\n"
      ],
      "metadata": {
        "id": "NbVE_fEJb6AQ"
      }
    },
    {
      "cell_type": "code",
      "source": [
        "df[\"class\"].value_counts()"
      ],
      "metadata": {
        "colab": {
          "base_uri": "https://localhost:8080/"
        },
        "id": "DuLKh42qb4MH",
        "outputId": "63cde7b6-3cb8-48e0-c5a2-cf473f3a23cc"
      },
      "execution_count": null,
      "outputs": [
        {
          "output_type": "execute_result",
          "data": {
            "text/plain": [
              "Iris-setosa        50\n",
              "Iris-versicolor    50\n",
              "Iris-virginica     50\n",
              "Name: class, dtype: int64"
            ]
          },
          "metadata": {},
          "execution_count": 6
        }
      ]
    },
    {
      "cell_type": "code",
      "source": [
        "sns.pairplot(df)"
      ],
      "metadata": {
        "colab": {
          "base_uri": "https://localhost:8080/",
          "height": 743
        },
        "id": "izB9qX-CcNuB",
        "outputId": "9791be5d-4702-41bc-8fad-d0a479c608e1"
      },
      "execution_count": null,
      "outputs": [
        {
          "output_type": "execute_result",
          "data": {
            "text/plain": [
              "<seaborn.axisgrid.PairGrid at 0x7f0e92495450>"
            ]
          },
          "metadata": {},
          "execution_count": 7
        },
        {
          "output_type": "display_data",
          "data": {
            "text/plain": [
              "<Figure size 720x720 with 20 Axes>"
            ],
            "image/png": "[encoded data removed]"
          },
          "metadata": {
            "needs_background": "light"
          }
        }
      ]
    },
    {
      "cell_type": "markdown",
      "source": [
        "### Constructing Euclidean Matrix"
      ],
      "metadata": {
        "id": "292X2A3yc2U5"
      }
    },
    {
      "cell_type": "code",
      "source": [
        "def euclidean(x,y):\n",
        "  res = 0\n",
        "  for i in range(len(x)):\n",
        "    res+=(x[i]-y[i])**2\n",
        "  return res**0.5"
      ],
      "metadata": {
        "id": "5vsLqChcdIEz"
      },
      "execution_count": null,
      "outputs": []
    },
    {
      "cell_type": "code",
      "source": [
        "X = np.array(df.drop(columns=[\"class\"]))\n",
        "eucd = np.zeros((X.shape[0],X.shape[0]))\n",
        "for i in range(len(X)):\n",
        "  for j in range(len(X)):\n",
        "    eucd[i][j] = euclidean(X[i],X[j])"
      ],
      "metadata": {
        "id": "kLRA7tDwcdKt"
      },
      "execution_count": null,
      "outputs": []
    },
    {
      "cell_type": "code",
      "source": [
        "d = []\n",
        "for i in  eucd:\n",
        "  d.append(np.count_nonzero(i))\n",
        "d = np.diag(d)"
      ],
      "metadata": {
        "id": "jVLuwaxSdle5"
      },
      "execution_count": null,
      "outputs": []
    },
    {
      "cell_type": "code",
      "source": [
        "L = nx"
      ],
      "metadata": {
        "id": "DjVA0ykAfK9m"
      },
      "execution_count": null,
      "outputs": []
    },
    {
      "cell_type": "code",
      "source": [
        "eigenValues, eigenVectors = np.linalg.eig(L)"
      ],
      "metadata": {
        "id": "7xD7ahbpfXXp"
      },
      "execution_count": null,
      "outputs": []
    },
    {
      "cell_type": "code",
      "source": [
        "idx = eigenValues.argsort()\n",
        "eigenValues = eigenValues[idx]\n",
        "eigenVectors = eigenVectors[:,idx]"
      ],
      "metadata": {
        "id": "miRAxkypfpud"
      },
      "execution_count": null,
      "outputs": []
    },
    {
      "cell_type": "markdown",
      "source": [
        "<b>Inference</b>:<br>\n",
        "1. None of the eigenvalue is zero all are non zero with one negative value.\n",
        "2. Since L is a symmetric matrix all eigen values are Real."
      ],
      "metadata": {
        "id": "mdtf_359EzJn"
      }
    },
    {
      "cell_type": "markdown",
      "source": [
        "The second smallest eigenvalue λ2 tells you about the connectivity of the graph. If the graph has two disconnected components, λ2 = 0. And if λ2 is small, this suggests the graph is nearly disconnected, that it has two components that are not very connected to each other."
      ],
      "metadata": {
        "id": "7TRJsKWXv3-0"
      }
    },
    {
      "cell_type": "code",
      "source": [
        "print(\"Spectral Gap:\",eigenValues[0])"
      ],
      "metadata": {
        "colab": {
          "base_uri": "https://localhost:8080/"
        },
        "id": "qThbmWtOyKev",
        "outputId": "f3ebdcbe-d072-48a9-8cd5-3c158942e5a7"
      },
      "execution_count": null,
      "outputs": [
        {
          "output_type": "stream",
          "name": "stdout",
          "text": [
            "Spectral Gap: -241.5664738776984\n"
          ]
        }
      ]
    },
    {
      "cell_type": "code",
      "source": [
        "fiedler_value = eigenValues[1]\n",
        "fiedler_vector = eigenVectors[1]"
      ],
      "metadata": {
        "id": "R3NZ7DPNfq-d"
      },
      "execution_count": null,
      "outputs": []
    },
    {
      "cell_type": "code",
      "source": [
        "print(\"fiedler_value\",fiedler_value)\n",
        "print(\"--------------------------\")\n",
        "print(\"fiedler_vector\",fiedler_vector)"
      ],
      "metadata": {
        "colab": {
          "base_uri": "https://localhost:8080/"
        },
        "id": "MLbaBEMdvuHt",
        "outputId": "c36a0739-fc90-4a0e-e883-b7d614a326ca"
      },
      "execution_count": null,
      "outputs": [
        {
          "output_type": "stream",
          "name": "stdout",
          "text": [
            "fiedler_value 146.99999999999955\n",
            "--------------------------\n",
            "fiedler_vector [-8.95601845e-02 -1.70967806e-14 -6.05337004e-15 -1.58717200e-01\n",
            "  1.63961176e-15  8.36968703e-05  9.21816689e-03  1.82865248e-02\n",
            " -1.39436488e-02  2.61831439e-01  2.61682591e-04 -1.62438306e-03\n",
            "  4.29696467e-02  4.49526950e-01 -2.59494406e-01 -4.67821571e-01\n",
            "  2.51326960e-03  2.17179988e-01  6.21317293e-02  1.24676524e-04\n",
            "  2.50174112e-04  6.12441592e-05  6.33224339e-02  3.27937716e-04\n",
            " -5.10555634e-05  6.69413048e-05 -4.54780945e-05  3.76202352e-03\n",
            " -6.19427961e-02 -1.57479536e-04  1.84838633e-03 -6.75422729e-02\n",
            " -4.95766536e-03 -1.44376480e-02 -1.19793080e-04 -4.21556779e-04\n",
            "  1.97770857e-04  2.32832067e-02  6.15323045e-05  4.78958128e-04\n",
            " -3.33441234e-02  1.83942662e-04  1.12621718e-01 -2.66883702e-03\n",
            " -6.96180754e-04  1.55180454e-03  1.00910822e-01  4.04631517e-04\n",
            "  2.11970346e-04 -1.78051097e-02  3.29728645e-04  2.89760373e-04\n",
            " -5.46200404e-04 -3.26676333e-03 -3.23820061e-02  4.67670665e-04\n",
            " -2.78424546e-02 -5.85157636e-04 -1.20533222e-03  4.04190776e-03\n",
            "  9.63550385e-03  8.53774315e-02 -7.32944454e-03  1.22912693e-03\n",
            " -1.21402611e-03  3.88057076e-04  4.97183821e-03 -6.89095355e-02\n",
            " -8.87815259e-03 -2.67189531e-03 -2.18120324e-01  1.65375378e-03\n",
            " -8.55995571e-02  2.02501009e-03 -2.30938316e-02 -1.36144135e-01\n",
            "  2.05700762e-04  7.15700932e-03  5.07265286e-04 -7.13727506e-03\n",
            "  6.81433194e-02 -4.41273426e-03  4.18360945e-03  4.39782251e-02\n",
            "  4.22644188e-03  3.89301977e-02  9.44316624e-04  6.36470109e-02\n",
            " -7.19521962e-03 -1.03351650e-02  2.03493030e-03 -7.23961663e-03\n",
            "  5.36158658e-02  5.87331794e-03 -2.65854954e-03 -1.94237929e-02\n",
            "  1.23243983e-02 -3.61275531e-03 -2.87399384e-02  2.91413556e-03\n",
            " -9.26940959e-04 -3.94573287e-03  7.24056587e-04  3.07000933e-03\n",
            " -6.62879806e-02  3.92262950e-02  5.74730639e-03  8.92637386e-04\n",
            "  1.91235126e-03 -1.02964443e-02  4.22374629e-04 -5.68276982e-02\n",
            "  4.07529352e-02  6.68061670e-03 -3.95832358e-02 -8.35540969e-02\n",
            " -3.16006323e-02 -3.81170264e-02  3.11351741e-02 -1.80532581e-02\n",
            "  3.48510654e-02  1.06618075e-01  2.35409580e-01  3.83229925e-03\n",
            "  3.77585556e-02 -2.59454890e-02 -4.69946446e-02  1.25530578e-01\n",
            "  1.09603744e-02 -2.48940159e-03 -2.01240786e-03 -8.24247571e-02\n",
            " -8.64678620e-02 -7.78168254e-03  6.75707020e-02  5.88810883e-02\n",
            " -2.61051987e-03  3.39244266e-02 -2.12888164e-02 -1.99195640e-01\n",
            " -6.26656456e-02  1.76441868e-02 -5.69586402e-02  7.81921765e-03\n",
            " -2.26765301e-02  9.97495034e-02  7.56522778e-02 -5.60644144e-02\n",
            " -1.09132379e-02 -1.08756406e-01]\n"
          ]
        }
      ]
    },
    {
      "cell_type": "code",
      "source": [
        "!pip install networkx"
      ],
      "metadata": {
        "id": "vr1bkWJUx-Gg",
        "colab": {
          "base_uri": "https://localhost:8080/"
        },
        "outputId": "3a0ca917-7167-47b8-c54f-de0babe3c37e"
      },
      "execution_count": null,
      "outputs": [
        {
          "output_type": "stream",
          "name": "stdout",
          "text": [
            "Looking in indexes: https://pypi.org/simple, https://us-python.pkg.dev/colab-wheels/public/simple/\n",
            "Requirement already satisfied: networkx in /usr/local/lib/python3.7/dist-packages (2.6.3)\n"
          ]
        }
      ]
    },
    {
      "cell_type": "code",
      "source": [
        "import networkx as nx"
      ],
      "metadata": {
        "id": "0sY9YO6dFzAN"
      },
      "execution_count": null,
      "outputs": []
    },
    {
      "cell_type": "code",
      "source": [
        "G = nx.Graph()"
      ],
      "metadata": {
        "id": "cN3JvOrMF1cW"
      },
      "execution_count": null,
      "outputs": []
    },
    {
      "cell_type": "code",
      "source": [
        "G = nx.from_numpy_matrix(eucd)"
      ],
      "metadata": {
        "id": "qDgnOVm7F3dI"
      },
      "execution_count": null,
      "outputs": []
    },
    {
      "cell_type": "code",
      "source": [
        "nx.draw(G.subgraph([0,1,2,3,4,5]))"
      ],
      "metadata": {
        "colab": {
          "base_uri": "https://localhost:8080/",
          "height": 319
        },
        "id": "IjrB98X4F8l9",
        "outputId": "ba5ce99d-1052-4fb8-95e4-c4b0230a9a0f"
      },
      "execution_count": null,
      "outputs": [
        {
          "output_type": "display_data",
          "data": {
            "text/plain": [
              "<Figure size 432x288 with 1 Axes>"
            ],
            "image/png": "[encoded data removed]"
          },
          "metadata": {}
        }
      ]
    },
    {
      "cell_type": "code",
      "source": [
        "nx.fiedler_vector(G)"
      ],
      "metadata": {
        "colab": {
          "base_uri": "https://localhost:8080/"
        },
        "id": "eAPNDghhGeri",
        "outputId": "fe462839-482d-4ac1-b484-e5fee8cc320b"
      },
      "execution_count": null,
      "outputs": [
        {
          "output_type": "execute_result",
          "data": {
            "text/plain": [
              "array([-2.42096577e-04, -1.44011453e-04, -1.52642713e-04, -1.35936776e-04,\n",
              "       -2.43787720e-04, -4.68996300e-04, -2.06170420e-04, -2.28237453e-04,\n",
              "       -9.14131489e-05, -1.29695539e-04, -3.11647560e-04, -2.12843391e-04,\n",
              "       -1.04649955e-04, -7.86888668e-05, -2.99509656e-04, -4.19237599e-04,\n",
              "       -3.61912040e-04, -2.81272908e-04, -4.35087385e-04, -3.30358887e-04,\n",
              "       -3.04488013e-04, -3.64589067e-04, -1.71883475e-04, -4.06425439e-04,\n",
              "       -2.38448894e-04, -1.61744451e-04, -3.32532899e-04, -2.66764075e-04,\n",
              "       -2.38245151e-04, -1.66336104e-04, -1.59357091e-04, -3.64899034e-04,\n",
              "       -2.82769234e-04, -3.26872743e-04, -1.29695539e-04, -1.72445171e-04,\n",
              "       -2.62659089e-04, -1.29695539e-04, -1.04224398e-04, -2.40032902e-04,\n",
              "       -2.54540407e-04, -4.82436253e-05, -1.28624035e-04, -4.41766194e-04,\n",
              "       -4.73202486e-04, -1.67848455e-04, -3.06042190e-04, -1.47896716e-04,\n",
              "       -3.02305747e-04, -2.02509147e-04, -1.16657261e-03, -1.15575329e-02,\n",
              "       -9.57003496e-04, -1.05124662e-03, -4.43699064e-03, -1.02421047e-02,\n",
              "       -7.29330896e-03, -3.54482527e-04, -2.24784234e-03, -3.14358225e-03,\n",
              "        6.22369147e-05,  9.53142020e-01,  2.19775553e-04, -9.65391971e-03,\n",
              "       -1.07706823e-02, -4.16530763e-03, -1.57888835e-02, -2.29873248e-03,\n",
              "       -9.66013060e-04, -1.15795581e-03, -6.74420886e-03, -6.34372308e-02,\n",
              "       -4.06560934e-04, -1.86929591e-03, -1.28513083e-02, -5.77792923e-03,\n",
              "       -6.82726351e-04, -1.27916918e-03, -1.38665590e-01, -2.20188032e-03,\n",
              "       -6.42844729e-04, -3.37751479e-04, -1.86997970e-02, -6.97047504e-04,\n",
              "       -6.22704144e-03, -1.46139701e-02, -2.56663873e-03, -7.76285947e-04,\n",
              "       -3.62202358e-02, -2.87028061e-03, -5.64310248e-04, -2.76038102e-02,\n",
              "       -9.63934915e-03, -2.90987612e-04, -1.03849925e-02, -4.67089924e-02,\n",
              "       -2.13269903e-01, -8.41312622e-02, -8.78029155e-04, -9.70297356e-02,\n",
              "       -3.50867027e-04, -1.33769691e-03, -1.37379284e-04, -1.71291657e-04,\n",
              "       -2.88012468e-04, -2.71447668e-06, -8.47055060e-04,  5.22859474e-05,\n",
              "        1.20323010e-04, -2.60280158e-04, -1.76925124e-03, -5.09980206e-04,\n",
              "       -4.51237479e-04, -1.22409416e-03, -1.42567303e-03, -1.16347757e-03,\n",
              "       -3.29438705e-04, -8.71477928e-05,  2.42149150e-05,  2.29758621e-04,\n",
              "       -3.94386346e-04, -2.50583382e-03,  3.76316895e-05, -2.40155101e-03,\n",
              "       -4.11581034e-04, -5.76538245e-05, -5.14060557e-03, -4.78252522e-03,\n",
              "       -3.28169952e-04,  1.94772890e-05,  1.53740710e-05, -9.81705295e-05,\n",
              "       -3.86103248e-04, -4.61408476e-04,  3.91534138e-04, -1.06115275e-04,\n",
              "       -7.17968831e-04, -4.44267769e-04, -7.48322074e-03, -5.75780021e-04,\n",
              "       -5.23626509e-04, -1.04712802e-03, -1.33769691e-03, -2.84114086e-04,\n",
              "       -5.06629686e-04, -1.02457217e-03, -1.08082427e-03, -1.20703999e-03,\n",
              "       -1.07117438e-03, -2.08427703e-03])"
            ]
          },
          "metadata": {},
          "execution_count": 22
        }
      ]
    },
    {
      "cell_type": "markdown",
      "source": [
        "## KNN"
      ],
      "metadata": {
        "id": "KqNWvcEPKxeh"
      }
    },
    {
      "cell_type": "code",
      "source": [
        "knn = np.zeros((150,150))\n",
        "for i in range(len(eucd)):\n",
        "  idx = eucd[i].argsort()[:5]\n",
        "  knn[i][idx] = 1"
      ],
      "metadata": {
        "id": "kqvIBpxsK7Fg"
      },
      "execution_count": null,
      "outputs": []
    },
    {
      "cell_type": "code",
      "source": [
        "D_knn = []\n",
        "for i in knn:\n",
        "  D_knn.append(sum(knn[1]))\n",
        "D_knn = np.diag(D_knn)"
      ],
      "metadata": {
        "id": "LHGA5HDSLoVT"
      },
      "execution_count": null,
      "outputs": []
    },
    {
      "cell_type": "code",
      "source": [
        "L = D_knn - knn"
      ],
      "metadata": {
        "id": "VnXYA2wdL2GB"
      },
      "execution_count": null,
      "outputs": []
    },
    {
      "cell_type": "code",
      "source": [
        "knn_eig_value,knn_eig_vectors = np.linalg.eig(L)"
      ],
      "metadata": {
        "id": "wkUA3YIxMAPE"
      },
      "execution_count": null,
      "outputs": []
    },
    {
      "cell_type": "code",
      "source": [
        "idx_knn = knn_eig_values.argsort()\n",
        "knn_eig_values = knn_eig_values[idx_knn]\n",
        "knn_eig_vectors = knn_eig_vectors[:,idx_knn]"
      ],
      "metadata": {
        "id": "tgBiCO77MGaD"
      },
      "execution_count": null,
      "outputs": []
    },
    {
      "cell_type": "code",
      "source": [
        "print(\"Fiedler Value\",knn_eig_values[2])\n",
        "print(\"Fiedler Vector\",knn_eig_vectors[2])"
      ],
      "metadata": {
        "colab": {
          "base_uri": "https://localhost:8080/"
        },
        "id": "ek3UzSnJNEpZ",
        "outputId": "5296e5e0-2cd1-4d0f-f69b-571030d3ce7a"
      },
      "execution_count": null,
      "outputs": [
        {
          "output_type": "stream",
          "name": "stdout",
          "text": [
            "Fiedler Value (0.009535869979487133+0j)\n",
            "Fiedler Vector [ 0.00000000e+00+0.00000000e+00j  0.00000000e+00+0.00000000e+00j\n",
            "  0.00000000e+00+0.00000000e+00j  0.00000000e+00+0.00000000e+00j\n",
            "  0.00000000e+00+0.00000000e+00j  0.00000000e+00+0.00000000e+00j\n",
            "  0.00000000e+00+0.00000000e+00j  0.00000000e+00+0.00000000e+00j\n",
            " -1.41421356e-01+0.00000000e+00j  1.98494418e-01+0.00000000e+00j\n",
            "  1.82170801e-01+0.00000000e+00j -1.22042689e-03+0.00000000e+00j\n",
            "  2.73521920e-16+0.00000000e+00j -5.01372511e-02+0.00000000e+00j\n",
            "  7.19992092e-02+0.00000000e+00j  3.05714165e-02+0.00000000e+00j\n",
            " -1.10433861e-02-1.20752326e-03j -1.10433861e-02+1.20752326e-03j\n",
            " -4.59784589e-15+0.00000000e+00j  3.02962807e-03+0.00000000e+00j\n",
            "  2.02321221e-02-1.12439091e-02j  2.02321221e-02+1.12439091e-02j\n",
            " -2.02756067e-04+0.00000000e+00j -4.24959122e-02-3.20067095e-01j\n",
            " -4.24959122e-02+3.20067095e-01j  2.82639213e-02+0.00000000e+00j\n",
            "  4.16971079e-15+0.00000000e+00j -3.13897524e-15+0.00000000e+00j\n",
            " -3.39206037e-02+0.00000000e+00j  6.15134431e-15+0.00000000e+00j\n",
            "  5.65417955e-03-7.24038615e-03j  5.65417955e-03+7.24038615e-03j\n",
            "  2.17628033e-16+0.00000000e+00j  3.57373358e-16+0.00000000e+00j\n",
            " -6.94558245e-18+0.00000000e+00j  2.48288538e-16+0.00000000e+00j\n",
            "  1.21422925e-02+9.59515599e-03j  1.21422925e-02-9.59515599e-03j\n",
            " -3.41921737e-16+0.00000000e+00j -1.31095781e-01+1.10923925e-01j\n",
            " -1.31095781e-01-1.10923925e-01j  8.78375758e-17+0.00000000e+00j\n",
            "  5.94677882e-02-1.11709571e-01j  5.94677882e-02+1.11709571e-01j\n",
            "  9.61397031e-03+0.00000000e+00j  7.50483506e-15+0.00000000e+00j\n",
            "  3.95276700e-16+0.00000000e+00j  7.01448377e-17+0.00000000e+00j\n",
            "  3.10099321e-02+1.34251481e-02j  3.10099321e-02-1.34251481e-02j\n",
            " -1.71673291e-16+0.00000000e+00j -4.74349412e-16+0.00000000e+00j\n",
            " -5.55067874e-16+0.00000000e+00j  2.63797448e-16+0.00000000e+00j\n",
            " -4.24728850e-16+0.00000000e+00j  8.89939046e-16+0.00000000e+00j\n",
            "  1.19035648e-01+6.36431593e-03j  1.19035648e-01-6.36431593e-03j\n",
            "  6.38070262e-15+0.00000000e+00j  2.59916125e-16+0.00000000e+00j\n",
            "  1.19370301e-14+0.00000000e+00j -5.87450710e-13+0.00000000e+00j\n",
            "  4.23103926e-16+0.00000000e+00j  2.59451614e-15+9.09277466e-22j\n",
            "  2.59451614e-15-9.09277466e-22j -7.50337944e-02+0.00000000e+00j\n",
            " -1.58342259e-16+0.00000000e+00j -1.22834644e-17-3.61998294e-17j\n",
            " -1.22834644e-17+3.61998294e-17j -1.00626072e-16-1.63906049e-16j\n",
            " -1.00626072e-16+1.63906049e-16j -7.17635571e-17+0.00000000e+00j\n",
            "  1.04261197e-15+0.00000000e+00j  2.74758380e-27+0.00000000e+00j\n",
            "  9.63418541e-17+0.00000000e+00j  5.73169338e-16+0.00000000e+00j\n",
            "  5.01482316e-16+0.00000000e+00j -8.01579354e-16+1.89864213e-15j\n",
            " -8.01579354e-16-1.89864213e-15j -7.88291577e-16+8.15351518e-16j\n",
            " -7.88291577e-16-8.15351518e-16j  1.77725987e-15-3.37805641e-16j\n",
            "  1.77725987e-15+3.37805641e-16j -5.04345999e-16-9.99557383e-16j\n",
            " -5.04345999e-16+9.99557383e-16j  3.59510760e-15-7.52093462e-15j\n",
            "  3.59510760e-15+7.52093462e-15j  1.37189517e-16+0.00000000e+00j\n",
            " -7.58862767e-15-2.04578006e-15j -7.58862767e-15+2.04578006e-15j\n",
            "  1.06152537e-15+0.00000000e+00j -2.39397252e-14+0.00000000e+00j\n",
            " -2.82401718e-15+9.83378770e-16j -1.52494838e-15+0.00000000e+00j\n",
            " -2.82401718e-15-9.83378770e-16j -5.21979394e-15+0.00000000e+00j\n",
            " -7.95258278e-15+5.06613975e-15j -7.95258278e-15-5.06613975e-15j\n",
            " -2.61725989e-15+0.00000000e+00j  8.15777489e-16-1.25289167e-15j\n",
            "  8.15777489e-16+1.25289167e-15j -2.89543424e-15-7.86519349e-16j\n",
            " -2.89543424e-15+7.86519349e-16j -3.04456254e-15+0.00000000e+00j\n",
            " -1.94920873e-15+2.81432122e-15j -1.94920873e-15-2.81432122e-15j\n",
            " -2.58841478e-06-4.48392893e-06j -2.58841478e-06+4.48392893e-06j\n",
            " -5.17677987e-06+0.00000000e+00j -2.37127079e-15+8.52689533e-16j\n",
            " -2.37127079e-15-8.52689533e-16j  2.27220222e-15+4.34579577e-15j\n",
            "  2.27220222e-15-4.34579577e-15j  2.55164983e-15+0.00000000e+00j\n",
            "  2.05477354e-14+0.00000000e+00j  1.06205882e-09+0.00000000e+00j\n",
            "  1.17244152e-13+0.00000000e+00j -2.83775297e-28+0.00000000e+00j\n",
            "  2.88339784e-28+0.00000000e+00j -3.46383946e-02+0.00000000e+00j\n",
            " -2.83704850e-02+0.00000000e+00j  3.18800019e-29+0.00000000e+00j\n",
            " -3.28400401e-29+0.00000000e+00j -5.88464064e-08+0.00000000e+00j\n",
            "  5.88650274e-08+0.00000000e+00j  2.03733408e-08+0.00000000e+00j\n",
            " -2.37296058e-08+0.00000000e+00j -2.03733404e-08+0.00000000e+00j\n",
            "  2.37295742e-08+0.00000000e+00j -1.44876632e-02+0.00000000e+00j\n",
            "  2.07809382e-03+0.00000000e+00j -5.88856285e-02+0.00000000e+00j\n",
            " -2.52244280e-32+0.00000000e+00j  1.38003632e-02+0.00000000e+00j\n",
            "  5.05294381e-03+0.00000000e+00j  1.69707942e-04+0.00000000e+00j\n",
            "  2.29189816e-02+0.00000000e+00j -3.47740313e-02+0.00000000e+00j\n",
            "  2.24572307e-02+0.00000000e+00j -1.41757157e-02+0.00000000e+00j\n",
            " -8.74295499e-03+0.00000000e+00j -2.97573794e-03+5.76557107e-03j\n",
            " -2.97573794e-03-5.76557107e-03j  2.05110885e-02+0.00000000e+00j\n",
            "  1.61357939e-02+0.00000000e+00j  1.87558611e-02+0.00000000e+00j\n",
            "  1.42485775e-02+0.00000000e+00j  1.06088443e-02+0.00000000e+00j\n",
            " -1.08951073e-02+0.00000000e+00j -9.33390078e-03+0.00000000e+00j]\n"
          ]
        }
      ]
    },
    {
      "cell_type": "markdown",
      "source": [
        "<b>Inference</b>\n",
        "1. First 2 eigen values are zero"
      ],
      "metadata": {
        "id": "j4rClsaKMW0X"
      }
    },
    {
      "cell_type": "code",
      "source": [
        "Gknn = nx.from_numpy_matrix(knn)"
      ],
      "metadata": {
        "id": "je75ioi6MKBo"
      },
      "execution_count": null,
      "outputs": []
    },
    {
      "cell_type": "code",
      "source": [
        "nx.draw(Gknn.subgraph([0,1,2,3,4,5]))"
      ],
      "metadata": {
        "colab": {
          "base_uri": "https://localhost:8080/",
          "height": 319
        },
        "id": "Ls905g6GNnta",
        "outputId": "fd7344c2-c52e-41ab-b1c4-16c94dd751ae"
      },
      "execution_count": null,
      "outputs": [
        {
          "output_type": "display_data",
          "data": {
            "text/plain": [
              "<Figure size 432x288 with 1 Axes>"
            ],
            "image/png": "[encoded data removed]"
          },
          "metadata": {}
        }
      ]
    },
    {
      "cell_type": "code",
      "source": [
        "nx.algebraic_connectivity(Gknn)"
      ],
      "metadata": {
        "colab": {
          "base_uri": "https://localhost:8080/"
        },
        "id": "hLIk3khqNuC5",
        "outputId": "9a861a31-bfa0-4134-accc-a03a7deacd90"
      },
      "execution_count": null,
      "outputs": [
        {
          "output_type": "execute_result",
          "data": {
            "text/plain": [
              "0.0"
            ]
          },
          "metadata": {},
          "execution_count": 31
        }
      ]
    },
    {
      "cell_type": "code",
      "source": [
        "from sklearn.cluster import KMeans"
      ],
      "metadata": {
        "id": "pI7CjDPgO9OT"
      },
      "execution_count": null,
      "outputs": []
    },
    {
      "cell_type": "code",
      "source": [
        "kmeans = KMeans(n_clusters=3)"
      ],
      "metadata": {
        "id": "LBoc77tBU54t"
      },
      "execution_count": null,
      "outputs": []
    },
    {
      "cell_type": "code",
      "source": [
        "kmeans.fit(X)"
      ],
      "metadata": {
        "colab": {
          "base_uri": "https://localhost:8080/"
        },
        "id": "pDcnbbRwU8TS",
        "outputId": "2d6e0561-ec95-4ba4-cf95-110e82697a8b"
      },
      "execution_count": null,
      "outputs": [
        {
          "output_type": "execute_result",
          "data": {
            "text/plain": [
              "KMeans(n_clusters=3)"
            ]
          },
          "metadata": {},
          "execution_count": 42
        }
      ]
    },
    {
      "cell_type": "code",
      "source": [
        "kmeans.cluster_centers_"
      ],
      "metadata": {
        "colab": {
          "base_uri": "https://localhost:8080/"
        },
        "id": "HLfk01APU-gN",
        "outputId": "3c6916b6-5028-406f-efc9-f592c9199fae"
      },
      "execution_count": null,
      "outputs": [
        {
          "output_type": "execute_result",
          "data": {
            "text/plain": [
              "array([[5.9016129 , 2.7483871 , 4.39354839, 1.43387097],\n",
              "       [5.006     , 3.418     , 1.464     , 0.244     ],\n",
              "       [6.85      , 3.07368421, 5.74210526, 2.07105263]])"
            ]
          },
          "metadata": {},
          "execution_count": 43
        }
      ]
    },
    {
      "cell_type": "code",
      "source": [
        "kmeans.labels_"
      ],
      "metadata": {
        "colab": {
          "base_uri": "https://localhost:8080/"
        },
        "id": "rcKzS1ceVJGL",
        "outputId": "74e05f9c-b7f4-4f98-cfc6-e0429b9e8b27"
      },
      "execution_count": null,
      "outputs": [
        {
          "output_type": "execute_result",
          "data": {
            "text/plain": [
              "array([1, 1, 1, 1, 1, 1, 1, 1, 1, 1, 1, 1, 1, 1, 1, 1, 1, 1, 1, 1, 1, 1,\n",
              "       1, 1, 1, 1, 1, 1, 1, 1, 1, 1, 1, 1, 1, 1, 1, 1, 1, 1, 1, 1, 1, 1,\n",
              "       1, 1, 1, 1, 1, 1, 0, 0, 2, 0, 0, 0, 0, 0, 0, 0, 0, 0, 0, 0, 0, 0,\n",
              "       0, 0, 0, 0, 0, 0, 0, 0, 0, 0, 0, 2, 0, 0, 0, 0, 0, 0, 0, 0, 0, 0,\n",
              "       0, 0, 0, 0, 0, 0, 0, 0, 0, 0, 0, 0, 2, 0, 2, 2, 2, 2, 0, 2, 2, 2,\n",
              "       2, 2, 2, 0, 0, 2, 2, 2, 2, 0, 2, 0, 2, 0, 2, 2, 0, 0, 2, 2, 2, 2,\n",
              "       2, 0, 2, 2, 2, 2, 0, 2, 2, 2, 0, 2, 2, 2, 0, 2, 2, 0], dtype=int32)"
            ]
          },
          "metadata": {},
          "execution_count": 44
        }
      ]
    },
    {
      "cell_type": "code",
      "source": [],
      "metadata": {
        "id": "ydh0NS3lVMrp"
      },
      "execution_count": null,
      "outputs": []
    }
  ]
}