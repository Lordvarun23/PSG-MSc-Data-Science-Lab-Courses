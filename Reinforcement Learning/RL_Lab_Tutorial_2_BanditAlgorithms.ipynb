{
  "nbformat": 4,
  "nbformat_minor": 0,
  "metadata": {
    "colab": {
      "provenance": []
    },
    "kernelspec": {
      "name": "python3",
      "display_name": "Python 3"
    },
    "language_info": {
      "name": "python"
    }
  },
  "cells": [
    {
      "cell_type": "markdown",
      "source": [
        "<center><h1> Reinforcement Learning Lab Problem Sheet - 2 - Bandit Algorithms</h1></center>\n",
        "<hr><font size=4>\n",
        "1. Incremental Uniform. This algorithm repeatedly loops through the arms\n",
        "pulling each arm once each time through the loop. The number of pulls for any\n",
        "two arms will never differ by more than 1. The average rewards for each arm\n",
        "are tracked and for the simple regret objective, the arm with the best average\n",
        "reward is returned as the best arm.</font>"
      ],
      "metadata": {
        "id": "pnDfJeAb0Frc"
      }
    },
    {
      "cell_type": "code",
      "source": [
        "#Importing libraries\n",
        "import random\n",
        "import numpy as np\n",
        "import matplotlib.pyplot as plt"
      ],
      "metadata": {
        "id": "_Yl-bePfYQts"
      },
      "execution_count": null,
      "outputs": []
    },
    {
      "cell_type": "code",
      "execution_count": null,
      "metadata": {
        "id": "qo5l4tWiz5IF"
      },
      "outputs": [],
      "source": [
        "class Arm:\n",
        "  '''\n",
        "  Class to define the nature of arm\n",
        "  reward distribution etc\n",
        "  '''\n",
        "  def __init__(self,mean=None,std=None,distribution=None):\n",
        "    '''\n",
        "    Constructor function to define class members\n",
        "    :params None\n",
        "    :return None\n",
        "    '''\n",
        "    #Characteristics of distribution\n",
        "    if mean!=None and std!=None and distribution!=None:\n",
        "      self.mean = mean\n",
        "      self.std = std\n",
        "      self.reward_distribution = distribution\n",
        "\n",
        "    else:\n",
        "      self.mean = random.randint(1,10) #Mean of the distribution\n",
        "      self.std = random.randint(1,100)\n",
        "      self.reward_distribution = random.choice(['normal','uniform'])\n",
        "\n",
        "    #choosing the distribution\n",
        "    self.Qt = 0 #running average of the rewards\n",
        "    self.t = 0 #tracking the time steps\n",
        "\n",
        "  def simulate(self):\n",
        "    '''\n",
        "    Simulate trials for arm\n",
        "    :params None\n",
        "    :return None\n",
        "    '''\n",
        "    #Drawing a sample from the reward distribution\n",
        "    if self.reward_distribution=='normal':\n",
        "      reward = np.random.normal(self.mean,self.std)\n",
        "    elif self.reward_distribution == 'poisson':\n",
        "      reward = np.random.poisson(1/(self.mean))\n",
        "    else:+\n",
        "      reward = np.random.uniform(min(self.mean,self.std),max(self.mean,self.std)+1)\n",
        "\n",
        "    print(\"Reward:\",round(reward,3),\" Qt at time step:\",self.t,\"is:\",round(self.Qt,3))\n",
        "\n",
        "    #updating the running average and time steps\n",
        "    self.Qt = self.Qt + ((1/(self.t+1))*(reward - self.Qt))\n",
        "    self.t +=1"
      ]
    },
    {
      "cell_type": "code",
      "source": [
        "num_arms   = int(input(\"Enter no of arms you want to play with:\"))\n",
        "\n",
        "#maintaining the count of each arm is picked to ensure The number of pulls for any two arms will never differ by more than 1.\n",
        "count_tracker = {}\n",
        "for arm in range(num_arms):\n",
        "  count_tracker[arm] = 0\n",
        "\n",
        "#creating objects aka initalising reward dstribution to each arm\n",
        "bandit_arms = []\n",
        "for arm in range(num_arms):\n",
        "  bandit_arms.append(Arm())\n",
        "\n",
        "time_steps = int(input(\"No of time steps to simulate:\"))\n",
        "print()\n",
        "for time_step_i in range(time_steps):\n",
        "\n",
        "  if time_step_i == 0: #at time step zero i choose a arm randomly\n",
        "    arm = random.choice([i for i in range(num_arms)])\n",
        "    print(\"At time step:\",time_step_i,\"Choosen arm:\",arm)\n",
        "    bandit_arms[arm].simulate()\n",
        "    count_tracker[arm] += 1\n",
        "    print(\"-\"*40)\n",
        "\n",
        "  else: #for all other time steps i choose the arm with max qt - greedy strategy\n",
        "    Qt_arms = np.array([arm.Qt for arm in bandit_arms])\n",
        "    print(Qt_arms)\n",
        "    max_Qt_idx = np.argmax(Qt_arms)\n",
        "\n",
        "    #if all the arm played then set them to 0\n",
        "    if sum(list(count_tracker.values())) == num_arms:\n",
        "      for arm in range(num_arms):\n",
        "        count_tracker[arm] = 0\n",
        "\n",
        "    #if the max qt is already picked then choose any other arm randomly\n",
        "    #in order to avoid number of pulls for any two arms will differing by more than 1.\n",
        "    elif count_tracker[max_Qt_idx] == 1:\n",
        "      while count_tracker[max_Qt_idx]==1:\n",
        "        max_Qt_idx = random.choice([i for i in range(num_arms)])\n",
        "\n",
        "    print(\"At time step:\",time_step_i,\"Choosen arm:\",max_Qt_idx)\n",
        "    bandit_arms[max_Qt_idx].simulate()\n",
        "    count_tracker[max_Qt_idx] += 1\n",
        "    print(\"-\"*40)"
      ],
      "metadata": {
        "id": "JWp1f9e70Ta5",
        "colab": {
          "base_uri": "https://localhost:8080/"
        },
        "outputId": "071895c7-72f3-4b1e-c345-936676e9fc8a"
      },
      "execution_count": null,
      "outputs": [
        {
          "output_type": "stream",
          "name": "stdout",
          "text": [
            "Enter no of arms you want to play with:3\n",
            "No of time steps to simulate:10\n",
            "\n",
            "At time step: 0 Choosen arm: 1\n",
            "Reward: 42.761  Qt at time step: 0 is: 0\n",
            "----------------------------------------\n",
            "[ 0.         42.76076006  0.        ]\n",
            "At time step: 1 Choosen arm: 2\n",
            "Reward: 75.956  Qt at time step: 0 is: 0\n",
            "----------------------------------------\n",
            "[ 0.         42.76076006 75.95559035]\n",
            "At time step: 2 Choosen arm: 0\n",
            "Reward: 30.936  Qt at time step: 0 is: 0\n",
            "----------------------------------------\n",
            "[30.93594435 42.76076006 75.95559035]\n",
            "At time step: 3 Choosen arm: 2\n",
            "Reward: 17.093  Qt at time step: 1 is: 75.956\n",
            "----------------------------------------\n",
            "[30.93594435 42.76076006 46.52429326]\n",
            "At time step: 4 Choosen arm: 0\n",
            "Reward: 18.464  Qt at time step: 1 is: 30.936\n",
            "----------------------------------------\n",
            "[24.69989618 42.76076006 46.52429326]\n",
            "At time step: 5 Choosen arm: 1\n",
            "Reward: 27.038  Qt at time step: 1 is: 42.761\n",
            "----------------------------------------\n",
            "[24.69989618 34.89962527 46.52429326]\n",
            "At time step: 6 Choosen arm: 2\n",
            "Reward: 31.571  Qt at time step: 2 is: 46.524\n",
            "----------------------------------------\n",
            "[24.69989618 34.89962527 41.53972606]\n",
            "At time step: 7 Choosen arm: 1\n",
            "Reward: 32.154  Qt at time step: 2 is: 34.9\n",
            "----------------------------------------\n",
            "[24.69989618 33.98430495 41.53972606]\n",
            "At time step: 8 Choosen arm: 0\n",
            "Reward: 39.699  Qt at time step: 2 is: 24.7\n",
            "----------------------------------------\n",
            "[29.69960197 33.98430495 41.53972606]\n",
            "At time step: 9 Choosen arm: 2\n",
            "Reward: 66.865  Qt at time step: 3 is: 41.54\n",
            "----------------------------------------\n"
          ]
        }
      ]
    },
    {
      "cell_type": "code",
      "source": [
        "plt.bar([i for i in range(num_arms)],[arm.Qt for arm in bandit_arms],color=tuple([0.5]*3),edgecolor='green')\n",
        "plt.xlabel(\"Arms\")\n",
        "plt.ylabel(\"Expected rewards\")\n",
        "plt.title(\"Estimated Q Values after t trials\")\n",
        "plt.xticks(range(num_arms), ['Arm {}'.format(i) for i in range(num_arms)])\n",
        "plt.show()"
      ],
      "metadata": {
        "colab": {
          "base_uri": "https://localhost:8080/",
          "height": 472
        },
        "id": "sAE-Rk0ujWfJ",
        "outputId": "16c25d27-180d-41da-d7d7-ee1162b576a3"
      },
      "execution_count": null,
      "outputs": [
        {
          "output_type": "display_data",
          "data": {
            "text/plain": [
              "<Figure size 640x480 with 1 Axes>"
            ],
            "image/png": "[encoded data removed]"
          },
          "metadata": {}
        }
      ]
    },
    {
      "cell_type": "code",
      "source": [
        "params = [(arm.mean,arm.std,arm.reward_distribution) for arm in bandit_arms]\n",
        "print(params)"
      ],
      "metadata": {
        "colab": {
          "base_uri": "https://localhost:8080/"
        },
        "id": "uPdAsCUBdY48",
        "outputId": "57a02460-8d66-41b4-b633-02e5f3ac5ce6"
      },
      "execution_count": null,
      "outputs": [
        {
          "output_type": "stream",
          "name": "stdout",
          "text": [
            "[(1, 54, 'uniform'), (10, 67, 'uniform'), (3, 87, 'uniform')]\n"
          ]
        }
      ]
    },
    {
      "cell_type": "markdown",
      "source": [
        "<hr><font size=4>\n",
        "2. (ε) epsilon-Greedy. This is the -Greedy algorithm from the course notes,\n",
        "where 0 &lt; ε &lt; 1 is a parameter to the algorithm. The arm that currently looks\n",
        "best is selected with probability and otherwise a random arm is selected from\n",
        "among the other arms. Note that if there are k arms, then the (1/k)-Greedy\n",
        "algorithm will behave very much like Incremental Uniform, it is just a\n",
        "randomized version of that approach.</font>"
      ],
      "metadata": {
        "id": "ygpf1ISfhgkn"
      }
    },
    {
      "cell_type": "code",
      "source": [
        "eps   = float(input(\"Enter epsilon:\"))\n",
        "mnstd = True\n",
        "if mnstd:\n",
        "  #creating objects aka initalising reward dstribution to each arm\n",
        "  num_arms   = len(params)\n",
        "  bandit_arms = []\n",
        "  for arm in range(num_arms):\n",
        "    bandit_arms.append(Arm(params[arm][0],params[arm][1],params[i][2]))\n",
        "else:\n",
        "  num_arms   = int(input(\"Enter no of arms you want to play with:\"))\n",
        "  bandit_arms = []\n",
        "  for arm in range(num_arms):\n",
        "    bandit_arms.append(Arm())\n",
        "\n",
        "time_steps = int(input(\"No of time steps to simulate:\"))\n",
        "print()\n",
        "for time_step_i in range(time_steps):\n",
        "\n",
        "  if time_step_i == 0: #at time step zero i choose a arm randomly\n",
        "    arm = random.choice([i for i in range(num_arms)])\n",
        "    print(\"At time step:\",time_step_i,\"Choosen arm:\",arm)\n",
        "    bandit_arms[arm].simulate()\n",
        "    print(\"-\"*40)\n",
        "\n",
        "  else: #for all other time steps i choose the arm with max qt - greedy strategy\n",
        "    probability_eps = random.randrange(1)\n",
        "    Qt_arms = np.array([arm.Qt for arm in bandit_arms])\n",
        "    print(Qt_arms)\n",
        "    if probability_eps>=eps:\n",
        "      max_Qt_idx = np.argmax(Qt_arms)\n",
        "    else:\n",
        "        max_Qt_idx = random.choice([i for i in range(num_arms)])\n",
        "\n",
        "    print(\"At time step:\",time_step_i,\"Choosen arm:\",max_Qt_idx)\n",
        "    bandit_arms[max_Qt_idx].simulate()\n",
        "    print(\"-\"*40)"
      ],
      "metadata": {
        "id": "txdFsJGgcrcQ",
        "colab": {
          "base_uri": "https://localhost:8080/"
        },
        "outputId": "e8ff557d-12bb-40d1-e93c-92d5338d217f"
      },
      "execution_count": null,
      "outputs": [
        {
          "output_type": "stream",
          "name": "stdout",
          "text": [
            "Enter epsilon:0.6\n",
            "No of time steps to simulate:10\n",
            "\n",
            "At time step: 0 Choosen arm: 1\n",
            "Reward: 29.397  Qt at time step: 0 is: 0\n",
            "----------------------------------------\n",
            "[ 0.         29.39727934  0.        ]\n",
            "At time step: 1 Choosen arm: 0\n",
            "Reward: 22.284  Qt at time step: 0 is: 0\n",
            "----------------------------------------\n",
            "[22.28389974 29.39727934  0.        ]\n",
            "At time step: 2 Choosen arm: 1\n",
            "Reward: 11.958  Qt at time step: 1 is: 29.397\n",
            "----------------------------------------\n",
            "[22.28389974 20.67778806  0.        ]\n",
            "At time step: 3 Choosen arm: 0\n",
            "Reward: 24.795  Qt at time step: 1 is: 22.284\n",
            "----------------------------------------\n",
            "[23.53946612 20.67778806  0.        ]\n",
            "At time step: 4 Choosen arm: 1\n",
            "Reward: 24.753  Qt at time step: 2 is: 20.678\n",
            "----------------------------------------\n",
            "[23.53946612 22.03605479  0.        ]\n",
            "At time step: 5 Choosen arm: 0\n",
            "Reward: 34.857  Qt at time step: 2 is: 23.539\n",
            "----------------------------------------\n",
            "[27.31188034 22.03605479  0.        ]\n",
            "At time step: 6 Choosen arm: 2\n",
            "Reward: 35.835  Qt at time step: 0 is: 0\n",
            "----------------------------------------\n",
            "[27.31188034 22.03605479 35.83532068]\n",
            "At time step: 7 Choosen arm: 2\n",
            "Reward: 25.544  Qt at time step: 1 is: 35.835\n",
            "----------------------------------------\n",
            "[27.31188034 22.03605479 30.6897087 ]\n",
            "At time step: 8 Choosen arm: 1\n",
            "Reward: 14.302  Qt at time step: 3 is: 22.036\n",
            "----------------------------------------\n",
            "[27.31188034 20.1024814  30.6897087 ]\n",
            "At time step: 9 Choosen arm: 1\n",
            "Reward: 14.464  Qt at time step: 4 is: 20.102\n",
            "----------------------------------------\n"
          ]
        }
      ]
    },
    {
      "cell_type": "code",
      "source": [
        "plt.bar([i for i in range(num_arms)],[arm.Qt for arm in bandit_arms],color=tuple([0.5]*num_arms),edgecolor='green')\n",
        "plt.xlabel(\"Arms\")\n",
        "plt.ylabel(\"Expected rewards\")\n",
        "plt.title(\"Estimated Q Values after t trials\")\n",
        "plt.xticks(range(num_arms), ['Arm {}'.format(i) for i in range(num_arms)])\n",
        "plt.show()"
      ],
      "metadata": {
        "colab": {
          "base_uri": "https://localhost:8080/",
          "height": 472
        },
        "id": "J1Ksa2F3whdy",
        "outputId": "a7986060-5e27-4ca2-c27c-65223bf0799a"
      },
      "execution_count": null,
      "outputs": [
        {
          "output_type": "display_data",
          "data": {
            "text/plain": [
              "<Figure size 640x480 with 1 Axes>"
            ],
            "image/png": "[encoded data removed]"
          },
          "metadata": {}
        }
      ]
    },
    {
      "cell_type": "markdown",
      "source": [
        "<hr><font size=4>\n",
        "3. UCB. This is the UCB algorithm from the notes. In the case of simple regret,\n",
        "when asked to return the best arm, UCB returns the arm that accumulated the\n",
        "largest average reward (it ignores the exploration term of the UCB rule for\n",
        "picking the best arm).</font>"
      ],
      "metadata": {
        "id": "U-Y3hvR5xTfy"
      }
    },
    {
      "cell_type": "code",
      "source": [
        "c = float(input(\"Enter constant c of UCB value:\"))\n",
        "\n",
        "#creating objects aka initalising reward dstribution to each arm\n",
        "mnstd = True\n",
        "if mnstd:\n",
        "  num_arms   = len(params)\n",
        "  #creating objects aka initalising reward dstribution to each arm\n",
        "  bandit_arms = []\n",
        "  for arm in range(num_arms):\n",
        "    bandit_arms.append(Arm(params[arm][0],params[arm][1],params[i][2]))\n",
        "else:\n",
        "  num_arms   = int(input(\"Enter no of arms you want to play with:\"))\n",
        "  bandit_arms = []\n",
        "  for arm in range(num_arms):\n",
        "    bandit_arms.append(Arm())\n",
        "\n",
        "#maintaining the count of each arm is picked\n",
        "count_tracker = {}\n",
        "for arm in range(num_arms):\n",
        "  count_tracker[arm] = 0\n",
        "\n",
        "time_steps = int(input(\"No of time steps to simulate:\"))\n",
        "print()\n",
        "for time_step_i in range(time_steps):\n",
        "\n",
        "  if time_step_i == 0: #at time step zero i choose a arm randomly\n",
        "    for arm in range(num_arms):\n",
        "      bandit_arms[arm].simulate()\n",
        "      count_tracker[arm] += 1\n",
        "      print(\"-\"*40)\n",
        "\n",
        "  else: #for all other time steps i choose the arm with max qt - greedy strategy\n",
        "    Qt_arms = np.array([arm.Qt for arm in bandit_arms])\n",
        "    for i in range(len(Qt_arms)):\n",
        "      Qt_arms[i] = Qt_arms[i] + c*((np.log(time_step_i)/count_tracker[i])**0.5)\n",
        "\n",
        "    print(Qt_arms)\n",
        "    max_Qt_idx = np.argmax(Qt_arms)\n",
        "\n",
        "    print(\"At time step:\",time_step_i,\"Choosen arm:\",max_Qt_idx)\n",
        "    bandit_arms[max_Qt_idx].simulate()\n",
        "    count_tracker[max_Qt_idx] += 1\n",
        "    print(\"-\"*40)"
      ],
      "metadata": {
        "colab": {
          "base_uri": "https://localhost:8080/"
        },
        "id": "Mj2yrlqCxPha",
        "outputId": "49e2569e-03c4-4714-df94-158a33b376c1"
      },
      "execution_count": null,
      "outputs": [
        {
          "output_type": "stream",
          "name": "stdout",
          "text": [
            "Enter constant c of UCB value:0.2\n",
            "No of time steps to simulate:10\n",
            "\n",
            "Reward: 26.797  Qt at time step: 0 is: 0\n",
            "----------------------------------------\n",
            "Reward: 57.882  Qt at time step: 0 is: 0\n",
            "----------------------------------------\n",
            "Reward: 83.467  Qt at time step: 0 is: 0\n",
            "----------------------------------------\n",
            "[26.79673634 57.88241415 83.46660555]\n",
            "At time step: 1 Choosen arm: 2\n",
            "Reward: 61.064  Qt at time step: 1 is: 83.467\n",
            "----------------------------------------\n",
            "[26.96324726 58.04892507 72.38322595]\n",
            "At time step: 2 Choosen arm: 2\n",
            "Reward: 71.023  Qt at time step: 2 is: 72.265\n",
            "----------------------------------------\n",
            "[27.00636575 58.09204356 71.97247371]\n",
            "At time step: 3 Choosen arm: 2\n",
            "Reward: 59.212  Qt at time step: 3 is: 71.851\n",
            "----------------------------------------\n",
            "[27.03221834 58.11789615 68.80925641]\n",
            "At time step: 4 Choosen arm: 2\n",
            "Reward: 4.874  Qt at time step: 4 is: 68.692\n",
            "----------------------------------------\n",
            "[27.05046359 58.1361414  56.04141503]\n",
            "At time step: 5 Choosen arm: 1\n",
            "Reward: 50.814  Qt at time step: 1 is: 57.882\n",
            "----------------------------------------\n",
            "[27.06444958 54.53753525 56.04766975]\n",
            "At time step: 6 Choosen arm: 2\n",
            "Reward: 24.782  Qt at time step: 5 is: 55.928\n",
            "----------------------------------------\n",
            "[27.07572811 54.54551037 50.85086291]\n",
            "At time step: 7 Choosen arm: 1\n",
            "Reward: 34.689  Qt at time step: 2 is: 54.348\n",
            "----------------------------------------\n",
            "[27.08514172 47.96172082 50.854706  ]\n",
            "At time step: 8 Choosen arm: 2\n",
            "Reward: 58.819  Qt at time step: 6 is: 50.737\n",
            "----------------------------------------\n",
            "[27.0931971  47.96637159 52.00353591]\n",
            "At time step: 9 Choosen arm: 2\n",
            "Reward: 54.555  Qt at time step: 7 is: 51.891\n",
            "----------------------------------------\n"
          ]
        }
      ]
    },
    {
      "cell_type": "code",
      "source": [
        "plt.bar([i for i in range(num_arms)],[arm.Qt for arm in bandit_arms],color=tuple([0.5]*num_arms),edgecolor='green')\n",
        "plt.xlabel(\"Arms\")\n",
        "plt.ylabel(\"Expected rewards\")\n",
        "plt.title(\"Estimated Q Values after t trials\")\n",
        "plt.xticks(range(num_arms), ['Arm {}'.format(i) for i in range(num_arms)])\n",
        "plt.show()"
      ],
      "metadata": {
        "colab": {
          "base_uri": "https://localhost:8080/",
          "height": 472
        },
        "id": "aqZolXVn1wPj",
        "outputId": "161409eb-2762-45db-aed4-6126890ce3fa"
      },
      "execution_count": null,
      "outputs": [
        {
          "output_type": "display_data",
          "data": {
            "text/plain": [
              "<Figure size 640x480 with 1 Axes>"
            ],
            "image/png": "[encoded data removed]"
          },
          "metadata": {}
        }
      ]
    },
    {
      "cell_type": "markdown",
      "source": [
        "<hr>\n",
        "<hr>"
      ],
      "metadata": {
        "id": "-BwUy6f3g8iH"
      }
    }
  ]
}