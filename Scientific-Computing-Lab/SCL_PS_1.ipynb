{
  "nbformat": 4,
  "nbformat_minor": 0,
  "metadata": {
    "colab": {
      "provenance": [],
      "collapsed_sections": []
    },
    "kernelspec": {
      "name": "python3",
      "display_name": "Python 3"
    },
    "language_info": {
      "name": "python"
    }
  },
  "cells": [
    {
      "cell_type": "markdown",
      "source": [
        "<b>Write a python program to find augmented matrix corresponding to\n",
        "the following linear system. </b><br>\n",
        "<ol><li><br>\n",
        "2x + 3y = 7<br>\n",
        "5x + 7y = 5<br>\n",
        "</li><li><br>\n",
        "15x + 3y + 5z = 1<br>\n",
        "12x + 5y + 7z = 2<br>\n",
        "17x + 7y + 9z = 3<br></li>"
      ],
      "metadata": {
        "id": "U4aJw3dyaBPp"
      }
    },
    {
      "cell_type": "code",
      "execution_count": null,
      "metadata": {
        "colab": {
          "base_uri": "https://localhost:8080/"
        },
        "id": "O-EKQjj7Z8ny",
        "outputId": "fab87968-053b-440e-e091-c4184dba6610"
      },
      "outputs": [
        {
          "output_type": "stream",
          "name": "stdout",
          "text": [
            "Enter the coeff values of eqn 1\n",
            "Enter coefficient:2\n",
            "Enter coefficient:3\n",
            "Enter the rhs values of the eqn:7\n",
            "Enter the coeff values of eqn 2\n",
            "Enter coefficient:5\n",
            "Enter coefficient:7\n",
            "Enter the rhs values of the eqn:5\n",
            "[[2, 3, 7], [5, 7, 5]]\n",
            "Enter the coeff values of eqn 1\n",
            "Enter coefficient:15\n",
            "Enter coefficient:3\n",
            "Enter coefficient:5\n",
            "Enter the rhs values of the eqn:1\n",
            "Enter the coeff values of eqn 2\n",
            "Enter coefficient:12\n",
            "Enter coefficient:5\n",
            "Enter coefficient:7\n",
            "Enter the rhs values of the eqn:2\n",
            "Enter the coeff values of eqn 3\n",
            "Enter coefficient:17\n",
            "Enter coefficient:7\n",
            "Enter coefficient:9\n",
            "Enter the rhs values of the eqn:3\n",
            "[[15, 3, 5, 1], [12, 5, 7, 2], [17, 7, 9, 3]]\n"
          ]
        }
      ],
      "source": [
        "def aug_matrix(n):\n",
        "  mat = []\n",
        "  for i in range(n):\n",
        "    print(\"Enter the coeff values of eqn\",i+1)\n",
        "    temp = []\n",
        "    for i in range(n):\n",
        "      x = int(input(\"Enter coefficient:\"))\n",
        "      temp.append(x)\n",
        "    temp.append(int(input(\"Enter the rhs values of the eqn:\")))\n",
        "    mat.append(temp)\n",
        "  print(mat)\n",
        "aug_matrix(2)\n",
        "aug_matrix(3)"
      ]
    },
    {
      "cell_type": "markdown",
      "source": [
        "<b>Write a python program to check which of the following matrices are\n",
        "in REF or RREF.</b><br>"
      ],
      "metadata": {
        "id": "6fs26mQOb0o7"
      }
    },
    {
      "cell_type": "code",
      "source": [
        "#REF properties:\n",
        "#the first non zero entry in any row must be 1 and is called leading one\n",
        "def iscon1(mat):\n",
        "  for i in range(len(mat)):\n",
        "    for i in mat[i]:\n",
        "      if i==0:\n",
        "        continue\n",
        "      elif i==1:\n",
        "        break\n",
        "      else:\n",
        "        return False\n",
        "  return iscon2(mat)\n",
        "\n",
        "#If there are any rows that consist entirely of zeros, then they are grouped together at the bottom of the matrix.\n",
        "def iscon2(A):\n",
        "  iszero = []\n",
        "  isnonero = []\n",
        "  for i in range(len(A)):\n",
        "      if A[i].count(0) != len(A[i]):\n",
        "          isnonero.append(i)\n",
        "      else:\n",
        "          iszero.append(i)\n",
        "  if len(iszero)==0:\n",
        "      return iscon3(A,isnonero)\n",
        "  for i in range(len(iszero)-1):\n",
        "    if (iszero[i]+1) == iszero[i+1]:\n",
        "      continue\n",
        "    else:\n",
        "      return False\n",
        "  return iscon3(A,isnonero)\n",
        "\n",
        "#In any two successive rows that do not consist entirely of zeros, the leading 1 in the lower row \n",
        "#occurs farther to the right than the leading 1 in the higher row.\n",
        "\n",
        "def iscon3(A,n):\n",
        "  flag = True\n",
        "  for i in range(len(n)-1):\n",
        "      if A[n[i]].index(1)<=A[n[i+1]].index(1):\n",
        "          flag = True\n",
        "          continue\n",
        "      else:\n",
        "          flag = False\n",
        "          break\n",
        "  return flag\n",
        "\n",
        "#The leading entry in each row must be the only non-zero number in its column.\n",
        "def iscon4(mat):\n",
        "  isnonero = []\n",
        "  for i in range(len(mat)):\n",
        "      if mat[i].count(0) != len(mat[i]):\n",
        "          isnonero.append(i)\n",
        "  for i in range(len(isnonero)):\n",
        "    col = mat[i].index(1)\n",
        "    for j in range(len(isnonero)):\n",
        "      if mat[j][col]==0:\n",
        "        continue\n",
        "      else:\n",
        "        return False\n",
        "    return True\n",
        "\n",
        "def checker(n,m):\n",
        "  '''\n",
        "  n: no of rows\n",
        "  m: no of columns\n",
        "  '''\n",
        "  mat = []\n",
        "  mat = []\n",
        "  for i in range(n):\n",
        "    print(\"Enter the values of matrix of row\",i+1)\n",
        "    temp = []\n",
        "    for i in range(m):\n",
        "      x = int(input(\"Enter:\"))\n",
        "      temp.append(x)\n",
        "    mat.append(temp)\n",
        "  \n",
        "  #rref\n",
        "  if iscon1(mat):\n",
        "    if iscon4(mat):\n",
        "      print(\"The given matrix is in Reduced Row Echelon Form\")\n",
        "    else:\n",
        "      print(\"The given matrix is not in Reduced Row Echleon Form\")\n",
        "  else:\n",
        "    print(\"The given matrix is not in Row Echleon Form\")\n",
        "\n",
        "\n",
        "checker(2,3)\n"
      ],
      "metadata": {
        "colab": {
          "base_uri": "https://localhost:8080/"
        },
        "id": "VxsTP76Kc8Ze",
        "outputId": "7944144e-9bdc-4234-80c6-0f61fb986873"
      },
      "execution_count": null,
      "outputs": [
        {
          "output_type": "stream",
          "name": "stdout",
          "text": [
            "Enter the values of matrix of row 1\n",
            "Enter:1\n",
            "Enter:1\n",
            "Enter:4\n",
            "Enter the values of matrix of row 2\n",
            "Enter:0\n",
            "Enter:1\n",
            "Enter:3\n",
            "The given matrix is not in Reduced Row Echleon Form\n"
          ]
        }
      ]
    }
  ]
}