{
  "nbformat": 4,
  "nbformat_minor": 0,
  "metadata": {
    "colab": {
      "provenance": []
    },
    "kernelspec": {
      "name": "python3",
      "display_name": "Python 3"
    },
    "language_info": {
      "name": "python"
    }
  },
  "cells": [
    {
      "cell_type": "code",
      "execution_count": null,
      "metadata": {
        "id": "TIq2iCmNSYIW"
      },
      "outputs": [],
      "source": [
        "import pandas as pd\n",
        "import numpy as np\n",
        "\n",
        "df = pd.read_csv(\"Iris.csv\")\n",
        "df = df[:100]"
      ]
    },
    {
      "cell_type": "code",
      "source": [
        "df[\"Species\"] = df[\"Species\"].apply(lambda x: 1 if x==\"Iris-setosa\" else 0)"
      ],
      "metadata": {
        "id": "xUVqjZMBS3DE"
      },
      "execution_count": null,
      "outputs": []
    },
    {
      "cell_type": "code",
      "source": [
        "x = [[1]*100]\n",
        "for i in ['SepalLengthCm', 'SepalWidthCm', 'PetalLengthCm', 'PetalWidthCm']:\n",
        "  temp = []\n",
        "  for j in df[i]:\n",
        "    temp.append(j)\n",
        "  x.append(temp)\n",
        "x= np.array(x)\n",
        "x = x.T\n",
        "t = []\n",
        "for i in x:\n",
        "  t.append(list(i))\n",
        "x = t\n",
        "print(x)"
      ],
      "metadata": {
        "colab": {
          "base_uri": "https://localhost:8080/"
        },
        "id": "scGuYlymS3tn",
        "outputId": "f2798180-4975-4c3f-cd2d-4f12ba628f48"
      },
      "execution_count": null,
      "outputs": [
        {
          "output_type": "stream",
          "name": "stdout",
          "text": [
            "[[1.0, 5.1, 3.5, 1.4, 0.2], [1.0, 4.9, 3.0, 1.4, 0.2], [1.0, 4.7, 3.2, 1.3, 0.2], [1.0, 4.6, 3.1, 1.5, 0.2], [1.0, 5.0, 3.6, 1.4, 0.2], [1.0, 5.4, 3.9, 1.7, 0.4], [1.0, 4.6, 3.4, 1.4, 0.3], [1.0, 5.0, 3.4, 1.5, 0.2], [1.0, 4.4, 2.9, 1.4, 0.2], [1.0, 4.9, 3.1, 1.5, 0.1], [1.0, 5.4, 3.7, 1.5, 0.2], [1.0, 4.8, 3.4, 1.6, 0.2], [1.0, 4.8, 3.0, 1.4, 0.1], [1.0, 4.3, 3.0, 1.1, 0.1], [1.0, 5.8, 4.0, 1.2, 0.2], [1.0, 5.7, 4.4, 1.5, 0.4], [1.0, 5.4, 3.9, 1.3, 0.4], [1.0, 5.1, 3.5, 1.4, 0.3], [1.0, 5.7, 3.8, 1.7, 0.3], [1.0, 5.1, 3.8, 1.5, 0.3], [1.0, 5.4, 3.4, 1.7, 0.2], [1.0, 5.1, 3.7, 1.5, 0.4], [1.0, 4.6, 3.6, 1.0, 0.2], [1.0, 5.1, 3.3, 1.7, 0.5], [1.0, 4.8, 3.4, 1.9, 0.2], [1.0, 5.0, 3.0, 1.6, 0.2], [1.0, 5.0, 3.4, 1.6, 0.4], [1.0, 5.2, 3.5, 1.5, 0.2], [1.0, 5.2, 3.4, 1.4, 0.2], [1.0, 4.7, 3.2, 1.6, 0.2], [1.0, 4.8, 3.1, 1.6, 0.2], [1.0, 5.4, 3.4, 1.5, 0.4], [1.0, 5.2, 4.1, 1.5, 0.1], [1.0, 5.5, 4.2, 1.4, 0.2], [1.0, 4.9, 3.1, 1.5, 0.1], [1.0, 5.0, 3.2, 1.2, 0.2], [1.0, 5.5, 3.5, 1.3, 0.2], [1.0, 4.9, 3.1, 1.5, 0.1], [1.0, 4.4, 3.0, 1.3, 0.2], [1.0, 5.1, 3.4, 1.5, 0.2], [1.0, 5.0, 3.5, 1.3, 0.3], [1.0, 4.5, 2.3, 1.3, 0.3], [1.0, 4.4, 3.2, 1.3, 0.2], [1.0, 5.0, 3.5, 1.6, 0.6], [1.0, 5.1, 3.8, 1.9, 0.4], [1.0, 4.8, 3.0, 1.4, 0.3], [1.0, 5.1, 3.8, 1.6, 0.2], [1.0, 4.6, 3.2, 1.4, 0.2], [1.0, 5.3, 3.7, 1.5, 0.2], [1.0, 5.0, 3.3, 1.4, 0.2], [1.0, 7.0, 3.2, 4.7, 1.4], [1.0, 6.4, 3.2, 4.5, 1.5], [1.0, 6.9, 3.1, 4.9, 1.5], [1.0, 5.5, 2.3, 4.0, 1.3], [1.0, 6.5, 2.8, 4.6, 1.5], [1.0, 5.7, 2.8, 4.5, 1.3], [1.0, 6.3, 3.3, 4.7, 1.6], [1.0, 4.9, 2.4, 3.3, 1.0], [1.0, 6.6, 2.9, 4.6, 1.3], [1.0, 5.2, 2.7, 3.9, 1.4], [1.0, 5.0, 2.0, 3.5, 1.0], [1.0, 5.9, 3.0, 4.2, 1.5], [1.0, 6.0, 2.2, 4.0, 1.0], [1.0, 6.1, 2.9, 4.7, 1.4], [1.0, 5.6, 2.9, 3.6, 1.3], [1.0, 6.7, 3.1, 4.4, 1.4], [1.0, 5.6, 3.0, 4.5, 1.5], [1.0, 5.8, 2.7, 4.1, 1.0], [1.0, 6.2, 2.2, 4.5, 1.5], [1.0, 5.6, 2.5, 3.9, 1.1], [1.0, 5.9, 3.2, 4.8, 1.8], [1.0, 6.1, 2.8, 4.0, 1.3], [1.0, 6.3, 2.5, 4.9, 1.5], [1.0, 6.1, 2.8, 4.7, 1.2], [1.0, 6.4, 2.9, 4.3, 1.3], [1.0, 6.6, 3.0, 4.4, 1.4], [1.0, 6.8, 2.8, 4.8, 1.4], [1.0, 6.7, 3.0, 5.0, 1.7], [1.0, 6.0, 2.9, 4.5, 1.5], [1.0, 5.7, 2.6, 3.5, 1.0], [1.0, 5.5, 2.4, 3.8, 1.1], [1.0, 5.5, 2.4, 3.7, 1.0], [1.0, 5.8, 2.7, 3.9, 1.2], [1.0, 6.0, 2.7, 5.1, 1.6], [1.0, 5.4, 3.0, 4.5, 1.5], [1.0, 6.0, 3.4, 4.5, 1.6], [1.0, 6.7, 3.1, 4.7, 1.5], [1.0, 6.3, 2.3, 4.4, 1.3], [1.0, 5.6, 3.0, 4.1, 1.3], [1.0, 5.5, 2.5, 4.0, 1.3], [1.0, 5.5, 2.6, 4.4, 1.2], [1.0, 6.1, 3.0, 4.6, 1.4], [1.0, 5.8, 2.6, 4.0, 1.2], [1.0, 5.0, 2.3, 3.3, 1.0], [1.0, 5.6, 2.7, 4.2, 1.3], [1.0, 5.7, 3.0, 4.2, 1.2], [1.0, 5.7, 2.9, 4.2, 1.3], [1.0, 6.2, 2.9, 4.3, 1.3], [1.0, 5.1, 2.5, 3.0, 1.1], [1.0, 5.7, 2.8, 4.1, 1.3]]\n"
          ]
        }
      ]
    },
    {
      "cell_type": "code",
      "source": [
        "d = len(x[0])\n",
        "n = len(x)\n",
        "w = [0.1,0.2, 0.3, -0.1,0.05]"
      ],
      "metadata": {
        "id": "-kMIZl6OS3v0"
      },
      "execution_count": null,
      "outputs": []
    },
    {
      "cell_type": "code",
      "source": [
        "y = []\n",
        "y = list(df[\"Species\"])\n"
      ],
      "metadata": {
        "id": "x_B3DT_DS3x0"
      },
      "execution_count": null,
      "outputs": []
    },
    {
      "cell_type": "code",
      "source": [
        "z = []\n",
        "for i in w:\n",
        "    z.append(i)\n",
        "z"
      ],
      "metadata": {
        "colab": {
          "base_uri": "https://localhost:8080/"
        },
        "id": "1ZWshTNRS3zZ",
        "outputId": "94a430c4-7014-4f00-d0d5-b9adf90ca42e"
      },
      "execution_count": null,
      "outputs": [
        {
          "output_type": "execute_result",
          "data": {
            "text/plain": [
              "[0.1, 0.2, 0.3, -0.1, 0.05]"
            ]
          },
          "metadata": {},
          "execution_count": 7
        }
      ]
    },
    {
      "cell_type": "code",
      "source": [
        "import math\n",
        "def sigmoid(x):\n",
        "  return 1/(1+math.exp(-x))\n",
        "def sigmoid_derivative(x):\n",
        "  return x*(1-x)"
      ],
      "metadata": {
        "id": "QFOM8LVFTCrB"
      },
      "execution_count": null,
      "outputs": []
    },
    {
      "cell_type": "code",
      "source": [
        "l=1\n",
        "while l<10000:\n",
        "    l += 1\n",
        "    yHat = []\n",
        "    wTx = []\n",
        "    for i in range(n):\n",
        "        k = 0\n",
        "        for j in range(d):\n",
        "            k += x[i][j] * w[j]\n",
        "        if sigmoid(k) >= 0.5:\n",
        "            yHat.append(1)\n",
        "        else:\n",
        "            yHat.append(0)\n",
        "        for j in range(d):\n",
        "            w[j] = w[j] - sigmoid_derivative(sigmoid(k))\n",
        "        wTx.append(k)\n",
        "    if z == w:\n",
        "        break\n",
        "    z = []\n",
        "    for i in w:\n",
        "        z.append(i)\n",
        "w"
      ],
      "metadata": {
        "colab": {
          "base_uri": "https://localhost:8080/"
        },
        "id": "bYAH_5wrS30U",
        "outputId": "510da305-185f-46fa-a2f8-04137d10ba32"
      },
      "execution_count": null,
      "outputs": [
        {
          "output_type": "execute_result",
          "data": {
            "text/plain": [
              "[-1.721122998793297,\n",
              " -1.6211229987932874,\n",
              " -1.5211229987932924,\n",
              " -1.9211229987933036,\n",
              " -1.771122998793299]"
            ]
          },
          "metadata": {},
          "execution_count": 31
        }
      ]
    },
    {
      "cell_type": "code",
      "source": [
        "print(\"num of epochs : \", l)\n",
        "\n",
        "print(\"yHat => \", w[0], end = \" + \")\n",
        "for j in range(1, d):\n",
        "    print(f'{w[j]}x{j}', end = \"\")\n",
        "    if j != d:\n",
        "        print(end = \" + \")\n",
        "print(\" = 0\")"
      ],
      "metadata": {
        "colab": {
          "base_uri": "https://localhost:8080/"
        },
        "id": "h5F_6x6SS3Gt",
        "outputId": "ca6eff2f-704b-4966-e8ed-b5c6d54e9d3d"
      },
      "execution_count": null,
      "outputs": [
        {
          "output_type": "stream",
          "name": "stdout",
          "text": [
            "num of epochs :  10000\n",
            "yHat =>  -1.721122998793297 + -1.6211229987932874x1 + -1.5211229987932924x2 + -1.9211229987933036x3 + -1.771122998793299x4 +  = 0\n"
          ]
        }
      ]
    },
    {
      "cell_type": "code",
      "source": [
        "def predict(x,w):\n",
        "  t = 0 \n",
        "  for i in range(len(x)):\n",
        "    t+=x[i]*w[i]\n",
        "  if t>0:\n",
        "    return 1\n",
        "  else: \n",
        "    return 0"
      ],
      "metadata": {
        "id": "QhSfQWlhXZiE"
      },
      "execution_count": null,
      "outputs": []
    },
    {
      "cell_type": "code",
      "source": [
        "pred = []\n",
        "for i in x:\n",
        "  pred.append(predict(i,w))\n",
        "\n"
      ],
      "metadata": {
        "id": "LpJ1wSvbXxIv"
      },
      "execution_count": null,
      "outputs": []
    },
    {
      "cell_type": "code",
      "source": [
        "correct = 0\n",
        "for i in range(len(y)):\n",
        "  if y[i]==pred[i]:\n",
        "    correct+=1\n",
        "  else:\n",
        "    continue"
      ],
      "metadata": {
        "id": "uwgWvFqcXxK1"
      },
      "execution_count": null,
      "outputs": []
    },
    {
      "cell_type": "code",
      "source": [
        "accuracy = correct/len(y)\n",
        "print(\"Accuracy od our model is: \",accuracy*100)"
      ],
      "metadata": {
        "colab": {
          "base_uri": "https://localhost:8080/"
        },
        "id": "lmzWtPKEXy4F",
        "outputId": "6424b403-a07f-4a94-a71e-3a3c9594efa3"
      },
      "execution_count": null,
      "outputs": [
        {
          "output_type": "stream",
          "name": "stdout",
          "text": [
            "Accuracy od our model is:  50.0\n"
          ]
        }
      ]
    },
    {
      "cell_type": "code",
      "source": [],
      "metadata": {
        "id": "o5A3fiJSX2sl"
      },
      "execution_count": null,
      "outputs": []
    }
  ]
}